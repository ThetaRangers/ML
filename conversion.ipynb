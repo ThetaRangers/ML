{
 "cells": [
  {
   "cell_type": "code",
   "execution_count": 10,
   "metadata": {
    "collapsed": true,
    "pycharm": {
     "name": "#%%\n"
    }
   },
   "outputs": [],
   "source": [
    "import os.path\n",
    "from tqdm.notebook import tqdm\n",
    "from pydub import AudioSegment\n",
    "from pathlib import Path"
   ]
  },
  {
   "cell_type": "code",
   "execution_count": null,
   "outputs": [
    {
     "data": {
      "text/plain": "  0%|          | 0/7854 [00:00<?, ?it/s]",
      "application/vnd.jupyter.widget-view+json": {
       "version_major": 2,
       "version_minor": 0,
       "model_id": "3a6036059c1d4fb4ac7ca8601411c761"
      }
     },
     "metadata": {},
     "output_type": "display_data"
    }
   ],
   "source": [
    "\n",
    "files = os.listdir('data/tracks')\n",
    "Path(\"data/tracks_wav\").mkdir(parents=True, exist_ok=True)\n",
    "\n",
    "for file in tqdm(files):\n",
    "    mp3_audio = AudioSegment.from_file(\"data/tracks/\" + file, format=\"mp3\").set_channels(1)  # read mp3\n",
    "    pre, ext = os.path.splitext(file)\n",
    "    new_filename = \"data/tracks_wav/\" + pre + \".wav\"\n",
    "    file_wav = open(new_filename, 'w')\n",
    "    mp3_audio.export(new_filename, format=\"wav\")  # convert to wav"
   ],
   "metadata": {
    "collapsed": false,
    "pycharm": {
     "name": "#%%\n",
     "is_executing": true
    }
   }
  }
 ],
 "metadata": {
  "kernelspec": {
   "display_name": "Python 3",
   "language": "python",
   "name": "python3"
  },
  "language_info": {
   "codemirror_mode": {
    "name": "ipython",
    "version": 2
   },
   "file_extension": ".py",
   "mimetype": "text/x-python",
   "name": "python",
   "nbconvert_exporter": "python",
   "pygments_lexer": "ipython2",
   "version": "2.7.6"
  }
 },
 "nbformat": 4,
 "nbformat_minor": 0
}