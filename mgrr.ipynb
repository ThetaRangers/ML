{
 "cells": [
  {
   "cell_type": "raw",
   "source": [
    "# Music Genre Recognition Report\n",
    "## Confronto tra vari classificathor"
   ],
   "metadata": {
    "collapsed": false,
    "pycharm": {
     "name": ""
    }
   }
  },
  {
   "cell_type": "code",
   "execution_count": 7,
   "outputs": [
    {
     "ename": "SyntaxError",
     "evalue": "unterminated string literal (detected at line 3) (1389778729.py, line 3)",
     "output_type": "error",
     "traceback": [
      "\u001B[0;36m  Input \u001B[0;32mIn [7]\u001B[0;36m\u001B[0m\n\u001B[0;31m    Diversi metodi presentati nei paper analizzati. Molti si basano su spettrgrammi. In particolare si utilizzano i mel-spectrogram. Questi sono un degli spettrogrammi con frequenze convertite nella scala mel. Questo viene fatto perché studi hanno dimostrato che l'orecchio umano non riesce a percepire le frequenze nello stesso modo. Per esempio siamo in grado di percepire la differenza tra 500Hz e 1000Hz, tuttavia risulta essere più difficile percepire la differenza tra 10,000Hz e 10,500Hz, anche se la distanza è la stessa.\u001B[0m\n\u001B[0m                                                                                                                                                                                                                                                                        ^\u001B[0m\n\u001B[0;31mSyntaxError\u001B[0m\u001B[0;31m:\u001B[0m unterminated string literal (detected at line 3)\n"
     ]
    }
   ],
   "source": [
    "import music_plots"
   ],
   "metadata": {
    "collapsed": false,
    "pycharm": {
     "name": "#%%\n"
    }
   }
  },
  {
   "cell_type": "markdown",
   "source": [
    "## Introduzione\n",
    "\n",
    "Diversi metodi presentati nei paper analizzati. Molti si basano su spettrgrammi. In particolare si utilizzano i mel-spectrogram. Questi sono un degli spettrogrammi con frequenze convertite nella scala mel. Questo viene fatto perché studi hanno dimostrato che l'orecchio umano non riesce a percepire le frequenze nello stesso modo. Per esempio siamo in grado di percepire la differenza tra 500Hz e 1000Hz, tuttavia risulta essere più difficile percepire la differenza tra 10,000Hz e 10,500Hz, anche se la distanza è la stessa.\n",
    "\n",
    "Nel 1937, Stevens, Volkmann e Newmann proposero un'unità d'intonazione tale che distanze uguali suonassero ugualmente distanti per l'ascoltatore. Questa è chiamata scala mel.\n",
    "\n",
    "<div>\n",
    "<img src=\"mel_scale.png\" width=\"500\"/>\n",
    "</div>\n",
    "\n",
    "\n",
    "I Mel-Spectrogram sono spettrogrammi dove le viene applicata la scala mel alle frequenze"
   ],
   "metadata": {
    "collapsed": false,
    "pycharm": {
     "name": "#%% md\n"
    }
   }
  },
  {
   "cell_type": "code",
   "execution_count": null,
   "outputs": [],
   "source": [
    "music_plots.plot_mel_spectrogram(\"data/tracks_wav/000204.wav\")"
   ],
   "metadata": {
    "collapsed": false,
    "pycharm": {
     "name": "#%%\n"
    }
   }
  },
  {
   "cell_type": "markdown",
   "source": [],
   "metadata": {
    "collapsed": false,
    "pycharm": {
     "name": "#%% md\n"
    }
   }
  }
 ],
 "metadata": {
  "kernelspec": {
   "display_name": "Python 3",
   "language": "python",
   "name": "python3"
  },
  "language_info": {
   "codemirror_mode": {
    "name": "ipython",
    "version": 2
   },
   "file_extension": ".py",
   "mimetype": "text/x-python",
   "name": "python",
   "nbconvert_exporter": "python",
   "pygments_lexer": "ipython2",
   "version": "2.7.6"
  }
 },
 "nbformat": 4,
 "nbformat_minor": 0
}