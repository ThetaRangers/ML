{
 "cells": [
  {
   "cell_type": "code",
   "execution_count": 1,
   "metadata": {
    "collapsed": true,
    "pycharm": {
     "name": "#%%\n"
    }
   },
   "outputs": [],
   "source": [
    "import matplotlib.pyplot as plt\n",
    "import seaborn as sns\n",
    "\n",
    "import keras\n",
    "from keras import layers\n",
    "from keras.models import Sequential\n",
    "from keras.layers import Dense, Conv2D , MaxPool2D , Flatten , Dropout\n",
    "from keras.preprocessing.image import ImageDataGenerator\n",
    "from keras.optimizers import Adam\n",
    "\n",
    "from sklearn.metrics import classification_report,confusion_matrix\n",
    "\n",
    "import tensorflow as tf\n",
    "\n",
    "import os\n",
    "from tqdm.notebook import tqdm\n",
    "from pathlib import Path\n",
    "import shutil\n",
    "\n",
    "\n",
    "from music_plots import *\n",
    "import numpy as np"
   ]
  },
  {
   "cell_type": "code",
   "execution_count": 2,
   "outputs": [],
   "source": [
    "files = os.listdir('data/spectrograms')\n",
    "tracks_df = load(\"data/tracks.csv\")\n",
    "genres_df = load(\"data/genres.csv\")"
   ],
   "metadata": {
    "collapsed": false,
    "pycharm": {
     "name": "#%%\n"
    }
   }
  },
  {
   "cell_type": "code",
   "execution_count": 2,
   "outputs": [],
   "source": [],
   "metadata": {
    "collapsed": false,
    "pycharm": {
     "name": "#%%\n"
    }
   }
  },
  {
   "cell_type": "code",
   "execution_count": 3,
   "outputs": [
    {
     "name": "stdout",
     "output_type": "stream",
     "text": [
      "['98236.png', '18350.png', '93363.png', '98550.png', '46238.png', '75194.png', '68853.png', '97887.png', '38902.png', '98578.png', '14542.png', '55293.png', '37416.png', '27611.png', '67235.png', '55287.png', '67553.png', '27177.png', '90695.png', '97844.png', '70775.png', '14581.png', '72604.png', '61491.png', '26902.png', '81565.png', '15476.png', '75396.png', '87100.png', '39188.png', '18146.png', '63292.png', '53379.png', '96743.png', '34484.png', '94632.png', '59654.png', '11638.png', '14740.png', '13749.png', '61452.png', '60994.png', '75427.png', '44822.png', '69768.png', '71133.png', '75433.png', '63251.png', '60758.png', '64516.png', '39605.png', '20432.png', '24898.png', '59683.png', '91164.png', '43022.png', '98626.png', '11764.png', '52649.png', '45335.png', '59708.png', '41147.png', '18032.png', '11770.png', '91170.png', '36481.png', '91158.png', '12537.png', '59720.png', '54576.png', '94034.png', '16745.png', '93983.png', '62749.png', '63457.png', '64338.png', '38321.png', '75221.png', '71721.png', '136091.png', '114556.png', '124481.png', '112133.png', '127188.png', '131932.png', '123488.png', '145043.png', '104779.png', '147126.png', '122999.png', '126241.png', '135229.png', '142089.png', '136708.png', '125774.png', '133102.png', '141594.png', '132793.png', '132787.png', '109711.png', '138282.png', '108341.png', '124873.png', '145241.png', '108427.png', '132963.png', '105671.png', '134447.png', '113946.png', '141972.png', '129402.png', '125238.png', '134453.png', '121738.png', '127349.png', '137172.png', '126719.png', '132778.png', '137166.png', '123932.png', '110452.png', '111994.png', '117473.png', '113167.png', '124913.png', '140259.png', '121664.png', '144942.png', '120208.png', '133274.png', '709.png', '4786.png', '9513.png', '4037.png', '4779.png', '6608.png', '6387.png', '6393.png', '4235.png', '1417.png']\n"
     ]
    },
    {
     "data": {
      "text/plain": "  0%|          | 0/140 [00:00<?, ?it/s]",
      "application/vnd.jupyter.widget-view+json": {
       "version_major": 2,
       "version_minor": 0,
       "model_id": "05e20fd789934225b492b4e9b0e300d6"
      }
     },
     "metadata": {},
     "output_type": "display_data"
    }
   ],
   "source": [
    "track_ids = []\n",
    "print(files)\n",
    "for file in tqdm(files):\n",
    "    pre, ext = os.path.splitext(file)\n",
    "    track_ids.append(int(pre))"
   ],
   "metadata": {
    "collapsed": false,
    "pycharm": {
     "name": "#%%\n"
    }
   }
  },
  {
   "cell_type": "code",
   "execution_count": 4,
   "outputs": [
    {
     "data": {
      "text/plain": "track_id\n98236     Instrumental\n18350             Folk\n93363       Electronic\n98550          Hip-Hop\n46238     Experimental\n             ...      \n6608           Hip-Hop\n6387     International\n6393     International\n4235     International\n1417              Rock\nName: genre_top, Length: 140, dtype: category\nCategories (16, object): ['Blues', 'Classical', 'Country', 'Easy Listening', ..., 'Pop', 'Rock', 'Soul-RnB', 'Spoken']"
     },
     "execution_count": 4,
     "metadata": {},
     "output_type": "execute_result"
    }
   ],
   "source": [
    "#tracks_df.columns = pd.MultiIndex.from_product([['track'],['id']])\n",
    "filtered_tracks = tracks_df.xs('track', level=0, axis=1)['genre_top'].loc[track_ids]\n",
    "filtered_tracks"
   ],
   "metadata": {
    "collapsed": false,
    "pycharm": {
     "name": "#%%\n"
    }
   }
  },
  {
   "cell_type": "markdown",
   "source": [
    "Some tracks don't have a genre"
   ],
   "metadata": {
    "collapsed": false,
    "pycharm": {
     "name": "#%% md\n"
    }
   }
  },
  {
   "cell_type": "code",
   "execution_count": 5,
   "outputs": [
    {
     "data": {
      "text/plain": "False"
     },
     "execution_count": 5,
     "metadata": {},
     "output_type": "execute_result"
    }
   ],
   "source": [
    "filtered_tracks.isna().any()"
   ],
   "metadata": {
    "collapsed": false,
    "pycharm": {
     "name": "#%%\n"
    }
   }
  },
  {
   "cell_type": "markdown",
   "source": [
    "Check all top level genres"
   ],
   "metadata": {
    "collapsed": false,
    "pycharm": {
     "name": "#%% md\n"
    }
   }
  },
  {
   "cell_type": "code",
   "execution_count": 6,
   "outputs": [
    {
     "data": {
      "text/plain": "['Instrumental', 'Folk', 'Electronic', 'Hip-Hop', 'Experimental', 'Pop', 'Rock', 'International']\nCategories (16, object): ['Blues', 'Classical', 'Country', 'Easy Listening', ..., 'Pop', 'Rock', 'Soul-RnB', 'Spoken']"
     },
     "execution_count": 6,
     "metadata": {},
     "output_type": "execute_result"
    }
   ],
   "source": [
    "filtered_tracks.unique()"
   ],
   "metadata": {
    "collapsed": false,
    "pycharm": {
     "name": "#%%\n"
    }
   }
  },
  {
   "cell_type": "code",
   "execution_count": 7,
   "outputs": [
    {
     "data": {
      "text/plain": "'Folk'"
     },
     "execution_count": 7,
     "metadata": {},
     "output_type": "execute_result"
    }
   ],
   "source": [
    "filtered_tracks.loc[4037]"
   ],
   "metadata": {
    "collapsed": false,
    "pycharm": {
     "name": "#%%\n"
    }
   }
  },
  {
   "cell_type": "markdown",
   "source": [
    "Generate directories"
   ],
   "metadata": {
    "collapsed": false,
    "pycharm": {
     "name": "#%% md\n"
    }
   }
  },
  {
   "cell_type": "code",
   "execution_count": 110,
   "outputs": [
    {
     "data": {
      "text/plain": "  0%|          | 0/8 [00:00<?, ?it/s]",
      "application/vnd.jupyter.widget-view+json": {
       "version_major": 2,
       "version_minor": 0,
       "model_id": "d0525dafc4d24d58aa78a50bf375167b"
      }
     },
     "metadata": {},
     "output_type": "display_data"
    },
    {
     "data": {
      "text/plain": "  0%|          | 0/7847 [00:00<?, ?it/s]",
      "application/vnd.jupyter.widget-view+json": {
       "version_major": 2,
       "version_minor": 0,
       "model_id": "2977e0983d5c4416a4764309bfb52a59"
      }
     },
     "metadata": {},
     "output_type": "display_data"
    }
   ],
   "source": [
    "Path(\"dataset\").mkdir(parents=True, exist_ok=True)\n",
    "\n",
    "for genres in tqdm(filtered_tracks.unique()):\n",
    "    Path(\"dataset/\"+genres).mkdir(parents=True, exist_ok=True)\n",
    "\n",
    "for track_id in tqdm(filtered_tracks.index):\n",
    "    shutil.copyfile('data/spectrograms/' + str(track_id) + \".png\", \"dataset/\" + filtered_tracks.loc[track_id] + \"/\" + str(track_id) + \".png\")"
   ],
   "metadata": {
    "collapsed": false,
    "pycharm": {
     "name": "#%%\n"
    }
   }
  },
  {
   "cell_type": "code",
   "execution_count": 203,
   "outputs": [],
   "source": [],
   "metadata": {
    "collapsed": false,
    "pycharm": {
     "name": "#%%\n"
    }
   }
  },
  {
   "cell_type": "code",
   "execution_count": 203,
   "outputs": [],
   "source": [],
   "metadata": {
    "collapsed": false,
    "pycharm": {
     "name": "#%%\n"
    }
   }
  },
  {
   "cell_type": "code",
   "execution_count": 11,
   "outputs": [],
   "source": [
    "#with tf.device('/cpu:0'):\n",
    "#    data_augmentation = keras.Sequential(\n",
    "#        [\n",
    "#            layers.RandomFlip(\"horizontal\"),\n",
    "#            layers.RandomRotation(0.1),\n",
    "#        ]\n",
    "#    )"
   ],
   "metadata": {
    "collapsed": false,
    "pycharm": {
     "name": "#%%\n"
    }
   }
  },
  {
   "cell_type": "code",
   "execution_count": 11,
   "outputs": [],
   "source": [],
   "metadata": {
    "collapsed": false,
    "pycharm": {
     "name": "#%%\n"
    }
   }
  },
  {
   "cell_type": "code",
   "execution_count": 11,
   "outputs": [],
   "source": [],
   "metadata": {
    "collapsed": false,
    "pycharm": {
     "name": "#%%\n"
    }
   }
  },
  {
   "cell_type": "code",
   "execution_count": 11,
   "outputs": [],
   "source": [],
   "metadata": {
    "collapsed": false,
    "pycharm": {
     "name": "#%%\n"
    }
   }
  },
  {
   "cell_type": "code",
   "execution_count": 12,
   "outputs": [],
   "source": [],
   "metadata": {
    "collapsed": false,
    "pycharm": {
     "name": "#%%\n"
    }
   }
  },
  {
   "cell_type": "code",
   "execution_count": 203,
   "outputs": [],
   "source": [],
   "metadata": {
    "collapsed": false,
    "pycharm": {
     "name": "#%%\n"
    }
   }
  },
  {
   "cell_type": "code",
   "execution_count": 203,
   "outputs": [],
   "source": [],
   "metadata": {
    "collapsed": false,
    "pycharm": {
     "name": "#%%\n"
    }
   }
  },
  {
   "cell_type": "code",
   "execution_count": 14,
   "outputs": [],
   "source": [],
   "metadata": {
    "collapsed": false,
    "pycharm": {
     "name": "#%%\n"
    }
   }
  },
  {
   "cell_type": "code",
   "execution_count": 203,
   "outputs": [],
   "source": [],
   "metadata": {
    "collapsed": false,
    "pycharm": {
     "name": "#%%\n"
    }
   }
  },
  {
   "cell_type": "markdown",
   "source": [
    "Eseguire da QUI"
   ],
   "metadata": {
    "collapsed": false,
    "pycharm": {
     "name": "#%% md\n"
    }
   }
  },
  {
   "cell_type": "markdown",
   "source": [
    "Second try\n"
   ],
   "metadata": {
    "collapsed": false,
    "pycharm": {
     "name": "#%% md\n"
    }
   }
  },
  {
   "cell_type": "code",
   "execution_count": 23,
   "outputs": [
    {
     "name": "stdout",
     "output_type": "stream",
     "text": [
      "['73309.png', '32433.png', '127062.png', '131166.png', '14386.png', '66076.png', '30230.png', '67368.png', '143296.png', '73335.png', '122654.png', '122132.png', '71244.png', '43590.png', '126354.png', '25601.png', '71250.png', '124231.png', '38888.png', '132453.png', '126426.png', '75750.png', '55480.png', '117610.png', '129926.png', '112768.png', '115761.png', '12046.png', '129098.png', '12052.png', '113304.png', '115775.png', '99707.png', '133942.png', '58173.png', '19891.png', '75787.png', '80518.png', '45122.png', '118279.png', '134793.png', '51157.png', '10679.png', '116240.png', '42659.png', '81612.png', '62589.png', '96408.png', '116526.png', '122683.png', '28480.png', '21895.png', '30740.png', '109189.png', '118084.png', '13199.png', '127274.png', '108297.png', '72215.png', '132679.png', '70402.png', '93941.png', '76073.png', '133567.png', '17499.png', '144937.png', '123760.png', '133573.png', '137715.png', '43962.png', '11942.png', '122456.png', '65755.png', '141873.png', '73123.png', '124755.png', '41191.png', '63456.png', '62748.png', '111936.png', '6372.png', '145432.png', '16744.png', '94035.png', '108532.png', '139937.png', '108526.png', '91159.png', '118735.png', '143057.png', '10447.png', '21842.png', '59721.png', '6366.png', '11771.png', '18033.png', '59709.png', '24912.png', '8363.png', '140576.png', '81362.png', '142361.png', '98627.png', '128812.png', '43023.png', '86419.png', '120296.png', '52648.png', '126181.png', '11765.png', '36245.png', '59682.png', '127300.png', '24899.png', '126778.png', '120309.png', '123614.png', '64517.png', '12481.png', '109957.png', '108491.png', '116877.png', '91788.png', '15488.png', '100973.png', '104283.png', '107952.png', '63250.png', '75432.png', '44823.png', '120321.png', '130132.png', '20369.png', '27406.png', '61453.png', '113933.png', '54365.png', '14741.png', '10527.png', '113700.png', '13748.png', '110209.png', '96742.png', '55709.png', '148076.png', '145552.png', '78843.png', '142573.png', '67793.png', '87101.png', '130683.png', '127499.png', '74937.png', '106457.png', '135089.png', '124184.png', '114047.png', '63287.png', '108308.png', '75383.png', '59669.png', '142567.png', '70774.png', '61679.png', '106872.png', '138022.png', '141287.png', '72605.png', '14580.png', '79988.png', '68891.png', '131774.png', '53807.png', '141293.png', '97845.png', '129885.png', '137463.png', '107588.png', '108863.png', '117943.png', '129675.png', '7483.png', '27610.png', '114292.png', '126220.png', '200.png', '55286.png', '131984.png', '126234.png', '55292.png', '130456.png', '95908.png', '37417.png', '133639.png', '88959.png', '116491.png', '12654.png', '98579.png', '107577.png', '89474.png', '6762.png', '119991.png', '145744.png', '16354.png', '113264.png', '59443.png', '52502.png', '110779.png', '16340.png', '19073.png', '105412.png', '113270.png', '68852.png', '145750.png', '114279.png', '84144.png', '40660.png', '101112.png', '6776.png', '119985.png', '97886.png', '124392.png', '143309.png', '133836.png', '144466.png', '116446.png', '53152.png', '126585.png', '122085.png', '94419.png', '79977.png', '104724.png', '131953.png', '98237.png', '98551.png', '116452.png', '13562.png', '114245.png', '19729.png', '144472.png', '98236.png', '110744.png', '131952.png', '18350.png', '93363.png', '144473.png', '116453.png', '98550.png', '126584.png', '116447.png', '144467.png', '133837.png', '143308.png', '124393.png', '46238.png', '114536.png', '113259.png', '104725.png', '122084.png', '75194.png', '68853.png', '113271.png', '105413.png', '110778.png', '97887.png', '38902.png', '145751.png', '145745.png', '98578.png', '14542.png', '113265.png', '134631.png', '55293.png', '116490.png', '6788.png', '133638.png', '37416.png', '27611.png', '114293.png', '67235.png', '129674.png', '117942.png', '7482.png', '107589.png', '131985.png', '55287.png', '126221.png', '67553.png', '27177.png', '4835.png', '141292.png', '139329.png', '90695.png', '137462.png', '129884.png', '97844.png', '147191.png', '70775.png', '14581.png', '141286.png', '72604.png', '138023.png', '61491.png', '26902.png', '124185.png', '123832.png', '142566.png', '81565.png', '110546.png', '15476.png', '111658.png', '75396.png', '130682.png', '87100.png', '39188.png', '18146.png', '142572.png', '63292.png', '126786.png', '106456.png', '127498.png', '145553.png', '148077.png', '53379.png', '141735.png', '96743.png', '34484.png', '94632.png', '59654.png', '11638.png', '14740.png', '110208.png', '13749.png', '113701.png', '113932.png', '61452.png', '60994.png', '130133.png', '75427.png', '120320.png', '44822.png', '139117.png', '69768.png', '132042.png', '71133.png', '102195.png', '75433.png', '63251.png', '107953.png', '60758.png', '104282.png', '116876.png', '108490.png', '64516.png', '995.png', '39605.png', '20432.png', '100972.png', '24898.png', '127301.png', '59683.png', '120308.png', '120297.png', '130084.png', '91164.png', '43022.png', '98626.png', '128813.png', '11764.png', '126180.png', '52649.png', '45335.png', '59708.png', '41147.png', '18032.png', '11770.png', '142360.png', '91170.png', '106522.png', '143056.png', '36481.png', '118734.png', '91158.png', '108527.png', '822.png', '12537.png', '6367.png', '59720.png', '6373.png', '139936.png', '108533.png', '54576.png', '94034.png', '16745.png', '93983.png', '111937.png', '62749.png', '63457.png', '64338.png', '124754.png', '132122.png', '38321.png', '75221.png', '71721.png', '122457.png', '74671.png', '72200.png', '133572.png', '71709.png', '123761.png', '26651.png', '41812.png', '143095.png', '10485.png', '24720.png', '130709.png', '127275.png', '138355.png', '118085.png', '144936.png', '76072.png', '93940.png', '132678.png', '70403.png', '62007.png', '81613.png', '110630.png', '116241.png', '10678.png', '28481.png', '58166.png', '11200.png', '116527.png', '127936.png', '75786.png', '19890.png', '85307.png', '133943.png', '134792.png', '56639.png', '80519.png', '115774.png', '143532.png', '84757.png', '134962.png', '113305.png', '86140.png', '12053.png', '14344.png', '6603.png', '19674.png', '112769.png', '129927.png', '117611.png', '109349.png', '12047.png', '84743.png', '113311.png', '71251.png', '63655.png', '43585.png', '55481.png', '75751.png', '1193.png', '126427.png', '92874.png', '75745.png', '71245.png', '4799.png', '32340.png', '133016.png', '133770.png', '27981.png', '83789.png', '10693.png', '119831.png', '133772.png', '71509.png', '66075.png', '143295.png', '85488.png', '31887.png', '140788.png', '137500.png', '14391.png', '67357.png', '112780.png', '126425.png', '43587.png', '124554.png', '133028.png', '71253.png', '71247.png', '43593.png', '126357.png', '126431.png', '75747.png', '19689.png', '133969.png', '92889.png', '3779.png', '99704.png', '12737.png', '12051.png', '117161.png', '48439.png', '50276.png', '115762.png', '12045.png', '117613.png', '129925.png', '127908.png', '147024.png', '27798.png', '116525.png', '58164.png', '85311.png', '28483.png', '116243.png', '52449.png', '134790.png', '134948.png', '58170.png', '129919.png', '75784.png', '146689.png', '127263.png', '125312.png', '143097.png', '26653.png', '123763.png', '93956.png', '34257.png', '137716.png', '33538.png', '62005.png', '93942.png', '144934.png', '133564.png', '120518.png', '118087.png', '72570.png', '127277.png', '124756.png', '41192.png', '48808.png', '132134.png', '111935.png', '65756.png', '44798.png', '146879.png', '66539.png', '38323.png', '21672.png', '124971.png', '10444.png', '99260.png', '98618.png', '107616.png', '108525.png', '123978.png', '145431.png', '93981.png', '69193.png', '16747.png', '94036.png', '12521.png', '7709.png', '139934.png', '108531.png', '99274.png', '55124.png', '126182.png', '11766.png', '134586.png', '59078.png', '46158.png', '43020.png', '128811.png', '98624.png', '90278.png', '116733.png', '142362.png', '71938.png', '11772.png', '127288.png', '80686.png', '70207.png', '59695.png', '92282.png', '124178.png', '39607.png', '997.png', '12482.png', '7872.png', '62165.png', '75419.png', '116874.png', '108492.png', '59681.png', '20424.png', '127303.png', '114939.png', '132040.png', '89846.png', '75425.png', '44820.png', '120322.png', '130131.png', '133438.png', '126747.png', '107951.png', '63253.png', '75431.png', '138579.png', '100958.png', '122247.png', '94803.png', '41019.png', '59656.png', '84423.png', '94630.png', '45519.png', '148075.png', '145551.png', '95248.png', '74908.png', '9888.png', '14742.png', '69781.png', '16155.png', '75380.png', '56559.png', '142564.png', '49479.png', '67784.png', '58212.png', '125299.png', '61493.png', '114044.png', '9678.png', '126790.png', '146070.png', '119574.png', '63290.png', '48015.png', '71694.png', '114050.png', '95506.png', '142570.png', '18144.png', '87102.png', '146716.png', '86793.png', '97846.png', '129886.png', '69554.png', '68892.png', '70005.png', '141290.png', '72612.png', '121570.png', '138021.png', '14583.png', '141284.png', '47865.png', '122079.png', '49848.png', '29602.png', '9491.png', '40844.png', '119979.png', '63045.png', '55291.png', '56798.png', '35571.png', '126223.png', '55285.png', '203.png', '98585.png', '67237.png', '114291.png', '27613.png', '51785.png', '122910.png', '38900.png', '101111.png', '127868.png', '52501.png', '105411.png', '113273.png', '68851.png', '82250.png', '59454.png', '94426.png', '113267.png', '131978.png', '119992.png', '91238.png', '107574.png', '89477.png', '64919.png', '56015.png', '145747.png', '5268.png', '38914.png', '98552.png', '116451.png', '13561.png', '129879.png', '42048.png', '144471.png', '40139.png', '131950.png', '14568.png', '101893.png', '45055.png', '109203.png', '54158.png', '122086.png', '114534.png', '56029.png', '124391.png', '144465.png', '133835.png', '83600.png', '126586.png', '114535.png', '79975.png', '122087.png', '54159.png', '91205.png', '126587.png', '98547.png', '3624.png', '56028.png', '144470.png', '98553.png', '98235.png', '131789.png', '14569.png', '131951.png', '47657.png', '14541.png', '131979.png', '145020.png', '68844.png', '113266.png', '134801.png', '84152.png', '145746.png', '41568.png', '64918.png', '119993.png', '127869.png', '38901.png', '122911.png', '104068.png', '145752.png', '113272.png', '86037.png', '52500.png', '118327.png', '130440.png', '131986.png', '4836.png', '51784.png', '40851.png', '114290.png', '27612.png', '7481.png', '98584.png', '116487.png', '126550.png', '7495.png', '63044.png', '72149.png', '40845.png', '56799.png', '130454.png', '55290.png', '49849.png', '124409.png', '72607.png', '141285.png', '138020.png', '73519.png', '120109.png', '118496.png', '129887.png', '97847.png', '141291.png', '68893.png', '69555.png', '114051.png', '71695.png', '123825.png', '58207.png', '63291.png', '119575.png', '108478.png', '75395.png', '87103.png', '147409.png', '18145.png', '142571.png', '49478.png', '142565.png', '75381.png', '15475.png', '114045.png', '61492.png', '124186.png', '125298.png', '58213.png', '132914.png', '113702.png', '79593.png', '14743.png', '94631.png', '78841.png', '41018.png', '59657.png', '95249.png', '145550.png', '148074.png', '45518.png', '138578.png', '75430.png', '33465.png', '63252.png', '107950.png', '126746.png', '57691.png', '21707.png', '100959.png', '114938.png', '132041.png', '122534.png', '133439.png', '130130.png', '120323.png', '44821.png', '89847.png', '41971.png', '108487.png', '33459.png', '44809.png', '32021.png', '80693.png', '127302.png', '30636.png', '59680.png', '92283.png', '70206.png', '80687.png', '108493.png', '75418.png', '62164.png', '74706.png', '64515.png', '41965.png', '124179.png', '26861.png', '127289.png', '18031.png', '11773.png', '67829.png', '11767.png', '126183.png', '6358.png', '65780.png', '32800.png', '12508.png', '98625.png', '43021.png', '46159.png', '108530.png', '139935.png', '148114.png', '94037.png', '113110.png', '116068.png', '6370.png', '55119.png', '99261.png', '59723.png', '143055.png', '123979.png', '108524.png', '107617.png', '821.png', '98619.png', '44799.png', '71722.png', '66538.png', '111934.png', '38450.png', '112583.png', '123986.png', '144935.png', '93943.png', '76071.png', '127276.png', '148.png', '36333.png', '123004.png', '72565.png', '137717.png', '133571.png', '123762.png', '26652.png', '125313.png', '134949.png', '134791.png', '42129.png', '75785.png', '129918.png', '133798.png', '28482.png', '49068.png', '85310.png', '50539.png', '107429.png', '52448.png', '73486.png', '54039.png', '116242.png', '84768.png', '81638.png', '27799.png', '127909.png', '129924.png', '117612.png', '75975.png', '4017.png', '3778.png', '115011.png', '92888.png', '133968.png', '117160.png', '12050.png', '43592.png', '71246.png', '115944.png', '134034.png', '64893.png', '75746.png', '126430.png', '75752.png', '112781.png', '133029.png', '71252.png', '124555.png', '29039.png', '43586.png', '25603.png', '26322.png', '147780.png', '74302.png', '33049.png', '140789.png', '36643.png', '66074.png', '71508.png', '119830.png', '81189.png', '22150.png', '24521.png', '85489.png', '133015.png', '145183.png', '10684.png', '107388.png', '42844.png', '112785.png', '132455.png', '92873.png', '122646.png', '66058.png', '71242.png', '41381.png', '33071.png', '43596.png', '70174.png', '129049.png', '121415.png', '80293.png', '28479.png', '40909.png', '143290.png', '112975.png', '32435.png', '126408.png', '73469.png', '10694.png', '112020.png', '134959.png', '110637.png', '42139.png', '64840.png', '7526.png', '58161.png', '122685.png', '133788.png', '38859.png', '64854.png', '13362.png', '81600.png', '72788.png', '110623.png', '134795.png', '118257.png', '115773.png', '4013.png', '91349.png', '6610.png', '129920.png', '147021.png', '27945.png', '47069.png', '19673.png', '133978.png', '115767.png', '117170.png', '108050.png', '602.png', '44951.png', '73125.png', '112587.png', '113699.png', '124753.png', '53587.png', '57939.png', '38326.png', '21677.png', '110384.png', '141875.png', '26656.png', '27548.png', '87098.png', '127266.png', '123000.png', '68539.png', '11788.png', '131410.png', '26642.png', '133561.png', '76075.png', '19459.png', '140564.png', '43025.png', '128814.png', '98621.png', '52128.png', '91163.png', '127299.png', '55121.png', '126187.png', '11763.png', '11777.png', '1427.png', '130929.png', '12518.png', '116736.png', '91177.png', '4239.png', '825.png', '128828.png', '12530.png', '43019.png', '6406.png', '107613.png', '46161.png', '69182.png', '59727.png', '10441.png', '6360.png', '90527.png', '42475.png', '53578.png', '69828.png', '26859.png', '69196.png', '94033.png', '57078.png', '26681.png', '123969.png', '89704.png', '9721.png', '89843.png', '53381.png', '130134.png', '75420.png', '120327.png', '76129.png', '82916.png', '113935.png', '132045.png', '121987.png', '100949.png', '139110.png', '11818.png', '105825.png', '2099.png', '107954.png', '89857.png', '141901.png', '33461.png', '75434.png', '120333.png', '41961.png', '60777.png', '12487.png', '116871.png', '108497.png', '100975.png', '36257.png', '69747.png', '59684.png', '120469.png', '126018.png', '80697.png', '55900.png', '123835.png', '114041.png', '26905.png', '17500.png', '45520.png', '15471.png', '130691.png', '41020.png', '142575.png', '87107.png', '43623.png', '75391.png', '146713.png', '81576.png', '107029.png', '119571.png', '126781.png', '123821.png', '125288.png', '134385.png', '71691.png', '148070.png', '145554.png', '78845.png', '59653.png', '10535.png', '94635.png', '99311.png', '78851.png', '142549.png', '69784.png', '10521.png', '114069.png', '92536.png', '45508.png', '126232.png', '55294.png', '212.png', '27164.png', '124425.png', '112197.png', '60549.png', '574.png', '7491.png', '117945.png', '98580.png', '108865.png', '67232.png', '123438.png', '114294.png', '84817.png', '73521.png', '126226.png', '138018.png', '131982.png', '68897.png', '131772.png', '141295.png', '129883.png', '119940.png', '25029.png', '70772.png', '84195.png', '69223.png', '127662.png', '12691.png', '14586.png', '138024.png', '142950.png', '93364.png', '57440.png', '110743.png', '100550.png', '54149.png', '98557.png', '116454.png', '144474.png', '50449.png', '124394.png', '53154.png', '14579.png', '131941.png', '100544.png', '67597.png', '122083.png', '66689.png', '36096.png', '105414.png', '68854.png', '59451.png', '113276.png', '145756.png', '38905.png', '84142.png', '109548.png', '116468.png', '97894.png', '107571.png', '122901.png', '56010.png', '145742.png', '38911.png', '19707.png', '84156.png', '94423.png', '68840.png', '59445.png', '113262.png', '84157.png', '38910.png', '145743.png', '89473.png', '127878.png', '54160.png', '113263.png', '68841.png', '94422.png', '113277.png', '19074.png', '36097.png', '111460.png', '63900.png', '91228.png', '111306.png', '38904.png', '145757.png', '113511.png', '13571.png', '122082.png', '12109.png', '131940.png', '55242.png', '110756.png', '14578.png', '68869.png', '50448.png', '144475.png', '114242.png', '118478.png', '116455.png', '98556.png', '12690.png', '127663.png', '145780.png', '69222.png', '70773.png', '138025.png', '35549.png', '131767.png', '101868.png', '131773.png', '81946.png', '68896.png', '25028.png', '119941.png', '129882.png', '123439.png', '114295.png', '104086.png', '67233.png', '108864.png', '98581.png', '139461.png', '117944.png', '207.png', '138019.png', '131983.png', '147815.png', '126227.png', '73520.png', '63733.png', '112196.png', '124424.png', '213.png', '55295.png', '126233.png', '7490.png', '60548.png', '69785.png', '78850.png', '116119.png', '30196.png', '145555.png', '139688.png', '54376.png', '69949.png', '94634.png', '69791.png', '49441.png', '107028.png', '75390.png', '98026.png', '15464.png', '87106.png', '142574.png', '71690.png', '134384.png', '125289.png', '73087.png', '54438.png', '13767.png', '45521.png', '124183.png', '26904.png', '114040.png', '123834.png', '48763.png', '80696.png', '120468.png', '59685.png', '69746.png', '92292.png', '21058.png', '108496.png', '116870.png', '993.png', '32756.png', '12486.png', '60776.png', '105824.png', '60038.png', '120332.png', '109978.png', '33460.png', '75435.png', '137896.png', '126743.png', '64538.png', '139663.png', '63257.png', '107955.png', '124154.png', '104284.png', '113934.png', '82917.png', '76128.png', '120326.png', '777.png', '130135.png', '107799.png', '25216.png', '55097.png', '18197.png', '54570.png', '123968.png', '16743.png', '93985.png', '69197.png', '94026.png', '46160.png', '6407.png', '43018.png', '12531.png', '44777.png', '90526.png', '10440.png', '59726.png', '24915.png', '18034.png', '11776.png', '95310.png', '81365.png', '43030.png', '91162.png', '52129.png', '128815.png', '98620.png', '43024.png', '140565.png', '8416.png', '137935.png', '71096.png', '24901.png', '126186.png', '55120.png', '118068.png', '127298.png', '108290.png', '127273.png', '11789.png', '60170.png', '132118.png', '11951.png', '76074.png', '133560.png', '26643.png', '62001.png', '107809.png', '72206.png', '27549.png', '133574.png', '26657.png', '68538.png', '36322.png', '123001.png', '43965.png', '127267.png', '87099.png', '21676.png', '57938.png', '53586.png', '141874.png', '136424.png', '65752.png', '113698.png', '112586.png', '73124.png', '44950.png', '131439.png', '53592.png', '67637.png', '124752.png', '47068.png', '147020.png', '6611.png', '86634.png', '45119.png', '117171.png', '146458.png', '50272.png', '115766.png', '115772.png', '113303.png', '63874.png', '6605.png', '64855.png', '58174.png', '27978.png', '48367.png', '68909.png', '134794.png', '45125.png', '72789.png', '110636.png', '108079.png', '117159.png', '11206.png', '7527.png', '42138.png', '64841.png', '126409.png', '121366.png', '27987.png', '10695.png', '73468.png', '129048.png', '24524.png', '66717.png', '40908.png', '28478.png', '112790.png', '61736.png', '64896.png', '23505.png', '42851.png', '33070.png', '71243.png', '25606.png', '107389.png', '33064.png', '1195.png', '92872.png', '122647.png', '132454.png', '71241.png', '33072.png', '65234.png', '43595.png', '61734.png', '83969.png', '122651.png', '38899.png', '132456.png', '122645.png', '135339.png', '108906.png', '1197.png', '75755.png', '71255.png', '10697.png', '112976.png', '73318.png', '66073.png', '73495.png', '42648.png', '45127.png', '10668.png', '134796.png', '145609.png', '75782.png', '64857.png', '117629.png', '84009.png', '11204.png', '122686.png', '58162.png', '28485.png', '85317.png', '98346.png', '110634.png', '92125.png', '115764.png', '117173.png', '129923.png', '147022.png', '115002.png', '6607.png', '129089.png', '92131.png', '50264.png', '44946.png', '615.png', '141876.png', '23063.png', '107189.png', '111933.png', '44952.png', '112584.png', '123981.png', '62003.png', '72210.png', '26641.png', '133562.png', '71719.png', '93944.png', '76076.png', '85840.png', '127271.png', '138351.png', '100802.png', '127265.png', '72562.png', '123003.png', '10481.png', '11947.png', '26655.png', '125314.png', '133576.png', '93950.png', '116735.png', '11774.png', '134594.png', '142402.png', '24917.png', '87070.png', '110436.png', '55122.png', '96169.png', '8372.png', '47526.png', '59718.png', '134580.png', '98622.png', '43026.png', '91160.png', '6439.png', '69195.png', '142358.png', '143046.png', '35198.png', '116709.png', '12527.png', '148113.png', '96627.png', '42310.png', '141137.png', '43768.png', '90530.png', '112209.png', '10442.png', '59724.png', '6363.png', '46162.png', '69181.png', '83558.png', '141902.png', '107957.png', '63255.png', '120330.png', '75437.png', '127339.png', '105826.png', '64248.png', '35007.png', '130137.png', '120324.png', '82915.png', '122533.png', '12490.png', '36526.png', '11199.png', '69744.png', '59687.png', '131567.png', '80694.png', '75379.png', '100976.png', '80680.png', '92284.png', '82929.png', '41962.png', '12484.png', '108494.png', '116872.png', '120318.png', '62163.png', '110230.png', '62188.png', '126782.png', '71692.png', '142576.png', '59678.png', '87104.png', '100745.png', '108319.png', '75386.png', '1544.png', '130692.png', '114042.png', '124181.png', '26906.png', '45523.png', '83438.png', '92535.png', '104279.png', '55718.png', '138580.png', '14744.png', '78852.png', '69787.png', '113063.png', '69793.png', '43608.png', '108457.png', '10250.png', '66649.png', '67557.png', '32218.png', '126225.png', '73522.png', '117946.png', '108866.png', '98583.png', '114297.png', '69208.png', '40842.png', '114283.png', '126557.png', '7492.png', '63043.png', '126231.png', '211.png', '124426.png', '39359.png', '126219.png', '141282.png', '14585.png', '23329.png', '106877.png', '127661.png', '12692.png', '88960.png', '129880.png', '86795.png', '61668.png', '79741.png', '68894.png', '142947.png', '131771.png', '141296.png', '55240.png', '131942.png', '121589.png', '122080.png', '114532.png', '133833.png', '51998.png', '53157.png', '117991.png', '98554.png', '116457.png', '14208.png', '83612.png', '40659.png', '144477.png', '143318.png', '13201.png', '145027.png', '59446.png', '82242.png', '68843.png', '113261.png', '110768.png', '15880.png', '119994.png', '145741.png', '114268.png', '38912.png', '115176.png', '84155.png', '113513.png', '145755.png', '38906.png', '84141.png', '90652.png', '27198.png', '113275.png', '107567.png', '101116.png', '98569.png', '38907.png', '145754.png', '113512.png', '113274.png', '54163.png', '113260.png', '68842.png', '84154.png', '111311.png', '143319.png', '144476.png', '40658.png', '83613.png', '13566.png', '116456.png', '98555.png', '100552.png', '5521.png', '57442.png', '114533.png', '122081.png', '79973.png', '98227.png', '55241.png', '53156.png', '51999.png', '131016.png', '97841.png', '119942.png', '118484.png', '14590.png', '141297.png', '81945.png', '131770.png', '70002.png', '68895.png', '138026.png', '14584.png', '141283.png', '126218.png', '131764.png', '127660.png', '106876.png', '145783.png', '69221.png', '70770.png', '35204.png', '107598.png', '127648.png', '114282.png', '40843.png', '69209.png', '210.png', '126230.png', '131980.png', '204.png', '126224.png', '67556.png', '66648.png', '28241.png', '114296.png', '98582.png', '108867.png', '7487.png', '99313.png', '78847.png', '69792.png', '145556.png', '108456.png', '148066.png', '55719.png', '138581.png', '104278.png', '83439.png', '48990.png', '14745.png', '57640.png', '142563.png', '130693.png', '98031.png', '45522.png', '124180.png', '58215.png', '92508.png', '71693.png', '62189.png', '108318.png', '75393.png', '43621.png', '98025.png', '87105.png', '59679.png', '142577.png', '75378.png', '120319.png', '116873.png', '108495.png', '12485.png', '32755.png', '60775.png', '82928.png', '11198.png', '65619.png', '80695.png', '59686.png', '69745.png', '139112.png', '64249.png', '130650.png', '121985.png', '59876.png', '82914.png', '38522.png', '33477.png', '120325.png', '130136.png', '89841.png', '25215.png', '75436.png', '120331.png', '137895.png', '141903.png', '148099.png', '107956.png', '105827.png', '76659.png', '57697.png', '138218.png', '42463.png', '59725.png', '10443.png', '99501.png', '12532.png', '139933.png', '148112.png', '12526.png', '35199.png', '93986.png', '142359.png', '69194.png', '46611.png', '6376.png', '59719.png', '126185.png', '96168.png', '55123.png', '110437.png', '91161.png', '43027.png', '119413.png', '98623.png', '128816.png', '140566.png', '28692.png', '17462.png', '18037.png', '11775.png', '11946.png', '123002.png', '10480.png', '65779.png', '123764.png', '125315.png', '26654.png', '76077.png', '144933.png', '133563.png', '26640.png', '126608.png', '21891.png', '75230.png', '107188.png', '53591.png', '123980.png', '112585.png', '65745.png', '98838.png', '141877.png', '128619.png', '44947.png', '65037.png', '6389.png', '43796.png', '99703.png', '86623.png', '6606.png', '11239.png', '27953.png', '4777.png', '115771.png', '92130.png', '129088.png', '117172.png', '80520.png', '115765.png', '92124.png', '104668.png', '17884.png', '147023.png', '129922.png', '117614.png', '28484.png', '134797.png', '10669.png', '45126.png', '131837.png', '73494.png', '117628.png', '64856.png', '75783.png', '145608.png', '127066.png', '10682.png', '47916.png', '10696.png', '32437.png', '83954.png', '112977.png', '1196.png', '75754.png', '54942.png', '64659.png', '135338.png', '122644.png', '71254.png', '4788.png', '78516.png', '25605.png', '33067.png', '43594.png', '71240.png', '125659.png', '38898.png', '122650.png', '64895.png', '123273.png', '61008.png', '30521.png', '32336.png', '147087.png', '72074.png', '95189.png', '123501.png', '135363.png', '121316.png', '459.png', '140924.png', '88872.png', '137212.png', '74377.png', '36144.png', '125616.png', '1683.png', '115925.png', '114385.png', '31165.png', '125158.png', '132424.png', '73342.png', '116586.png', '25104.png', '114391.png', '122623.png', '21404.png', '110691.png', '62529.png', '63804.png', '125819.png', '122810.png', '70878.png', '145653.png', '6675.png', '117667.png', '110108.png', '111216.png', '4076.png', '142128.png', '122804.png', '114408.png', '43518.png', '54064.png', '81895.png', '108021.png', '125825.png', '142666.png', '48465.png', '134928.png', '116237.png', '53723.png', '88899.png', '17607.png', '38828.png', '3725.png', '11262.png', '48317.png', '86678.png', '127798.png', '117883.png', '75928.png', '74388.png', '110652.png', '51120.png', '142672.png', '11504.png', '55811.png', '897.png', '121666.png', '23039.png', '29272.png', '11921.png', '133276.png', '85832.png', '64366.png', '24742.png', '127203.png', '86485.png', '96696.png', '136468.png', '97588.png', '10381.png', '144940.png', '139773.png', '67121.png', '29528.png', '50955.png', '133538.png', '122353.png', '132140.png', '131449.png', '33216.png', '105920.png', '26169.png', '127559.png', '667.png', '107851.png', '139954.png', '42376.png', '105713.png', '56465.png', '99214.png', '121869.png', '130964.png', '80751.png', '113165.png', '56471.png', '115272.png', '106568.png', '6463.png', '104357.png', '3533.png', '116753.png', '72289.png', '111982.png', '58474.png', '18044.png', '110450.png', '141179.png', '97211.png', '89991.png', '61587.png', '5156.png', '49394.png', '13930.png', '43861.png', '137170.png', '12390.png', '85952.png', '26035.png', '26021.png', '60074.png', '21996.png', '66405.png', '91933.png', '87189.png', '39667.png', '707.png', '44854.png', '134445.png', '52950.png', '53496.png', '129372.png', '117288.png', '43691.png', '126055.png', '60048.png', '113788.png', '113950.png', '129400.png', '126900.png', '108425.png', '78834.png', '115474.png', '12353.png', '108343.png', '129399.png', '14736.png', '99374.png', '145257.png', '142538.png', '105673.png', '132961.png', '1278.png', '6517.png', '132791.png', '46058.png', '74954.png', '111148.png', '134486.png', '18124.png', '11672.png', '57627.png', '52039.png', '39317.png', '125776.png', '24420.png', '138041.png', '86081.png', '126519.png', '123461.png', '125004.png', '60510.png', '35539.png', '133100.png', '7386.png', '126243.png', '63757.png', '62449.png', '27673.png', '130347.png', '111389.png', '64992.png', '47193.png', '27667.png', '73550.png', '98297.png', '138069.png', '131918.png', '7379.png', '16337.png', '145041.png', '36959.png', '145727.png', '54662.png', '111376.png', '86724.png', '80341.png', '86730.png', '42014.png', '104009.png', '4102.png', '108155.png', '115892.png', '131924.png', '73587.png', '36965.png', '114232.png', '38784.png', '58070.png', '64789.png', '141569.png', '120183.png', '55232.png', '1720.png', '100535.png', '126294.png', '12179.png', '124483.png', '42029.png', '141568.png', '64788.png', '38785.png', '114541.png', '145068.png', '124482.png', '126295.png', '109276.png', '55233.png', '87361.png', '1735.png', '131925.png', '122959.png', '114233.png', '120196.png', '121288.png', '38961.png', '61814.png', '4103.png', '113574.png', '104008.png', '82231.png', '57418.png', '7378.png', '22093.png', '131919.png', '86725.png', '111377.png', '109538.png', '27855.png', '71420.png', '47192.png', '64993.png', '110082.png', '72129.png', '138068.png', '73551.png', '7393.png', '21565.png', '115850.png', '23372.png', '62448.png', '110928.png', '126242.png', '111388.png', '123474.png', '118384.png', '24421.png', '138040.png', '64005.png', '39316.png', '125777.png', '32525.png', '8261.png', '11673.png', '57626.png', '70299.png', '132784.png', '148028.png', '109712.png', '111149.png', '74955.png', '108418.png', '132790.png', '69904.png', '142511.png', '81512.png', '105672.png', '46717.png', '142539.png', '99375.png', '14737.png', '129398.png', '12346.png', '54475.png', '92546.png', '112468.png', '87639.png', '99361.png', '108342.png', '12352.png', '115475.png', '124870.png', '37111.png', '11868.png', '46930.png', '52945.png', '63226.png', '129401.png', '135028.png', '144809.png', '113789.png', '133459.png', '71622.png', '112483.png', '706.png', '52951.png', '134444.png', '77521.png', '26008.png', '87188.png', '138256.png', '21997.png', '26020.png', '39666.png', '91098.png', '69723.png', '26034.png', '85953.png', '137171.png', '43860.png', '140266.png', '110451.png', '93076.png', '93710.png', '5157.png', '72288.png', '3532.png', '93704.png', '104356.png', '61592.png', '85600.png', '112252.png', '1443.png', '56470.png', '113164.png', '141144.png', '111015.png', '106569.png', '115273.png', '51479.png', '115267.png', '19415.png', '109896.png', '42377.png', '96898.png', '4507.png', '105712.png', '46844.png', '23010.png', '55186.png', '33203.png', '126646.png', '107850.png', '666.png', '139772.png', '9962.png', '131448.png', '132141.png', '122352.png', '80793.png', '85833.png', '28179.png', '11920.png', '144941.png', '30050.png', '97589.png', '136469.png', '96697.png', '86484.png', '118958.png', '55810.png', '73169.png', '36435.png', '68549.png', '75929.png', '86679.png', '118569.png', '13474.png', '38829.png', '3724.png', '11505.png', '110653.png', '45154.png', '74389.png', '110647.png', '116236.png', '144216.png', '48464.png', '134929.png', '125824.png', '40986.png', '17606.png', '83715.png', '145646.png', '122805.png', '142129.png', '4077.png', '143237.png', '54703.png', '90027.png', '119893.png', '9553.png', '110109.png', '117666.png', '108020.png', '43519.png', '114409.png', '125818.png', '63805.png', '128482.png', '6674.png', '70879.png', '67336.png', '122622.png', '114390.png', '128469.png', '108961.png', '116587.png', '73343.png', '62528.png', '110690.png', '115930.png', '100497.png', '1682.png', '110684.png', '101951.png', '127996.png', '125159.png', '114384.png', '134054.png', '140925.png', '88873.png', '121317.png', '103808.png', '84091.png', '124509.png', '125617.png', '36145.png', '74376.png', '137213.png', '129039.png', '32337.png', '74362.png', '30520.png', '60317.png', '72075.png', '128441.png', '88867.png', '137561.png', '147086.png', '137211.png', '121473.png', '74374.png', '36147.png', '123502.png', '67308.png', '64601.png', '121315.png', '88871.png', '130218.png', '73369.png', '140933.png', '137563.png', '128443.png', '135374.png', '70660.png', '30522.png', '120779.png', '32335.png', '115932.png', '71230.png', '74348.png', '126320.png', '73341.png', '114392.png', '122620.png', '67334.png', '114386.png', '122634.png', '64629.png', '1680.png', '115926.png', '85428.png', '84736.png', '89212.png', '108022.png', '128494.png', '38817.png', '4075.png', '122807.png', '143221.png', '117670.png', '97986.png', '75903.png', '108036.png', '110651.png', '142671.png', '11261.png', '17610.png', '14319.png', '111229.png', '63191.png', '55437.png', '126491.png', '7554.png', '83717.png', '112734.png', '40984.png', '125826.png', '85400.png', '48466.png', '144214.png', '43533.png', '86486.png', '96695.png', '84291.png', '10382.png', '144943.png', '133275.png', '11922.png', '85831.png', '16095.png', '64365.png', '90582.png', '24741.png', '138320.png', '131476.png', '121665.png', '72513.png', '29271.png', '93921.png', '139994.png', '107852.png', '118972.png', '136331.png', '38354.png', '46846.png', '56499.png', '121659.png', '1482.png', '87968.png', '139770.png', '50956.png', '5169.png', '115271.png', '32686.png', '97548.png', '140258.png', '124912.png', '4511.png', '69682.png', '113166.png', '143989.png', '56472.png', '56466.png', '22481.png', '42375.png', '117472.png', '20296.png', '19417.png', '89992.png', '93712.png', '93074.png', '123099.png', '52628.png', '110447.png', '65090.png', '40238.png', '123933.png', '109670.png', '6448.png', '13927.png', '132779.png', '39664.png', '84483.png', '26022.png', '21995.png', '137167.png', '74002.png', '12387.png', '127360.png', '137173.png', '73779.png', '26036.png', '85951.png', '82780.png', '126718.png', '139638.png', '71620.png', '50836.png', '125239.png', '39658.png', '129403.png', '63224.png', '121739.png', '52947.png', '134452.png', '37113.png', '77523.png', '134446.png', '23172.png', '52953.png', '111188.png', '55782.png', '704.png', '128709.png', '112481.png', '85038.png', '132962.png', '99411.png', '14735.png', '51269.png', '105670.png', '105664.png', '112318.png', '124872.png', '12350.png', '9155.png', '99363.png', '108426.png', '54463.png', '148002.png', '56274.png', '115339.png', '132786.png', '11671.png', '73792.png', '121922.png', '87161.png', '57630.png', '132792.png', '56248.png', '99439.png', '38778.png', '137417.png', '136709.png', '92949.png', '36999.png', '142088.png', '64007.png', '24423.png', '86082.png', '66638.png', '7391.png', '64991.png', '145917.png', '135228.png', '126240.png', '7385.png', '116383.png', '90804.png', '115852.png', '49817.png', '68601.png', '12146.png', '42017.png', '145730.png', '112668.png', '4101.png', '145724.png', '111375.png', '22091.png', '111413.png', '16334.png', '145042.png', '100536.png', '55231.png', '131933.png', '127189.png', '126297.png', '87377.png', '124480.png', '119715.png', '120194.png', '114231.png', '36966.png', '115891.png', '100522.png', '87363.png', '126283.png', '73584.png', '75692.png', '136091.png', '73585.png', '87362.png', '1736.png', '114556.png', '124481.png', '112133.png', '127188.png', '131932.png', '123488.png', '19760.png', '27856.png', '145043.png', '104779.png', '86040.png', '12147.png', '4100.png', '42016.png', '75862.png', '147126.png', '25066.png', '122999.png', '68600.png', '23371.png', '63755.png', '126241.png', '63999.png', '135229.png', '1087.png', '64990.png', '142089.png', '36998.png', '92948.png', '136708.png', '24422.png', '64006.png', '125774.png', '133102.png', '141594.png', '38779.png', '21228.png', '95564.png', '87160.png', '53457.png', '97373.png', '65683.png', '99438.png', '56249.png', '17573.png', '132793.png', '132787.png', '109711.png', '74942.png', '99362.png', '138282.png', '108341.png', '12351.png', '32081.png', '124873.png', '145241.png', '41709.png', '56275.png', '92551.png', '108427.png', '54476.png', '132963.png', '85039.png', '105671.png', '51268.png', '30682.png', '14734.png', '86256.png', '134447.png', '77522.png', '113946.png', '93868.png', '705.png', '55783.png', '141972.png', '129402.png', '125238.png', '39659.png', '57180.png', '3492.png', '134453.png', '52946.png', '121738.png', '99389.png', '127349.png', '85788.png', '85950.png', '73778.png', '137172.png', '43863.png', '126719.png', '39665.png', '132778.png', '137166.png', '40239.png', '15210.png', '123932.png', '60857.png', '61591.png', '52629.png', '110452.png', '111994.png', '93075.png', '56467.png', '19416.png', '117473.png', '42374.png', '22480.png', '32693.png', '96657.png', '6461.png', '80035.png', '32687.png', '30090.png', '113167.png', '4510.png', '124913.png', '80753.png', '140259.png', '136324.png', '121658.png', '132142.png', '56498.png', '139771.png', '137990.png', '128668.png', '23013.png', '139003.png', '11937.png', '121664.png', '91851.png', '139995.png', '28608.png', '93920.png', '144942.png', '10383.png', '84290.png', '55807.png', '120208.png', '96694.png', '86487.png', '90583.png', '64364.png', '133274.png', '134094.png', '17605.png', '40985.png', '112735.png', '47032.png', '126490.png', '91312.png', '55436.png', '1642.png', '116235.png', '144215.png', '122190.png', '125827.png', '56895.png', '113359.png', '142670.png', '104625.png', '110650.png', '116547.png', '111228.png', '91306.png', '14318.png', '17611.png', '97987.png', '6677.png', '143220.png', '115700.png', '108037.png', '108023.png', '145645.png', '122806.png', '4074.png', '9550.png', '108745.png', '107476.png', '88858.png', '64628.png', '122635.png', '114387.png', '5381.png', '115927.png', '71225.png', '122153.png', '1681.png', '110687.png', '81868.png', '126321.png', '100480.png', '72738.png', '71231.png', '122621.png', '114393.png', '24218.png', '108962.png', '73340.png', '60472.png', '135375.png', '72076.png', '88864.png', '147085.png', '73368.png', '32334.png', '120778.png', '59581.png', '36146.png', '125614.png', '74375.png', '121472.png', '88870.png', '140926.png', '121314.png', '123503.png', '73344.png', '117846.png', '88848.png', '114397.png', '132436.png', '36618.png', '67331.png', '122625.png', '29738.png', '122143.png', '10807.png', '67457.png', '21402.png', '1685.png', '25670.png', '39259.png', '115923.png', '134053.png', '122631.png', '6854.png', '3904.png', '84096.png', '135365.png', '64604.png', '140922.png', '88874.png', '137214.png', '126319.png', '74371.png', '48488.png', '32330.png', '74365.png', '72072.png', '97940.png', '88860.png', '3910.png', '135371.png', '60476.png', '125189.png', '11264.png', '134084.png', '117885.png', '72927.png', '86118.png', '110654.png', '45153.png', '56649.png', '125823.png', '48463.png', '53725.png', '15770.png', '43536.png', '143218.png', '58116.png', '119894.png', '52375.png', '14320.png', '84055.png', '4070.png', '54062.png', '91458.png', '108027.png', '103600.png', '45392.png', '138319.png', '38351.png', '113822.png', '126899.png', '98681.png', '88486.png', '139775.png', '40598.png', '93918.png', '122355.png', '91869.png', '130989.png', '136320.png', '85834.png', '90587.png', '127205.png', '141180.png', '86483.png', '128888.png', '144946.png', '10387.png', '94093.png', '30043.png', '139991.png', '126669.png', '121660.png', '14693.png', '127211.png', '11933.png', '70301.png', '40229.png', '140261.png', '24963.png', '147268.png', '141619.png', '6459.png', '112527.png', '3535.png', '123936.png', '98656.png', '116755.png', '52639.png', '141143.png', '124917.png', '118988.png', '145457.png', '19412.png', '105715.png', '43697.png', '21774.png', '112490.png', '129406.png', '96900.png', '715.png', '75443.png', '38557.png', '112484.png', '85968.png', '71157.png', '134443.png', '127359.png', '129374.png', '126047.png', '84486.png', '72476.png', '73768.png', '39661.png', '18877.png', '17588.png', '137176.png', '118195.png', '62671.png', '43867.png', '85954.png', '144173.png', '11674.png', '73797.png', '118618.png', '114036.png', '13711.png', '42238.png', '142516.png', '99372.png', '113017.png', '108423.png', '54466.png', '51278.png', '56517.png', '115472.png', '124877.png', '22296.png', '87158.png', '12355.png', '64994.png', '1083.png', '24368.png', '110085.png', '108812.png', '47195.png', '1929.png', '49812.png', '28546.png', '125002.png', '36988.png', '88900.png', '130369.png', '34147.png', '141590.png', '138053.png', '24432.png', '53862.png', '24426.png', '123467.png', '38782.png', '145709.png', '1040.png', '55234.png', '131936.png', '126292.png', '94468.png', '124485.png', '57437.png', '107248.png', '1732.png', '131922.png', '116345.png', '42984.png', '81071.png', '114234.png', '19758.png', '39488.png', '75866.png', '107506.png', '38966.png', '68837.png', '111402.png', '129189.png', '111416.png', '22094.png', '84135.png', '54664.png', '22095.png', '129188.png', '42761.png', '89376.png', '1069.png', '54665.png', '111371.png', '38967.png', '82237.png', '73580.png', '116344.png', '136094.png', '131923.png', '1733.png', '107249.png', '110735.png', '19759.png', '58063.png', '114235.png', '120184.png', '57344.png', '145708.png', '38783.png', '124484.png', '119063.png', '55235.png', '24427.png', '119922.png', '141591.png', '130368.png', '76375.png', '142098.png', '125003.png', '53863.png', '90828.png', '4688.png', '7381.png', '25063.png', '126522.png', '28553.png', '47194.png', '110084.png', '24369.png', '64995.png', '1082.png', '92554.png', '54467.png', '108422.png', '87159.png', '124876.png', '115473.png', '56516.png', '78833.png', '105674.png', '113016.png', '46711.png', '99373.png', '96726.png', '92540.png', '147309.png', '146017.png', '13710.png', '114037.png', '144600.png', '142517.png', '43899.png', '121926.png', '109072.png', '11675.png', '144172.png', '105890.png', '97404.png', '127402.png', '64567.png', '63208.png', '26754.png', '114976.png', '85955.png', '43866.png', '91934.png', '73769.png', '72477.png', '26026.png', '18876.png', '39660.png', '137605.png', '112485.png', '55786.png', '44853.png', '126720.png', '129375.png', '127358.png', '41095.png', '68407.png', '51292.png', '135990.png', '43696.png', '714.png', '75442.png', '96901.png', '129407.png', '19413.png', '853.png', '91897.png', '146639.png', '108230.png', '105714.png', '124916.png', '80756.png', '130963.png', '86441.png', '12552.png', '28802.png', '30095.png', '107659.png', '98657.png', '123937.png', '83511.png', '3534.png', '122397.png', '52638.png', '109106.png', '90579.png', '140260.png', '97216.png', '18043.png', '93716.png', '112526.png', '141618.png', '13670.png', '97570.png', '147269.png', '126668.png', '890.png', '139990.png', '70300.png', '78984.png', '27258.png', '127210.png', '90592.png', '121661.png', '24745.png', '141181.png', '127204.png', '85835.png', '30056.png', '10386.png', '125375.png', '64407.png', '86482.png', '93919.png', '50952.png', '139774.png', '45387.png', '136321.png', '130988.png', '91868.png', '122354.png', '68573.png', '67640.png', '46842.png', '138318.png', '23016.png', '45393.png', '98680.png', '21167.png', '85438.png', '63803.png', '128484.png', '122803.png', '4071.png', '84054.png', '119895.png', '9555.png', '108026.png', '91459.png', '13328.png', '54063.png', '113360.png', '91471.png', '120782.png', '53724.png', '15771.png', '48462.png', '125822.png', '51655.png', '58117.png', '143219.png', '91317.png', '117884.png', '3722.png', '125188.png', '11503.png', '56648.png', '45152.png', '86119.png', '72926.png', '32331.png', '60477.png', '135370.png', '3911.png', '137567.png', '88861.png', '72073.png', '140923.png', '88875.png', '86680.png', '72067.png', '135364.png', '84097.png', '3905.png', '123506.png', '36143.png', '48489.png', '74370.png', '32325.png', '126318.png', '120769.png', '115922.png', '35462.png', '1684.png', '6855.png', '122630.png', '83908.png', '134052.png', '29739.png', '122624.png', '67330.png', '133729.png', '114396.png', '108967.png', '136137.png', '131658.png', '21403.png', '10806.png', '4098.png', '122632.png', '6857.png', '1686.png', '63626.png', '10810.png', '21401.png', '56689.png', '121449.png', '72059.png', '52389.png', '106948.png', '67332.png', '122626.png', '72071.png', '140935.png', '88863.png', '10192.png', '3913.png', '125161.png', '135372.png', '122168.png', '124519.png', '32333.png', '32327.png', '74372.png', '121475.png', '123504.png', '10186.png', '84095.png', '11298.png', '121313.png', '88877.png', '129997.png', '91315.png', '64834.png', '58115.png', '125820.png', '144212.png', '57540.png', '15773.png', '53726.png', '72930.png', '43535.png', '81660.png', '43521.png', '45150.png', '108018.png', '134939.png', '3720.png', '129968.png', '117886.png', '4067.png', '144548.png', '3708.png', '97980.png', '91329.png', '109448.png', '118223.png', '54061.png', '100478.png', '108024.png', '9557.png', '119897.png', '4073.png', '84056.png', '49030.png', '46854.png', '122356.png', '136323.png', '130752.png', '676.png', '22478.png', '88485.png', '55828.png', '139776.png', '115288.png', '23014.png', '45391.png', '11918.png', '38352.png', '46840.png', '102092.png', '121663.png', '90590.png', '127212.png', '14690.png', '70302.png', '85823.png', '113809.png', '78038.png', '139992.png', '892.png', '96693.png', '125377.png', '144945.png', '10384.png', '105919.png', '133273.png', '85837.png', '14684.png', '127206.png', '24747.png', '110441.png', '141168.png', '122395.png', '104434.png', '51333.png', '123935.png', '73192.png', '98655.png', '116756.png', '96678.png', '13666.png', '83507.png', '19439.png', '107129.png', '140262.png', '105716.png', '10435.png', '56460.png', '82157.png', '107101.png', '14653.png', '98669.png', '32694.png', '42373.png', '82631.png', '115263.png', '31389.png', '11059.png', '37920.png', '146149.png', '86443.png', '80754.png', '36380.png', '56474.png', '135986.png', '43858.png', '146968.png', '52955.png', '44851.png', '133449.png', '112487.png', '129405.png', '75440.png', '33415.png', '716.png', '20469.png', '134454.png', '137175.png', '118196.png', '85957.png', '77519.png', '114974.png', '69727.png', '48931.png', '29465.png', '122578.png', '107908.png', '109925.png', '129439.png', '91088.png', '130168.png', '30120.png', '39662.png', '143186.png', '113969.png', '135010.png', '84485.png', '132019.png', '91936.png', '97374.png', '121930.png', '107049.png', '49408.png', '41054.png', '132794.png', '74945.png', '96718.png', '13706.png', '97406.png', '113028.png', '11677.png', '144170.png', '140316.png', '106343.png', '142529.png', '10541.png', '58539.png', '124874.png', '115471.png', '105662.png', '44110.png', '22295.png', '108420.png', '96730.png', '54465.png', '92556.png', '57178.png', '132964.png', '52000.png', '8259.png', '99371.png', '14733.png', '2012.png', '123458.png', '126520.png', '7383.png', '4846.png', '115698.png', '62458.png', '110086.png', '111398.png', '47196.png', '108839.png', '121273.png', '76363.png', '24425.png', '24431.png', '124479.png', '85599.png', '29673.png', '125001.png', '120179.png', '141593.png', '126508.png', '129808.png', '136928.png', '113558.png', '114237.png', '58061.png', '55237.png', '131935.png', '98251.png', '126291.png', '114545.png', '38781.png', '114223.png', '113564.png', '84136.png', '54667.png', '86721.png', '22097.png', '90625.png', '68820.png', '30487.png', '111401.png', '111367.png', '35299.png', '13538.png', '79087.png', '26583.png', '38965.png', '111400.png', '30486.png', '40161.png', '38964.png', '13539.png', '86720.png', '54666.png', '80351.png', '111372.png', '113203.png', '68821.png', '114544.png', '126290.png', '131934.png', '55236.png', '114222.png', '38780.png', '11306.png', '58060.png', '114236.png', '36961.png', '90618.png', '110736.png', '57435.png', '85598.png', '24430.png', '73568.png', '141592.png', '120178.png', '132568.png', '108838.png', '24424.png', '42789.png', '63747.png', '116390.png', '115699.png', '29128.png', '47197.png', '111399.png', '126521.png', '120150.png', '104780.png', '134643.png', '24418.png', '127159.png', '136054.png', '54470.png', '52001.png', '132965.png', '57179.png', '123868.png', '99370.png', '9152.png', '99364.png', '115470.png', '124875.png', '30690.png', '142528.png', '56273.png', '54464.png', '96731.png', '108421.png', '132781.png', '97407.png', '13707.png', '89639.png', '106342.png', '109071.png', '144171.png', '105887.png', '107048.png', '65685.png', '104227.png', '82778.png', '132795.png', '39663.png', '91089.png', '91937.png', '111819.png', '69732.png', '84484.png', '26025.png', '69726.png', '85956.png', '12394.png', '43865.png', '137174.png', '107909.png', '122579.png', '75441.png', '129404.png', '96902.png', '134455.png', '51291.png', '68410.png', '43695.png', '129362.png', '52954.png', '146969.png', '43859.png', '68404.png', '135039.png', '112486.png', '133448.png', '44850.png', '6467.png', '146148.png', '12551.png', '124915.png', '80755.png', '141141.png', '91894.png', '105717.png', '115262.png', '82630.png', '10.png', '42372.png', '32695.png', '98668.png', '19438.png', '91102.png', '140263.png', '97215.png', '107128.png', '24975.png', '130948.png', '6329.png', '110440.png', '116757.png', '73193.png', '123934.png', '3537.png', '83512.png', '10385.png', '144944.png', '147295.png', '86481.png', '96692.png', '24746.png', '127207.png', '141182.png', '85836.png', '133272.png', '105918.png', '85822.png', '70303.png', '134509.png', '43911.png', '72514.png', '90591.png', '121662.png', '64410.png', '139993.png', '44918.png', '30041.png', '113808.png', '38435.png', '5191.png', '115289.png', '46841.png', '38353.png', '11919.png', '55183.png', '45390.png', '65040.png', '23015.png', '136322.png', '122357.png', '46855.png', '139777.png', '22479.png', '108025.png', '100479.png', '57569.png', '125809.png', '51118.png', '122800.png', '84057.png', '4072.png', '119896.png', '109449.png', '64809.png', '144549.png', '4066.png', '108031.png', '118222.png', '134938.png', '114430.png', '108019.png', '45151.png', '43520.png', '117887.png', '129969.png', '3721.png', '112733.png', '48307.png', '55430.png', '1644.png', '43534.png', '15772.png', '53727.png', '39298.png', '144213.png', '125821.png', '125612.png', '121474.png', '32326.png', '74373.png', '88876.png', '72064.png', '121312.png', '11299.png', '3906.png', '37538.png', '123505.png', '135373.png', '60474.png', '125160.png', '20050.png', '3912.png', '140934.png', '72070.png', '33992.png', '32332.png', '124518.png', '136134.png', '56688.png', '115935.png', '10805.png', '21400.png', '122627.png', '78213.png', '132434.png', '67333.png', '114395.png', '61742.png', '72058.png', '126455.png', '108970.png', '6856.png', '122633.png', '132420.png', '4099.png', '40940.png', '30519.png', '122155.png', '110681.png', '1687.png', '131897.png', '131656.png', '10808.png', '19192.png', '114398.png', '4080.png', '108969.png', '121323.png', '83906.png', '135342.png', '4094.png', '39530.png', '29045.png', '56691.png', '62534.png', '121451.png', '35444.png', '126316.png', '72069.png', '103800.png', '144587.png', '73363.png', '140939.png', '108799.png', '120773.png', '34996.png', '67470.png', '48493.png', '56646.png', '134935.png', '115723.png', '74381.png', '72928.png', '86117.png', '108014.png', '111223.png', '38821.png', '125186.png', '143217.png', '125192.png', '42141.png', '129970.png', '91319.png', '75935.png', '1891.png', '1649.png', '59561.png', '111579.png', '1661.png', '114401.png', '51115.png', '85422.png', '48444.png', '144550.png', '12986.png', '109450.png', '147059.png', '144544.png', '17632.png', '114373.png', '114415.png', '85436.png', '48450.png', '19179.png', '98301.png', '91443.png', '81650.png', '55830.png', '53299.png', '30702.png', '48861.png', '131454.png', '130992.png', '130986.png', '121653.png', '45389.png', '56493.png', '26174.png', '115290.png', '93917.png', '126882.png', '136449.png', '131326.png', '22474.png', '10388.png', '30058.png', '120203.png', '128887.png', '64409.png', '126672.png', '73175.png', '81485.png', '38362.png', '105915.png', '134510.png', '68541.png', '111974.png', '81491.png', '118950.png', '126666.png', '109685.png', '122400.png', '10377.png', '112528.png', '84264.png', '50753.png', '128878.png', '80002.png', '147267.png', '141616.png', '117450.png', '107125.png', '6330.png', '111747.png', '130951.png', '40232.png', '122399.png', '133294.png', '73820.png', '141164.png', '52636.png', '14663.png', '130945.png', '6442.png', '145464.png', '97542.png', '98671.png', '148168.png', '118987.png', '82629.png', '60874.png', '58333.png', '124918.png', '3274.png', '80758.png', '15541.png', '91899.png', '68582.png', '10439.png', '145458.png', '31391.png', '146151.png', '54482.png', '44849.png', '109901.png', '144801.png', '133451.png', '105685.png', '85973.png', '31568.png', '26014.png', '60041.png', '37119.png', '137151.png', '43698.png', '146970.png', '127356.png', '32075.png', '85967.png', '71158.png', '57821.png', '133445.png', '111182.png', '54496.png', '65893.png', '132773.png', '107910.png', '91084.png', '97393.png', '73767.png', '37131.png', '43868.png', '87194.png', '73773.png', '130170.png', '133479.png', '113971.png', '68353.png', '18887.png', '132954.png', '43883.png', '113024.png', '113030.png', '142519.png', '109068.png', '1259.png', '146019.png', '96728.png', '46079.png', '39875.png', '142531.png', '113018.png', '51263.png', '98077.png', '87157.png', '99369.png', '56518.png', '110263.png', '54469.png', '138060.png', '20667.png', '56929.png', '135222.png', '123440.png', '97813.png', '24367.png', '121257.png', '111394.png', '72135.png', '140871.png', '108809.png', '45941.png', '116389.png', '85595.png', '71372.png', '61161.png', '122004.png', '73565.png', '90826.png', '36987.png', '142096.png', '123468.png', '142082.png', '130372.png', '119938.png', '120161.png', '126510.png', '126276.png', '119086.png', '24429.png', '256.png', '124461.png', '61175.png', '94467.png', '131939.png', '127183.png', '89350.png', '63789.png', '107535.png', '145706.png', '3880.png', '61820.png', '38955.png', '59373.png', '115125.png', '55549.png', '86077.png', '126289.png', '105450.png', '145074.png', '10983.png', '68838.png', '144424.png', '75869.png', '1073.png', '131911.png', '1701.png', '129186.png', '1066.png', '129187.png', '147886.png', '68839.png', '21587.png', '8056.png', '131904.png', '83898.png', '114212.png', '3895.png', '105451.png', '57439.png', '127182.png', '131938.png', '61821.png', '145707.png', '42020.png', '107534.png', '141561.png', '129622.png', '120160.png', '119939.png', '142083.png', '36992.png', '61174.png', '124460.png', '24428.png', '23353.png', '73564.png', '61160.png', '124474.png', '85594.png', '142097.png', '36986.png', '126505.png', '130367.png', '28548.png', '75883.png', '108808.png', '128500.png', '72134.png', '127155.png', '116388.png', '123333.png', '138061.png', '111395.png', '121256.png', '24366.png', '123441.png', '135223.png', '51276.png', '56519.png', '99368.png', '116175.png', '54468.png', '110262.png', '74960.png', '85027.png', '46078.png', '57175.png', '37859.png', '1270.png', '96729.png', '121915.png', '129391.png', '102114.png', '113019.png', '51262.png', '142530.png', '46736.png', '113031.png', '146018.png', '42236.png', '111154.png', '92573.png', '66394.png', '94102.png', '113025.png', '121929.png', '107050.png', '80611.png', '73772.png', '43869.png', '67707.png', '113970.png', '91085.png', '33424.png', '107911.png', '71617.png', '144182.png', '73766.png', '75317.png', '80836.png', '57820.png', '85966.png', '127357.png', '133444.png', '36560.png', '133450.png', '109900.png', '44848.png', '43699.png', '127343.png', '11861.png', '124892.png', '10438.png', '15540.png', '146150.png', '31390.png', '60875.png', '39900.png', '82628.png', '690.png', '118986.png', '128845.png', '98670.png', '130944.png', '52637.png', '73821.png', '122398.png', '40233.png', '123938.png', '19420.png', '96675.png', '6443.png', '141617.png', '128879.png', '80003.png', '37911.png', '40541.png', '112529.png', '50752.png', '10376.png', '116029.png', '80765.png', '130950.png', '6331.png', '65064.png', '67673.png', '68540.png', '57968.png', '109684.png', '126667.png', '118951.png', '32882.png', '73174.png', '64408.png', '126673.png', '128886.png', '30059.png', '10389.png', '113810.png', '36428.png', '143941.png', '105914.png', '38363.png', '124702.png', '90589.png', '45388.png', '121652.png', '22475.png', '131327.png', '126883.png', '55831.png', '138317.png', '130993.png', '114372.png', '49029.png', '17633.png', '11242.png', '144545.png', '109445.png', '75908.png', '52409.png', '98300.png', '112065.png', '114414.png', '85423.png', '51114.png', '114400.png', '144551.png', '91318.png', '125193.png', '143216.png', '38834.png', '45149.png', '108015.png', '86116.png', '119118.png', '74380.png', '115722.png', '134934.png', '125187.png', '38820.png', '111222.png', '128448.png', '25124.png', '60478.png', '56874.png', '48492.png', '33020.png', '120772.png', '126317.png', '144592.png', '123509.png', '72068.png', '129742.png', '4095.png', '70657.png', '106951.png', '121450.png', '56690.png', '29044.png', '19187.png', '125622.png', '10809.png', '131657.png', '136138.png', '88846.png', '63159.png', '121322.png', '108968.png', '36616.png', '114399.png', '83913.png', '56692.png', '20704.png', '131899.png', '1689.png', '121452.png', '106953.png', '128476.png', '6680.png', '3920.png', '123523.png', '135341.png', '29720.png', '70655.png', '4097.png', '83911.png', '36614.png', '121320.png', '34003.png', '72056.png', '127037.png', '25668.png', '125620.png', '56686.png', '120770.png', '97794.png', '88878.png', '97958.png', '3908.png', '134077.png', '135369.png', '32328.png', '53729.png', '59562.png', '56651.png', '134922.png', '125191.png', '143214.png', '129973.png', '75936.png', '111220.png', '38822.png', '11268.png', '125185.png', '93519.png', '122832.png', '56645.png', '134936.png', '74382.png', '91468.png', '108017.png', '114416.png', '125813.png', '48453.png', '98302.png', '55402.png', '109447.png', '3707.png', '144547.png', '4068.png', '5376.png', '17631.png', '85347.png', '110102.png', '119898.png', '12985.png', '13325.png', '114402.png', '85421.png', '115293.png', '22477.png', '55827.png', '131325.png', '111793.png', '122359.png', '11917.png', '48862.png', '130991.png', '137740.png', '137998.png', '55833.png', '26605.png', '114199.png', '25324.png', '118953.png', '109686.png', '122365.png', '126103.png', '24748.png', '127209.png', '38361.png', '105916.png', '85838.png', '26639.png', '120200.png', '126671.png', '97569.png', '116759.png', '19422.png', '40231.png', '118012.png', '52635.png', '141167.png', '80773.png', '6333.png', '141173.png', '107126.png', '130952.png', '10374.png', '80001.png', '31392.png', '98666.png', '146152.png', '15542.png', '3263.png', '105719.png', '7011.png', '106562.png', '91130.png', '6469.png', '93727.png', '133446.png', '26765.png', '112488.png', '64556.png', '43857.png', '99395.png', '57822.png', '135989.png', '60042.png', '26017.png', '43843.png', '89192.png', '137152.png', '62655.png', '64542.png', '54481.png', '109902.png', '133452.png', '123641.png', '123899.png', '91093.png', '113972.png', '73770.png', '80834.png', '73764.png', '144180.png', '71173.png', '107913.png', '33426.png', '91087.png', '42234.png', '131292.png', '92565.png', '49407.png', '113033.png', '57639.png', '107046.png', '86262.png', '46720.png', '113027.png', '4450.png', '13709.png', '54442.png', '48043.png', '114006.png', '110260.png', '128927.png', '116177.png', '87154.png', '89179.png', '51274.png', '18112.png', '51260.png', '142532.png', '129393.png', '8256.png', '13735.png', '110274.png', '83440.png', '57177.png', '123866.png', '16895.png', '4685.png', '1925.png', '110923.png', '72136.png', '140872.png', '24370.png', '47199.png', '135221.png', '51923.png', '3840.png', '24364.png', '111397.png', '138063.png', '4849.png', '115697.png', '73572.png', '35527.png', '255.png', '31999.png', '132566.png', '36990.png', '142081.png', '130371.png', '81082.png', '108836.png', '129620.png', '126507.png', '92954.png', '36984.png', '37324.png', '71371.png', '85596.png', '73566.png', '117057.png', '127194.png', '90616.png', '40147.png', '47628.png', '145711.png', '114238.png', '123494.png', '66180.png', '39484.png', '129807.png', '120189.png', '145705.png', '84111.png', '48269.png', '55238.png', '107250.png', '127180.png', '12173.png', '1702.png', '131912.png', '7373.png', '129185.png', '87430.png', '84139.png', '11334.png', '58052.png', '4108.png', '116407.png', '111368.png', '35296.png', '13537.png', '53675.png', '30488.png', '129190.png', '110711.png', '129184.png', '131913.png', '1703.png', '58053.png', '57360.png', '87431.png', '145704.png', '42023.png', '120188.png', '141562.png', '106629.png', '127181.png', '107251.png', '94465.png', '90617.png', '42751.png', '129806.png', '65488.png', '64796.png', '3896.png', '114239.png', '145710.png', '142094.png', '36985.png', '92955.png', '126506.png', '80389.png', '120177.png', '90824.png', '124477.png', '37325.png', '73573.png', '126512.png', '108837.png', '81083.png', '130370.png', '142080.png', '132567.png', '111396.png', '24365.png', '123442.png', '135220.png', '47198.png', '47826.png', '4848.png', '138062.png', '1930.png', '1924.png', '4684.png', '125999.png', '76437.png', '60533.png', '111382.png', '74546.png', '137423.png', '24371.png', '140873.png', '129392.png', '142533.png', '51261.png', '41714.png', '123867.png', '57176.png', '118629.png', '99419.png', '110261.png', '114007.png', '16880.png', '48042.png', '51275.png', '89178.png', '87155.png', '116176.png', '11679.png', '113026.png', '145260.png', '86263.png', '54443.png', '13708.png', '94101.png', '29480.png', '92564.png', '64594.png', '42235.png', '107047.png', '113032.png', '71172.png', '122204.png', '144181.png', '73765.png', '91938.png', '75314.png', '80835.png', '91086.png', '107912.png', '78156.png', '113973.png', '91092.png', '73771.png', '77517.png', '43842.png', '11862.png', '124891.png', '26016.png', '133453.png', '718.png', '109903.png', '54480.png', '133447.png', '57823.png', '5940.png', '131536.png', '99394.png', '43856.png', '4519.png', '146147.png', '106563.png', '97540.png', '146153.png', '43063.png', '98667.png', '143995.png', '51301.png', '105718.png', '15543.png', '130953.png', '80766.png', '6332.png', '107127.png', '80000.png', '147265.png', '40542.png', '83509.png', '10375.png', '3538.png', '19423.png', '13668.png', '6440.png', '116758.png', '97568.png', '80772.png', '141166.png', '14661.png', '52634.png', '73822.png', '40230.png', '85839.png', '105917.png', '65073.png', '127208.png', '24749.png', '126670.png', '128885.png', '120201.png', '26638.png', '109687.png', '118952.png', '44917.png', '33221.png', '126102.png', '68543.png', '122364.png', '130990.png', '36371.png', '48863.png', '57943.png', '11916.png', '114198.png', '55832.png', '131324.png', '55826.png', '22476.png', '93915.png', '115292.png', '29245.png', '122358.png', '121651.png', '9559.png', '110103.png', '119899.png', '85346.png', '84058.png', '144552.png', '48446.png', '85420.png', '51117.png', '114403.png', '90993.png', '1663.png', '91455.png', '87237.png', '90987.png', '112066.png', '48452.png', '125812.png', '41310.png', '114371.png', '70873.png', '4069.png', '144546.png', '133916.png', '109446.png', '93518.png', '38823.png', '54735.png', '111221.png', '7548.png', '108016.png', '15769.png', '74383.png', '115721.png', '134937.png', '31807.png', '115735.png', '122199.png', '56888.png', '134923.png', '113344.png', '56650.png', '53728.png', '1893.png', '75937.png', '129972.png', '88892.png', '51659.png', '143215.png', '125190.png', '94263.png', '135368.png', '3909.png', '97959.png', '88879.png', '108957.png', '32329.png', '124517.png', '123278.png', '122166.png', '48491.png', '126300.png', '34994.png', '120771.png', '65265.png', '121321.png', '36615.png', '122628.png', '56687.png', '125621.png', '25669.png', '127036.png', '121453.png', '1688.png', '56693.png', '19184.png', '70654.png', '4096.png', '135340.png', '29721.png', '133731.png', '3921.png', '52393.png', '128477.png', '106952.png', '29719.png', '109481.png', '73365.png', '88869.png', '120775.png', '32339.png', '61007.png', '39278.png', '61013.png', '28375.png', '74378.png', '121319.png', '73371.png', '64625.png', '128473.png', '72047.png', '106956.png', '125157.png', '4092.png', '29043.png', '71228.png', '62532.png', '53937.png', '62526.png', '60331.png', '64631.png', '97961.png', '54719.png', '144542.png', '114375.png', '142133.png', '51661.png', '17634.png', '114413.png', '125816.png', '48456.png', '1673.png', '43517.png', '142641.png', '51113.png', '85424.png', '48442.png', '4079.png', '143239.png', '93520.png', '110107.png', '117668.png', '50543.png', '125194.png', '38833.png', '17608.png', '75933.png', '116238.png', '74393.png', '110649.png', '142669.png', '66783.png', '56640.png', '134933.png', '1883.png', '74387.png', '108012.png', '108774.png', '14315.png', '129962.png', '75927.png', '111225.png', '126489.png', '38827.png', '122360.png', '65063.png', '37725.png', '37731.png', '96699.png', '130016.png', '126674.png', '128881.png', '97587.png', '136467.png', '65077.png', '78998.png', '67660.png', '121655.png', '131446.png', '130758.png', '56495.png', '133537.png', '126884.png', '127542.png', '22472.png', '26600.png', '29255.png', '131452.png', '4509.png', '3266.png', '51305.png', '5171.png', '144740.png', '115269.png', '47201.png', '116760.png', '106567.png', '97544.png', '60872.png', '3272.png', '17344.png', '121866.png', '105720.png', '40234.png', '52630.png', '80776.png', '145462.png', '5159.png', '145476.png', '147261.png', '80004.png', '4521.png', '92366.png', '75304.png', '73775.png', '87192.png', '68355.png', '27456.png', '132775.png', '89815.png', '96935.png', '91082.png', '75310.png', '23156.png', '35734.png', '73761.png', '87186.png', '136275.png', '11682.png', '85791.png', '21999.png', '99390.png', '127350.png', '114942.png', '133443.png', '64553.png', '116833.png', '708.png', '127422.png', '128711.png', '137631.png', '133457.png', '113787.png', '36567.png', '26012.png', '105683.png', '117287.png', '121735.png', '91900.png', '87151.png', '51271.png', '112314.png', '48046.png', '110265.png', '97424.png', '53300.png', '1277.png', '92548.png', '51265.png', '142537.png', '145258.png', '129396.png', '146989.png', '12348.png', '14739.png', '92206.png', '113036.png', '10577.png', '54335.png', '110259.png', '108416.png', '148032.png', '64590.png', '111147.png', '115321.png', '92574.png', '46043.png', '52036.png', '14063.png', '111153.png', '113022.png', '57628.png', '21231.png', '142084.png', '126516.png', '136705.png', '39318.png', '125779.png', '85593.png', '12189.png', '63770.png', '42966.png', '92951.png', '48293.png', '64989.png', '111386.png', '60537.png', '62446.png', '98298.png', '138066.png', '62452.png', '135224.png', '127620.png', '111392.png', '121251.png', '111379.png', '119725.png', '114201.png', '145728.png', '16338.png', '94449.png', '131917.png', '7376.png', '131903.png', '15625.png', '1075.png', '119719.png', '127191.png', '127185.png', '129816.png', '107533.png', '141566.png', '46241.png', '123485.png', '127184.png', '115888.png', '145067.png', '105443.png', '132589.png', '123484.png', '107532.png', '141567.png', '64787.png', '120199.png', '27866.png', '123490.png', '59374.png', '127190.png', '57417.png', '22088.png', '131902.png', '127806.png', '144423.png', '57371.png', '145729.png', '114200.png', '55572.png', '111378.png', '109537.png', '7377.png', '1706.png', '16339.png', '138067.png', '98299.png', '111393.png', '97814.png', '135225.png', '60536.png', '111387.png', '34167.png', '130349.png', '137426.png', '64988.png', '7388.png', '110927.png', '40180.png', '23355.png', '35537.png', '12188.png', '119095.png', '122003.png', '85592.png', '38775.png', '142091.png', '135219.png', '92950.png', '120172.png', '129624.png', '36994.png', '17782.png', '142085.png', '125778.png', '61172.png', '81938.png', '52037.png', '57629.png', '113023.png', '117251.png', '56523.png', '113037.png', '92561.png', '71822.png', '111146.png', '64591.png', '92549.png', '1276.png', '6519.png', '14738.png', '121913.png', '1510.png', '12349.png', '146988.png', '129397.png', '102112.png', '145259.png', '142536.png', '46718.png', '112315.png', '53301.png', '110264.png', '133456.png', '123645.png', '137630.png', '109906.png', '128710.png', '121734.png', '89196.png', '11867.png', '105682.png', '26013.png', '114943.png', '26007.png', '72456.png', '99391.png', '709.png', '137624.png', '133442.png', '33422.png', '91083.png', '89814.png', '132774.png', '21998.png', '59823.png', '30895.png', '122201.png', '11683.png', '87187.png', '73760.png', '87193.png', '73774.png', '37136.png', '68354.png', '80005.png', '50754.png', '145477.png', '61589.png', '5158.png', '123094.png', '4520.png', '90570.png', '130956.png', '52631.png', '133293.png', '40235.png', '72287.png', '58334.png', '60873.png', '97545.png', '106566.png', '121867.png', '17345.png', '3273.png', '4508.png', '47200.png', '115268.png', '144741.png', '5170.png', '76036.png', '139769.png', '148190.png', '87971.png', '138311.png', '131453.png', '54297.png', '125432.png', '22315.png', '121654.png', '22473.png', '87965.png', '126885.png', '29526.png', '136466.png', '97586.png', '128880.png', '126675.png', '73172.png', '96698.png', '37730.png', '67661.png', '38365.png', '105912.png', '65076.png', '23037.png', '85828.png', '26629.png', '118957.png', '141375.png', '74386.png', '134932.png', '115724.png', '56641.png', '66782.png', '85419.png', '82410.png', '38826.png', '111224.png', '75926.png', '9560.png', '75932.png', '111230.png', '42146.png', '17609.png', '125195.png', '142668.png', '110648.png', '74392.png', '116239.png', '48443.png', '114406.png', '85425.png', '51112.png', '1666.png', '43516.png', '117669.png', '110106.png', '85343.png', '93521.png', '4078.png', '17635.png', '142132.png', '114374.png', '144543.png', '90982.png', '140043.png', '48457.png', '125817.png', '114412.png', '112088.png', '62527.png', '97960.png', '64630.png', '4093.png', '125156.png', '88854.png', '6684.png', '72046.png', '128472.png', '62533.png', '56696.png', '29042.png', '35443.png', '61012.png', '125618.png', '134073.png', '73370.png', '121318.png', '88868.png', '64618.png', '109480.png', '29718.png', '61006.png', '21422.png', '48494.png', '32338.png', '120774.png', '63161.png', '73372.png', '28376.png', '61010.png', '120776.png', '73366.png', '74421.png', '97962.png', '52380.png', '72050.png', '24216.png', '62525.png', '74347.png', '29040.png', '66757.png', '56694.png', '62531.png', '110689.png', '121454.png', '63149.png', '64626.png', '128470.png', '88856.png', '106955.png', '114389.png', '83903.png', '4091.png', '125154.png', '93523.png', '38818.png', '49039.png', '122808.png', '110104.png', '1102.png', '85427.png', '114404.png', '125815.png', '114410.png', '134918.png', '119134.png', '97037.png', '6679.png', '97989.png', '110110.png', '145887.png', '17637.png', '14316.png', '116549.png', '111226.png', '125183.png', '38824.png', '113357.png', '11508.png', '134930.png', '74384.png', '74390.png', '113343.png', '83718.png', '38830.png', '137593.png', '75930.png', '120206.png', '55809.png', '73170.png', '128882.png', '118955.png', '97590.png', '94099.png', '122363.png', '126105.png', '48864.png', '14869.png', '131451.png', '128666.png', '29530.png', '126887.png', '87967.png', '127541.png', '131323.png', '148186.png', '121656.png', '44092.png', '56496.png', '85816.png', '3271.png', '106564.png', '97547.png', '32689.png', '694.png', '128699.png', '60871.png', '39904.png', '60865.png', '19418.png', '47202.png', '106570.png', '81457.png', '73819.png', '68587.png', '3265.png', '56469.png', '118000.png', '130954.png', '4522.png', '123096.png', '145475.png', '52141.png', '40237.png', '110448.png', '52633.png', '130940.png', '80775.png', '137168.png', '23155.png', '87185.png', '73762.png', '136276.png', '11681.png', '71175.png', '85792.png', '27455.png', '89816.png', '96936.png', '13928.png', '91081.png', '139637.png', '126717.png', '68356.png', '72468.png', '87191.png', '73776.png', '26011.png', '133332.png', '121736.png', '52948.png', '109904.png', '137632.png', '123647.png', '133454.png', '16878.png', '144810.png', '113790.png', '133440.png', '60736.png', '111187.png', '99393.png', '146961.png', '114941.png', '134449.png', '142534.png', '129395.png', '105119.png', '46068.png', '5006.png', '108429.png', '110266.png', '146020.png', '87152.png', '81523.png', '51272.png', '112317.png', '43886.png', '113021.png', '46726.png', '144179.png', '132789.png', '66390.png', '139804.png', '52035.png', '111150.png', '108415.png', '99436.png', '148031.png', '64593.png', '56247.png', '49401.png', '113035.png', '46732.png', '56521.png', '117253.png', '51919.png', '92952.png', '38777.png', '142093.png', '124470.png', '122001.png', '119097.png', '35535.png', '73560.png', '64008.png', '21232.png', '142087.png', '81084.png', '137418.png', '136706.png', '135227.png', '145918.png', '24362.png', '62337.png', '127623.png', '111391.png', '137356.png', '138065.png', '115849.png', '66637.png', '47835.png', '40182.png', '62445.png', '138071.png', '137424.png', '140874.png', '119901.png', '72130.png', '128504.png', '111385.png', '60534.png', '36799.png', '127804.png', '42018.png', '110070.png', '14538.png', '131900.png', '145059.png', '10992.png', '52579.png', '131914.png', '1704.png', '140135.png', '7375.png', '109535.png', '119726.png', '58054.png', '123486.png', '145703.png', '76381.png', '122798.png', '127186.png', '107256.png', '127192.png', '40141.png', '114558.png', '133681.png', '142078.png', '58068.png', '75844.png', '42030.png', '114559.png', '80402.png', '127193.png', '42031.png', '66187.png', '142079.png', '122799.png', '145702.png', '123487.png', '141564.png', '107531.png', '42025.png', '12174.png', '107257.png', '127187.png', '46525.png', '7374.png', '140134.png', '116372.png', '10993.png', '11333.png', '104010.png', '119727.png', '42019.png', '145058.png', '90639.png', '131901.png', '14539.png', '138070.png', '64035.png', '4682.png', '60535.png', '72131.png', '119900.png', '140875.png', '137425.png', '111390.png', '24363.png', '30316.png', '135226.png', '66636.png', '61159.png', '62450.png', '138064.png', '67500.png', '64009.png', '136707.png', '25055.png', '54874.png', '137419.png', '534.png', '81085.png', '36997.png', '28571.png', '142086.png', '132561.png', '92947.png', '36983.png', '142092.png', '38776.png', '92953.png', '51918.png', '120171.png', '35534.png', '73561.png', '92562.png', '64592.png', '99437.png', '74959.png', '117252.png', '56520.png', '10575.png', '46733.png', '113034.png', '113020.png', '99345.png', '12376.png', '111151.png', '1249.png', '52034.png', '132788.png', '53302.png', '96738.png', '108428.png', '110267.png', '95231.png', '57164.png', '48044.png', '112316.png', '51273.png', '78839.png', '87153.png', '86259.png', '119257.png', '51267.png', '142535.png', '98701.png', '54479.png', '137627.png', '111186.png', '113949.png', '133441.png', '93867.png', '16879.png', '134448.png', '114940.png', '46928.png', '85963.png', '99392.png', '121737.png', '43844.png', '89195.png', '133333.png', '125551.png', '60045.png', '26010.png', '125237.png', '133455.png', '109905.png', '38560.png', '126716.png', '73777.png', '87190.png', '85787.png', '57819.png', '71174.png', '37121.png', '73763.png', '80833.png', '137169.png', '13929.png', '89817.png', '27454.png', '19425.png', '80774.png', '110449.png', '52632.png', '40236.png', '105722.png', '38399.png', '123097.png', '130955.png', '55149.png', '72290.png', '106571.png', '60864.png', '56468.png', '3264.png', '3270.png', '68592.png', '36388.png', '143039.png', '695.png', '148187.png', '87966.png', '126886.png', '133535.png', '115294.png', '29243.png', '85817.png', '68579.png', '56497.png', '138306.png', '131444.png', '121657.png', '48865.png', '87972.png', '37727.png', '31356.png', '109681.png', '118954.png', '24983.png', '126104.png', '122362.png', '132171.png', '37041.png', '68551.png', '136465.png', '97585.png', '55808.png', '73171.png', '126676.png', '120207.png', '39291.png', '113342.png', '98339.png', '74391.png', '75931.png', '83719.png', '125196.png', '38825.png', '125182.png', '109468.png', '111227.png', '75925.png', '91309.png', '14317.png', '74385.png', '134931.png', '108038.png', '134919.png', '48454.png', '114411.png', '125814.png', '17636.png', '70875.png', '97988.png', '110111.png', '108992.png', '146343.png', '110105.png', '122809.png', '58135.png', '38819.png', '93522.png', '48440.png', '114405.png', '85426.png', '51111.png', '110688.png', '56695.png', '29041.png', '69303.png', '114388.png', '106954.png', '137551.png', '128471.png', '64627.png', '24217.png', '21409.png', '71216.png', '139226.png', '120777.png', '73367.png', '97793.png', '109497.png', '61011.png', '38881.png', '122649.png', '4785.png', '26301.png', '79605.png', '133022.png', '25608.png', '43599.png', '81814.png', '134981.png', '50283.png', '38895.png', '29740.png', '92868.png', '71503.png', '122675.png', '67361.png', '126413.png', '146481.png', '129046.png', '56802.png', '85482.png', '84788.png', '122107.png', '129052.png', '73466.png', '126407.png', '130265.png', '117631.png', '118502.png', '96401.png', '7529.png', '12067.png', '54032.png', '10670.png', '134956.png', '84777.png', '134942.png', '72787.png', '62594.png', '48369.png', '133793.png', '127916.png', '11234.png', '47072.png', '109355.png', '45103.png', '116261.png', '129091.png', '110610.png', '92129.png', '115768.png', '133977.png', '14358.png', '107185.png', '6390.png', '67639.png', '70423.png', '112588.png', '133546.png', '113696.png', '72234.png', '137720.png', '138413.png', '25378.png', '44792.png', '57936.png', '36304.png', '53588.png', '73658.png', '24700.png', '11793.png', '68536.png', '87097.png', '146683.png', '127269.png', '67163.png', '26659.png', '27547.png', '71715.png', '91187.png', '625.png', '126605.png', '139043.png', '11787.png', '40245.png', '114884.png', '127296.png', '52641.png', '126188.png', '87068.png', '130932.png', '52127.png', '4236.png', '19442.png', '88429.png', '91178.png', '11778.png', '194.png', '69833.png', '112211.png', '82892.png', '123972.png', '128827.png', '43016.png', '106502.png', '44779.png', '137907.png', '16995.png', '69199.png', '123966.png', '82886.png', '69827.png', '91622.png', '123147.png', '11803.png', '133432.png', '135043.png', '82919.png', '64522.png', '109962.png', '120328.png', '137898.png', '64536.png', '109976.png', '128760.png', '20374.png', '71885.png', '29350.png', '76654.png', '2096.png', '138215.png', '36258.png', '75375.png', '139123.png', '12488.png', '120314.png', '33446.png', '108498.png', '122503.png', '67017.png', '16822.png', '82931.png', '129442.png', '96944.png', '44802.png', '120300.png', '120466.png', '81586.png', '126017.png', '67765.png', '28072.png', '59660.png', '49473.png', '108301.png', '118674.png', '42240.png', '62190.png', '127484.png', '139862.png', '116881.png', '125293.png', '125287.png', '62184.png', '108473.png', '139876.png', '54436.png', '98028.png', '87108.png', '16163.png', '142552.png', '58542.png', '69947.png', '114072.png', '45513.png', '55714.png', '92539.png', '30198.png', '114066.png', '57665.png', '107595.png', '69204.png', '112198.png', '126229.png', '138017.png', '95915.png', '69210.png', '89482.png', '85290.png', '86799.png', '118489.png', '108842.png', '115813.png', '68898.png', '49856.png', '79995.png', '49842.png', '126215.png', '14589.png', '25032.png', '61670.png', '50446.png', '40655.png', '126598.png', '44355.png', '121591.png', '40133.png', '145003.png', '67598.png', '14576.png', '131796.png', '64091.png', '54152.png', '110980.png', '140609.png', '89441.png', '122932.png', '27802.png', '143300.png', '108881.png', '116467.png', '140621.png', '145759.png', '104063.png', '29807.png', '47660.png', '36099.png', '68683.png', '113279.png', '27194.png', '95726.png', '87322.png', '98202.png', '110764.png', '109235.png', '119026.png', '25797.png', '29813.png', '19708.png', '84159.png', '133803.png', '129683.png', '25796.png', '119027.png', '110765.png', '139491.png', '133802.png', '84158.png', '114265.png', '104062.png', '145758.png', '13556.png', '129696.png', '140620.png', '98565.png', '139485.png', '116466.png', '108880.png', '98203.png', '87323.png', '110771.png', '95727.png', '27195.png', '113278.png', '68682.png', '47661.png', '54153.png', '131797.png', '14577.png', '52522.png', '13218.png', '99135.png', '68872.png', '77952.png', '94411.png', '27803.png', '96560.png', '1039.png', '111335.png', '54621.png', '40654.png', '50447.png', '56036.png', '145002.png', '134823.png', '121590.png', '44354.png', '141264.png', '101873.png', '14588.png', '126214.png', '49843.png', '134610.png', '71304.png', '25033.png', '108843.png', '546.png', '85291.png', '37423.png', '70768.png', '49857.png', '122066.png', '68899.png', '115812.png', '33123.png', '95914.png', '125721.png', '66644.png', '138016.png', '69211.png', '40683.png', '69205.png', '60547.png', '107594.png', '62436.png', '112199.png', '69563.png', '66650.png', '114067.png', '92538.png', '106463.png', '55715.png', '116116.png', '58543.png', '142553.png', '121976.png', '87121.png', '140344.png', '139687.png', '118891.png', '114073.png', '58225.png', '54437.png', '108472.png', '62185.png', '125286.png', '57658.png', '16162.png', '59675.png', '107027.png', '108314.png', '106339.png', '108300.png', '56552.png', '105142.png', '116880.png', '62191.png', '13768.png', '42241.png', '44803.png', '119580.png', '96945.png', '82930.png', '67764.png', '126016.png', '120467.png', '91958.png', '75374.png', '37147.png', '69985.png', '67016.png', '108499.png', '75412.png', '120315.png', '32759.png', '12489.png', '71884.png', '20375.png', '109977.png', '89859.png', '63258.png', '137899.png', '64537.png', '2097.png', '29351.png', '60037.png', '69761.png', '120329.png', '109963.png', '64523.png', '82918.png', '115392.png', '20361.png', '133433.png', '69198.png', '16994.png', '116704.png', '43765.png', '53576.png', '8357.png', '91623.png', '142433.png', '69826.png', '112210.png', '90529.png', '55113.png', '44778.png', '98613.png', '123973.png', '82893.png', '91179.png', '88428.png', '105022.png', '40250.png', '11779.png', '130927.png', '14601.png', '130933.png', '119379.png', '87069.png', '126189.png', '127297.png', '40244.png', '5.png', '52126.png', '91186.png', '71714.png', '17491.png', '27552.png', '132117.png', '11786.png', '95486.png', '13191.png', '120513.png', '127268.png', '97285.png', '87096.png', '68537.png', '11792.png', '26658.png', '133553.png', '44793.png', '54580.png', '138406.png', '6385.png', '24701.png', '131422.png', '53589.png', '60143.png', '57937.png', '67638.png', '107184.png', '131436.png', '64331.png', '137721.png', '127532.png', '113697.png', '115769.png', '110611.png', '129090.png', '64866.png', '70813.png', '3766.png', '57274.png', '133976.png', '17644.png', '47073.png', '45102.png', '99041.png', '62595.png', '141304.png', '72786.png', '134943.png', '48368.png', '9511.png', '14365.png', '7528.png', '9505.png', '96400.png', '118503.png', '117630.png', '145610.png', '49062.png', '10671.png', '13378.png', '141310.png', '12066.png', '54033.png', '73467.png', '129053.png', '122106.png', '67412.png', '71516.png', '126406.png', '75764.png', '139532.png', '126412.png', '67360.png', '28477.png', '145189.png', '56803.png', '96399.png', '79610.png', '43598.png', '29741.png', '38894.png', '26466.png', '122648.png', '38880.png', '25609.png', '368.png', '99096.png', '133023.png', '4784.png', '38896.png', '127726.png', '107390.png', '125657.png', '4786.png', '26302.png', '79606.png', '33069.png', '24515.png', '81803.png', '26464.png', '135336.png', '38882.png', '112789.png', '126404.png', '139524.png', '32439.png', '81195.png', '424.png', '71514.png', '10698.png', '129051.png', '73465.png', '126362.png', '146482.png', '56801.png', '67362.png', '126410.png', '64858.png', '129910.png', '117626.png', '9513.png', '107435.png', '4037.png', '27975.png', '145606.png', '134941.png', '44236.png', '108060.png', '72784.png', '25804.png', '45128.png', '54031.png', '12064.png', '98349.png', '72790.png', '10673.png', '125680.png', '85318.png', '42135.png', '96402.png', '117632.png', '129904.png', '133974.png', '64864.png', '54019.png', '129092.png', '4779.png', '12058.png', '109356.png', '45100.png', '6608.png', '127915.png', '11237.png', '47071.png', '48815.png', '6387.png', '34510.png', '65039.png', '44949.png', '44791.png', '125333.png', '133551.png', '41825.png', '133545.png', '138410.png', '137723.png', '64333.png', '52859.png', '62742.png', '24717.png', '6393.png', '107186.png', '140.png', '130702.png', '11784.png', '27550.png', '76079.png', '91184.png', '107810.png', '126606.png', '140583.png', '65777.png', '107804.png', '41819.png', '122474.png', '133579.png', '11790.png', '59930.png', '127281.png', '14603.png', '18039.png', '21860.png', '4235.png', '19441.png', '12514.png', '148120.png', '131385.png', '108504.png', '43029.png', '52124.png', '95309.png', '92466.png', '143061.png', '96166.png', '110439.png', '52642.png', '127295.png', '130931.png', '69824.png', '1417.png', '91621.png', '43767.png', '116706.png', '123965.png', '123971.png', '52118.png', '118059.png', '197.png', '107179.png', '43773.png', '69830.png', '36273.png', '138216.png', '131554.png', '64253.png', '64535.png', '75438.png', '109975.png', '76131.png', '135054.png', '60753.png', '133431.png', '35008.png', '64521.png', '32001.png', '131540.png', '64247.png', '5936.png', '69763.png', '91796.png', '126014.png', '67766.png', '59688.png', '16821.png', '82932.png', '119582.png', '25233.png', '44801.png', '120303.png', '116869.png', '25227.png', '120317.png', '122500.png', '75376.png', '120471.png', '15469.png', '107025.png', '130689.png', '59677.png', '142579.png', '134389.png', '62187.png', '52044.png', '62193.png', '42243.png', '116882.png', '108464.png', '119569.png', '59663.png', '18159.png', '107031.png', '108302.png', '75389.png', '69788.png', '91755.png', '55717.png', '83437.png', '104276.png', '114065.png', '103519.png', '33486.png', '87645.png', '78849.png', '142551.png', '51203.png', '58541.png', '51954.png', '114298.png', '7489.png', '66646.png', '67558.png', '125723.png', '69561.png', '6783.png', '107596.png', '131024.png', '69207.png', '63064.png', '25031.png', '87490.png', '31044.png', '35544.png', '42914.png', '126216.png', '35550.png', '64079.png', '141299.png', '142948.png', '144487.png', '75612.png', '108841.png', '97697.png', '117961.png', '53158.png', '56020.png', '143303.png', '44342.png', '131795.png', '110983.png', '54151.png', '98229.png', '121592.png', '50323.png', '56034.png', '50445.png', '40656.png', '116458.png', '54623.png', '89456.png', '98573.png', '13540.png', '119025.png', '59449.png', '47663.png', '68680.png', '95725.png', '27197.png', '52508.png', '81988.png', '116464.png', '98567.png', '101118.png', '108882.png', '129694.png', '107569.png', '110772.png', '95724.png', '47662.png', '38908.png', '114272.png', '81037.png', '140623.png', '129695.png', '101119.png', '108883.png', '116465.png', '94348.png', '114266.png', '59448.png', '25795.png', '66690.png', '121593.png', '42040.png', '40657.png', '50444.png', '53159.png', '54150.png', '98228.png', '110982.png', '131794.png', '64093.png', '100549.png', '142949.png', '28266.png', '115811.png', '101864.png', '81792.png', '64078.png', '131019.png', '108840.png', '13596.png', '144492.png', '84198.png', '63065.png', '25030.png', '75607.png', '126217.png', '42915.png', '35545.png', '39357.png', '76440.png', '113284.png', '69206.png', '133632.png', '60544.png', '126559.png', '45934.png', '6782.png', '107597.png', '7488.png', '108868.png', '107583.png', '125722.png', '138015.png', '140421.png', '87644.png', '108459.png', '114070.png', '58540.png', '94638.png', '142550.png', '78848.png', '44169.png', '116101.png', '69789.png', '103518.png', '114064.png', '104277.png', '98770.png', '118886.png', '55716.png', '46024.png', '105141.png', '125291.png', '116883.png', '62192.png', '73921.png', '108303.png', '107030.png', '8208.png', '84417.png', '92275.png', '59676.png', '108471.png', '52045.png', '62186.png', '134388.png', '120316.png', '128992.png', '120470.png', '75377.png', '28070.png', '126015.png', '91797.png', '116868.png', '120302.png', '44800.png', '25232.png', '119583.png', '126773.png', '96946.png', '16820.png', '109960.png', '148082.png', '64520.png', '115391.png', '20362.png', '69762.png', '64252.png', '138217.png', '36272.png', '105196.png', '76130.png', '20376.png', '75439.png', '109974.png', '52119.png', '35182.png', '128825.png', '54568.png', '3573.png', '144733.png', '123970.png', '82890.png', '95452.png', '107178.png', '118058.png', '43766.png', '91620.png', '141139.png', '6379.png', '110410.png', '182.png', '10458.png', '69825.png', '40509.png', '11020.png', '123964.png', '37781.png', '16997.png', '116707.png', '143060.png', '95308.png', '52125.png', '814.png', '43028.png', '54554.png', '97279.png', '130930.png', '110438.png', '127294.png', '96167.png', '142418.png', '59702.png', '18038.png', '127280.png', '14602.png', '118070.png', '108505.png', '148121.png', '4234.png', '142381.png', '122475.png', '107805.png', '120504.png', '146681.png', '97286.png', '114879.png', '11791.png', '11785.png', '141.png', '73100.png', '126607.png', '91185.png', '127519.png', '76078.png', '27551.png', '70409.png', '13804.png', '137722.png', '34263.png', '133544.png', '69170.png', '66525.png', '107187.png', '64332.png', '65038.png', '34511.png', '24702.png', '46839.png', '115597.png', '124992.png', '3598.png', '141878.png', '44948.png', '117169.png', '108049.png', '45101.png', '109357.png', '12059.png', '4778.png', '29971.png', '47070.png', '92881.png', '127914.png', '6609.png', '64865.png', '133975.png', '3765.png', '11544.png', '129093.png', '125681.png', '10672.png', '98348.png', '12065.png', '96403.png', '118500.png', '49061.png', '4022.png', '145607.png', '82462.png', '107434.png', '9512.png', '117627.png', '64859.png', '62596.png', '72785.png', '134940.png', '56800.png', '129044.png', '119187.png', '146483.png', '126411.png', '140794.png', '67363.png', '112978.png', '71515.png', '81194.png', '32438.png', '126405.png', '119193.png', '85494.png', '10699.png', '81802.png', '99095.png', '33068.png', '133020.png', '4787.png', '112788.png', '135337.png', '26465.png', '40938.png', '74445.png', '29742.png', '107391.png', '85490.png', '129054.png', '139521.png', '6802.png', '73306.png', '126401.png', '71511.png', '67367.png', '143299.png', '122673.png', '140790.png', '126415.png', '75763.png', '33050.png', '129040.png', '56804.png', '85484.png', '47921.png', '19685.png', '132448.png', '38893.png', '29746.png', '121346.png', '126429.png', '29752.png', '38887.png', '26307.png', '133024.png', '129097.png', '12049.png', '108059.png', '112001.png', '112767.png', '58140.png', '3761.png', '133971.png', '57273.png', '29961.png', '64861.png', '127910.png', '47074.png', '3775.png', '38878.png', '92885.png', '97043.png', '51158.png', '126398.png', '80517.png', '118276.png', '62592.png', '52451.png', '141303.png', '72781.png', '75788.png', '129915.png', '49071.png', '85309.png', '133781.png', '118504.png', '12061.png', '54034.png', '146478.png', '62586.png', '10676.png', '134950.png', '17496.png', '144938.png', '91181.png', '126603.png', '63471.png', '108298.png', '111911.png', '120514.png', '85692.png', '11781.png', '11795.png', '52860.png', '23041.png', '146685.png', '118921.png', '136404.png', '44794.png', '66535.png', '36302.png', '124996.png', '60144.png', '131425.png', '6382.png', '62753.png', '137054.png', '14809.png', '107183.png', '6396.png', '132138.png', '41820.png', '70425.png', '138415.png', '72232.png', '44780.png', '128835.png', '54578.png', '45475.png', '21859.png', '91624.png', '55100.png', '47510.png', '143058.png', '123974.png', '137901.png', '7711.png', '108529.png', '29587.png', '108501.png', '130920.png', '59706.png', '40243.png', '2.png', '127290.png', '52647.png', '118060.png', '130934.png', '54236.png', '148131.png', '98628.png', '120299.png', '52121.png', '86416.png', '40525.png', '84201.png', '122511.png', '129444.png', '127469.png', '75401.png', '44804.png', '120306.png', '91793.png', '67763.png', '77564.png', '68444.png', '11839.png', '66469.png', '111871.png', '75373.png', '130667.png', '15487.png', '116878.png', '75415.png', '109958.png', '120312.png', '67011.png', '130129.png', '20372.png', '60756.png', '138213.png', '138207.png', '69766.png', '79575.png', '20366.png', '133434.png', '107949.png', '75429.png', '110206.png', '128799.png', '96759.png', '13747.png', '55712.png', '145549.png', '95250.png', '57663.png', '94628.png', '146726.png', '81543.png', '24699.png', '21087.png', '114074.png', '45515.png', '148079.png', '41983.png', '135092.png', '103520.png', '52041.png', '127496.png', '108475.png', '86576.png', '119578.png', '106458.png', '75398.png', '107020.png', '108313.png', '66482.png', '142568.png', '59666.png', '108307.png', '86562.png', '108461.png', '62196.png', '99442.png', '118672.png', '126944.png', '105145.png', '114048.png', '71303.png', '49844.png', '35541.png', '42911.png', '141288.png', '81782.png', '117970.png', '31041.png', '97692.png', '138039.png', '33124.png', '115815.png', '132272.png', '22001.png', '55289.png', '113294.png', '66643.png', '3832.png', '89484.png', '107593.png', '131021.png', '108878.png', '69202.png', '114289.png', '69564.png', '113280.png', '35569.png', '81999.png', '26298.png', '51776.png', '5264.png', '98576.png', '127870.png', '107578.png', '81033.png', '6779.png', '104065.png', '47100.png', '47666.png', '51004.png', '63908.png', '110776.png', '98204.png', '87324.png', '79978.png', '84605.png', '40121.png', '114538.png', '47896.png', '68875.png', '14570.png', '54154.png', '44347.png', '116449.png', '89447.png', '122934.png', '145777.png', '144469.png', '51992.png', '27804.png', '143306.png', '56031.png', '54626.png', '42044.png', '129875.png', '9476.png', '98238.png', '134824.png', '68861.png', '145005.png', '86761.png', '9477.png', '129874.png', '42045.png', '145762.png', '82507.png', '56030.png', '145004.png', '68860.png', '20818.png', '40134.png', '134825.png', '131791.png', '54155.png', '14571.png', '114539.png', '47897.png', '143307.png', '27805.png', '144468.png', '133838.png', '113530.png', '122935.png', '13578.png', '116448.png', '41570.png', '104064.png', '6778.png', '127865.png', '140626.png', '87325.png', '98205.png', '110777.png', '51005.png', '105408.png', '107579.png', '127871.png', '98577.png', '53160.png', '144454.png', '112821.png', '69203.png', '108879.png', '131020.png', '107592.png', '113281.png', '56795.png', '123342.png', '95912.png', '138010.png', '55288.png', '22000.png', '89485.png', '3833.png', '108845.png', '540.png', '120111.png', '115814.png', '124411.png', '138038.png', '141289.png', '49845.png', '79986.png', '47868.png', '31040.png', '120105.png', '108306.png', '59667.png', '142569.png', '57892.png', '114049.png', '105144.png', '63289.png', '42247.png', '108460.png', '126789.png', '119579.png', '62183.png', '108474.png', '127497.png', '52040.png', '103521.png', '59673.png', '66483.png', '141074.png', '107021.png', '75399.png', '69798.png', '24698.png', '87641.png', '148078.png', '139681.png', '126979.png', '45514.png', '18607.png', '95251.png', '114061.png', '106465.png', '119545.png', '55713.png', '110207.png', '146727.png', '16158.png', '47471.png', '57662.png', '69767.png', '100799.png', '75428.png', '135044.png', '69001.png', '133435.png', '76121.png', '60757.png', '20373.png', '16819.png', '109971.png', '138212.png', '36277.png', '75372.png', '37141.png', '122504.png', '67010.png', '124175.png', '120313.png', '116879.png', '64519.png', '119592.png', '120307.png', '44805.png', '9846.png', '122510.png', '77571.png', '54237.png', '118061.png', '52646.png', '6354.png', '40242.png', '84200.png', '86417.png', '52120.png', '120298.png', '148130.png', '108500.png', '148124.png', '11019.png', '59707.png', '130921.png', '127285.png', '91619.png', '8345.png', '193.png', '6368.png', '91157.png', '108528.png', '7710.png', '137900.png', '123975.png', '143059.png', '82881.png', '37784.png', '45474.png', '106277.png', '109144.png', '55101.png', '81436.png', '91625.png', '132139.png', '111938.png', '107182.png', '100835.png', '44781.png', '72233.png', '138414.png', '70424.png', '125337.png', '44795.png', '127520.png', '6383.png', '60145.png', '115592.png', '66534.png', '52861.png', '97283.png', '11794.png', '21657.png', '68531.png', '76069.png', '118920.png', '126602.png', '144939.png', '132677.png', '11780.png', '38312.png', '85693.png', '13197.png', '120515.png', '108299.png', '63470.png', '116528.png', '54753.png', '118505.png', '107425.png', '49064.png', '133780.png', '58169.png', '134951.png', '10677.png', '113336.png', '12060.png', '118277.png', '80516.png', '49070.png', '85308.png', '129914.png', '14363.png', '37592.png', '38879.png', '47075.png', '127911.png', '116514.png', '57500.png', '47707.png', '134979.png', '112000.png', '12048.png', '129096.png', '64860.png', '42119.png', '110171.png', '57272.png', '133970.png', '38886.png', '126428.png', '133025.png', '4782.png', '79616.png', '115948.png', '127722.png', '29747.png', '38892.png', '132449.png', '75762.png', '126414.png', '140791.png', '139534.png', '67366.png', '133019.png', '85485.png', '56805.png', '129055.png', '71276.png', '85491.png', '71510.png', '119828.png', '126400.png', '139520.png', '6803.png', '129043.png', '85487.png', '71506.png', '124201.png', '40903.png', '67364.png', '83790.png', '139536.png', '126416.png', '15094.png', '139522.png', '126402.png', '81193.png', '71512.png', '36659.png', '31888.png', '145199.png', '147956.png', '29037.png', '4780.png', '133027.png', '43588.png', '67358.png', '38884.png', '83960.png', '38890.png', '29745.png', '127720.png', '75748.png', '131624.png', '71248.png', '109350.png', '110167.png', '127913.png', '47077.png', '112770.png', '92886.png', '3776.png', '133972.png', '3762.png', '27797.png', '64862.png', '129094.png', '17132.png', '54037.png', '12062.png', '52446.png', '113334.png', '10675.png', '38847.png', '19889.png', '49066.png', '107427.png', '118507.png', '107433.png', '49072.png', '134947.png', '62591.png', '72782.png', '25802.png', '141300.png', '110629.png', '52452.png', '137719.png', '34258.png', '118922.png', '122472.png', '143098.png', '67600.png', '73675.png', '109191.png', '130710.png', '63472.png', '22348.png', '127278.png', '24739.png', '85691.png', '11782.png', '132675.png', '620.png', '91182.png', '126600.png', '70426.png', '137725.png', '138416.png', '9918.png', '107180.png', '66536.png', '116099.png', '131426.png', '35608.png', '6381.png', '62750.png', '44797.png', '26674.png', '37779.png', '69188.png', '123977.png', '7712.png', '98617.png', '141894.png', '118739.png', '69822.png', '110417.png', '43761.png', '58341.png', '94039.png', '148132.png', '52122.png', '86415.png', '46157.png', '133580.png', '84202.png', '11769.png', '40240.png', '59711.png', '52644.png', '118063.png', '130937.png', '54235.png', '52650.png', '127287.png', '6342.png', '119369.png', '130923.png', '71937.png', '122499.png', '4233.png', '53228.png', '108502.png', '998.png', '124177.png', '82920.png', '70208.png', '111872.png', '91790.png', '67760.png', '25235.png', '119584.png', '128759.png', '108489.png', '120305.png', '133437.png', '20365.png', '91960.png', '114936.png', '36261.png', '69765.png', '29355.png', '36275.png', '138210.png', '127330.png', '131552.png', '126748.png', '109973.png', '60755.png', '58221.png', '114077.png', '45516.png', '87643.png', '24842.png', '81554.png', '59659.png', '95535.png', '146725.png', '110205.png', '55711.png', '9887.png', '43173.png', '114063.png', '85040.png', '18611.png', '118671.png', '42245.png', '62195.png', '99441.png', '49476.png', '57648.png', '147413.png', '108304.png', '59671.png', '135091.png', '103523.png', '127495.png', '52042.png', '108476.png', '54433.png', '115816.png', '79990.png', '129889.png', '13591.png', '117967.png', '108847.png', '97691.png', '118498.png', '86788.png', '31042.png', '39378.png', '49847.png', '139330.png', '81781.png', '56797.png', '69567.png', '107590.png', '136995.png', '69201.png', '107584.png', '116489.png', '45099.png', '62426.png', '4838.png', '37369.png', '95910.png', '47665.png', '110775.png', '86039.png', '109542.png', '127867.png', '108884.png', '104066.png', '114275.png', '29816.png', '145748.png', '119745.png', '86993.png', '98575.png', '13220.png', '47671.png', '113268.png', '121594.png', '131787.png', '134827.png', '47659.png', '29180.png', '68862.png', '145760.png', '82505.png', '54625.png', '129876.png', '86763.png', '126589.png', '98549.png', '137484.png', '51991.png', '143305.png', '94415.png', '40122.png', '47895.png', '9307.png', '110985.png', '143304.png', '122936.png', '89445.png', '98548.png', '126588.png', '131792.png', '54156.png', '14572.png', '63922.png', '47894.png', '122088.png', '40123.png', '94414.png', '47658.png', '134826.png', '121595.png', '63936.png', '86762.png', '42046.png', '54624.png', '56033.png', '145761.png', '98574.png', '145749.png', '113269.png', '47670.png', '98206.png', '110774.png', '86038.png', '51006.png', '95722.png', '41573.png', '114274.png', '17735.png', '104067.png', '119988.png', '108885.png', '127866.png', '140625.png', '109543.png', '116488.png', '89486.png', '17906.png', '95911.png', '37368.png', '66641.png', '113282.png', '56796.png', '123427.png', '27609.png', '69200.png', '61884.png', '136994.png', '107591.png', '72146.png', '31043.png', '118499.png', '35543.png', '49846.png', '122077.png', '79985.png', '28274.png', '115817.png', '28260.png', '97690.png', '108846.png', '117966.png', '97848.png', '120112.png', '84405.png', '23862.png', '62180.png', '108477.png', '127494.png', '103522.png', '143106.png', '73099.png', '99440.png', '62194.png', '118670.png', '108305.png', '147412.png', '59664.png', '49477.png', '57891.png', '146724.png', '55076.png', '57661.png', '48999.png', '85041.png', '114062.png', '43172.png', '55710.png', '110204.png', '87642.png', '45517.png', '114076.png', '21085.png', '59658.png', '108339.png', '81555.png', '43600.png', '121740.png', '131553.png', '121998.png', '127331.png', '138211.png', '60754.png', '125240.png', '109972.png', '126749.png', '89848.png', '32760.png', '20364.png', '69002.png', '133436.png', '134359.png', '69764.png', '114937.png', '77572.png', '91791.png', '120462.png', '75403.png', '120304.png', '44806.png', '108488.png', '128758.png', '25234.png', '89860.png', '67007.png', '82921.png', '124176.png', '75417.png', '120310.png', '75371.png', '111873.png', '122261.png', '130922.png', '42442.png', '127286.png', '14604.png', '108503.png', '12513.png', '53229.png', '4232.png', '122498.png', '52123.png', '148133.png', '54234.png', '118062.png', '6357.png', '52645.png', '59710.png', '40241.png', '11768.png', '114880.png', '106274.png', '55102.png', '121813.png', '69823.png', '47506.png', '47260.png', '94038.png', '118738.png', '7713.png', '35184.png', '123976.png', '41605.png', '112215.png', '190.png', '62751.png', '33278.png', '6380.png', '129268.png', '116098.png', '115591.png', '60146.png', '66537.png', '44796.png', '44782.png', '137724.png', '6394.png', '107181.png', '64334.png', '11783.png', '75211.png', '127279.png', '74669.png', '126601.png', '140584.png', '91183.png', '621.png', '71711.png', '143099.png', '122473.png', '118923.png', '146687.png', '130711.png', '52862.png', '5879.png', '49073.png', '82464.png', '42126.png', '107432.png', '72783.png', '80515.png', '134952.png', '10674.png', '113335.png', '52447.png', '90074.png', '120099.png', '107426.png', '49067.png', '113453.png', '40725.png', '64863.png', '110172.png', '3763.png', '57271.png', '133973.png', '48437.png', '129095.png', '81623.png', '97041.png', '3777.png', '133967.png', '92887.png', '47076.png', '116517.png', '127912.png', '117609.png', '110166.png', '75749.png', '106937.png', '29744.png', '38891.png', '71249.png', '43589.png', '24512.png', '99093.png', '133026.png', '4781.png', '92878.png', '29750.png', '67359.png', '3950.png', '71513.png', '126403.png', '63117.png', '139523.png', '129056.png', '31889.png', '85492.png', '132310.png', '85486.png', '129042.png', '126417.png', '139537.png', '83791.png', '122671.png', '67365.png', '71507.png']\n"
     ]
    },
    {
     "data": {
      "text/plain": "  0%|          | 0/7847 [00:00<?, ?it/s]",
      "application/vnd.jupyter.widget-view+json": {
       "version_major": 2,
       "version_minor": 0,
       "model_id": "f7926d97059946ce9998b2c7c41dcbd9"
      }
     },
     "metadata": {},
     "output_type": "display_data"
    },
    {
     "data": {
      "text/plain": "track_id\n73309             Rock\n32433       Electronic\n127062            Folk\n131166            Rock\n14386          Hip-Hop\n              ...     \n139537    Instrumental\n83791             Rock\n122671    Instrumental\n67365              Pop\n71507       Electronic\nName: genre_top, Length: 7847, dtype: category\nCategories (16, object): ['Blues', 'Classical', 'Country', 'Easy Listening', ..., 'Pop', 'Rock', 'Soul-RnB', 'Spoken']"
     },
     "execution_count": 23,
     "metadata": {},
     "output_type": "execute_result"
    }
   ],
   "source": [
    "files = os.listdir('data/spectrograms')\n",
    "track_ids = []\n",
    "print(files)\n",
    "for file in tqdm(files):\n",
    "    pre, ext = os.path.splitext(file)\n",
    "    track_ids.append(int(pre))\n",
    "\n",
    "filtered_tracks = tracks_df.xs('track', level=0, axis=1)['genre_top'].loc[track_ids]\n",
    "filtered_tracks"
   ],
   "metadata": {
    "collapsed": false,
    "pycharm": {
     "name": "#%%\n"
    }
   }
  },
  {
   "cell_type": "code",
   "execution_count": 58,
   "outputs": [
    {
     "name": "stdout",
     "output_type": "stream",
     "text": [
      "Training has 6277, Validation has 785, Testing has 785\n"
     ]
    }
   ],
   "source": [
    "img_shape = (484, 174)\n",
    "top_model_weights_path = 'bottleneck_fc_model.h5'\n",
    "\n",
    "Path(\"dataset_2\").mkdir(parents=True, exist_ok=True)\n",
    "#Path(\"dataset_2/train\").mkdir(parents=True, exist_ok=True)\n",
    "#Path(\"dataset_2/test\").mkdir(parents=True, exist_ok=True)\n",
    "#Path(\"dataset_2/validation\").mkdir(parents=True, exist_ok=True)\n",
    "\n",
    "train_ds, validation_ds, test_ds = np.split(filtered_tracks, [int(.8*len(filtered_tracks)), int(.9*len(filtered_tracks))])\n",
    "\n",
    "print(f\"Training has {len(train_ds)}, Validation has {len(validation_ds)}, Testing has {len(test_ds)}\")"
   ],
   "metadata": {
    "collapsed": false,
    "pycharm": {
     "name": "#%%\n"
    }
   }
  },
  {
   "cell_type": "code",
   "execution_count": 59,
   "outputs": [
    {
     "name": "stdout",
     "output_type": "stream",
     "text": [
      "Labels found are: ['Rock', 'Electronic', 'Folk', 'Hip-Hop', 'Pop', 'Instrumental', 'Experimental', 'International']\n",
      "Categories (16, object): ['Blues', 'Classical', 'Country', 'Easy Listening', ..., 'Pop', 'Rock', 'Soul-RnB', 'Spoken']\n"
     ]
    },
    {
     "data": {
      "text/plain": "  0%|          | 0/8 [00:00<?, ?it/s]",
      "application/vnd.jupyter.widget-view+json": {
       "version_major": 2,
       "version_minor": 0,
       "model_id": "cd237ae10c0c47b8a19cc4526c189a2b"
      }
     },
     "metadata": {},
     "output_type": "display_data"
    },
    {
     "data": {
      "text/plain": "  0%|          | 0/6277 [00:00<?, ?it/s]",
      "application/vnd.jupyter.widget-view+json": {
       "version_major": 2,
       "version_minor": 0,
       "model_id": "c5019ae4ae1f45818dac2678cf7b3802"
      }
     },
     "metadata": {},
     "output_type": "display_data"
    },
    {
     "data": {
      "text/plain": "  0%|          | 0/785 [00:00<?, ?it/s]",
      "application/vnd.jupyter.widget-view+json": {
       "version_major": 2,
       "version_minor": 0,
       "model_id": "7c57856db8da41d29065f68c9f26a4c7"
      }
     },
     "metadata": {},
     "output_type": "display_data"
    },
    {
     "name": "stdout",
     "output_type": "stream",
     "text": [
      "Traing size 6277, validation size 785, testing size 785\n"
     ]
    }
   ],
   "source": [
    "labels = filtered_tracks.unique()\n",
    "print(f\"Labels found are: {labels}\")\n",
    "\n",
    "\"\"\"\n",
    "for genres in tqdm(filtered_tracks.unique()):\n",
    "    Path(\"dataset_2/train/\"+genres).mkdir(parents=True, exist_ok=True)\n",
    "    Path(\"dataset_2/validation/\"+genres).mkdir(parents=True, exist_ok=True)\n",
    "    Path(\"dataset_2/test/\"+genres).mkdir(parents=True, exist_ok=True)\n",
    "\"\"\"\n",
    "for track_id in tqdm(train_ds.index):\n",
    "    #shutil.copyfile('data/spectrograms/' + str(track_id) + \".png\", \"dataset_2/train/\" + filtered_tracks.loc[track_id] + \"/\" + str(track_id) + \".png\")\n",
    "    shutil.copyfile('data/spectrograms/' + str(track_id) + \".png\", \"dataset_2/train/\" +  str(track_id) + \".png\")\n",
    "for track_id in tqdm(validation_ds.index):\n",
    "    shutil.copyfile('data/spectrograms/' + str(track_id) + \".png\", \"dataset_2/validation/\" + str(track_id) + \".png\")\n",
    "\n",
    "train_size = len(train_ds)\n",
    "validation_size = len(validation_ds)\n",
    "test_size = len(test_ds)\n",
    "\n",
    "print(f\"Traing size {train_size}, validation size {validation_size}, testing size {test_size}\")"
   ],
   "metadata": {
    "collapsed": false,
    "pycharm": {
     "name": "#%%\n"
    }
   }
  },
  {
   "cell_type": "code",
   "execution_count": 55,
   "outputs": [],
   "source": [
    "# loading up our datasets\n",
    "train_data_dir = 'dataset_2/train'\n",
    "validation_data_dir = 'dataset_2/validation'\n",
    "test_data_dir = 'dataset_2/test'\n",
    "\n",
    "# number of epochs to train top model\n",
    "epochs = 7 #this has been changed after multiple model run\n",
    "# batch size used by flow_from_directory and predict_generator\n",
    "batch_size = 50"
   ],
   "metadata": {
    "collapsed": false,
    "pycharm": {
     "name": "#%%\n"
    }
   }
  },
  {
   "cell_type": "code",
   "execution_count": 169,
   "outputs": [],
   "source": [
    "from keras.layers import *\n",
    "\n",
    "def model(width, height, depth, classes, finalAct=\"softmax\"):\n",
    "    model = Sequential()\n",
    "\n",
    "    model.add(Flatten(input_shape=(height, width, 3)))\n",
    "    model.add(Dense(128, activation='relu'))\n",
    "    model.add(Dense(classes, activation='softmax'))\n",
    "    return model"
   ],
   "metadata": {
    "collapsed": false,
    "pycharm": {
     "name": "#%%\n"
    }
   }
  },
  {
   "cell_type": "code",
   "execution_count": 146,
   "outputs": [
    {
     "data": {
      "text/plain": "  0%|          | 0/6277 [00:00<?, ?it/s]",
      "application/vnd.jupyter.widget-view+json": {
       "version_major": 2,
       "version_minor": 0,
       "model_id": "6a98aff2b23340a0bd7d99692dfa22a2"
      }
     },
     "metadata": {},
     "output_type": "display_data"
    },
    {
     "data": {
      "text/plain": "  0%|          | 0/785 [00:00<?, ?it/s]",
      "application/vnd.jupyter.widget-view+json": {
       "version_major": 2,
       "version_minor": 0,
       "model_id": "3c30498bc6cd455e8d5f0587cc0b2022"
      }
     },
     "metadata": {},
     "output_type": "display_data"
    }
   ],
   "source": [
    "from keras_preprocessing.image import img_to_array\n",
    "\n",
    "data = []\n",
    "labels = []\n",
    "training_images = os.listdir('dataset_2/train')\n",
    "validation_images = os.listdir('dataset_2/validation')\n",
    "for img in tqdm(training_images):\n",
    "    image = tf.keras.preprocessing.image.load_img(\"dataset_2/train/\" + img)\n",
    "    image = img_to_array(image)\n",
    "    data.append(image)\n",
    "\n",
    "    pre, ext = os.path.splitext(img)\n",
    "    labels.append(train_ds.loc[int(pre)])\n",
    "\n",
    "validation_data = []\n",
    "validation_labels = []\n",
    "for img in tqdm(validation_images):\n",
    "    image = tf.keras.preprocessing.image.load_img(\"dataset_2/validation/\" + img)\n",
    "    image = img_to_array(image)\n",
    "    validation_data.append(image)\n",
    "\n",
    "    pre, ext = os.path.splitext(img)\n",
    "    validation_labels.append(validation_ds.loc[int(pre)])"
   ],
   "metadata": {
    "collapsed": false,
    "pycharm": {
     "name": "#%%\n"
    }
   }
  },
  {
   "cell_type": "code",
   "execution_count": 153,
   "outputs": [
    {
     "name": "stdout",
     "output_type": "stream",
     "text": [
      "(6277, 174, 484, 3)\n",
      "6277\n",
      "[INFO] data matrix: 6277 images (12389.62MB)\n"
     ]
    }
   ],
   "source": [
    "data = np.array(data, dtype=\"float\") / 255.0\n",
    "print(data.shape)\n",
    "print(len(data))\n",
    "labels = np.array(labels)\n",
    "print(\"[INFO] data matrix: {} images ({:.2f}MB)\".format(\n",
    "\tlen(training_images), data.nbytes / (1024 * 1000.0)))\n",
    "\n",
    "validation_data =  np.array(validation_data, dtype=\"float\") / 255.0\n",
    "validation_labels = np.array(validation_labels)\n"
   ],
   "metadata": {
    "collapsed": false,
    "pycharm": {
     "name": "#%%\n"
    }
   }
  },
  {
   "cell_type": "code",
   "execution_count": 170,
   "outputs": [
    {
     "name": "stdout",
     "output_type": "stream",
     "text": [
      "Model: \"sequential_23\"\n",
      "_________________________________________________________________\n",
      " Layer (type)                Output Shape              Param #   \n",
      "=================================================================\n",
      " flatten_23 (Flatten)        (None, 252648)            0         \n",
      "                                                                 \n",
      " dense_56 (Dense)            (None, 128)               32339072  \n",
      "                                                                 \n",
      " dense_57 (Dense)            (None, 8)                 1032      \n",
      "                                                                 \n",
      "=================================================================\n",
      "Total params: 32,340,104\n",
      "Trainable params: 32,340,104\n",
      "Non-trainable params: 0\n",
      "_________________________________________________________________\n",
      "None\n"
     ]
    }
   ],
   "source": [
    "model = model(\n",
    "\twidth=484, height=174,\n",
    "\tdepth=3, classes=8)\n",
    "model.compile(loss='categorical_crossentropy', optimizer='adam', metrics=['accuracy'])\n",
    "print(model.summary())"
   ],
   "metadata": {
    "collapsed": false,
    "pycharm": {
     "name": "#%%\n"
    }
   }
  },
  {
   "cell_type": "code",
   "execution_count": 149,
   "outputs": [
    {
     "name": "stdout",
     "output_type": "stream",
     "text": [
      "6277\n",
      "[[[[1. 1. 1.]\n",
      "   [1. 1. 1.]\n",
      "   [1. 1. 1.]\n",
      "   ...\n",
      "   [1. 1. 1.]\n",
      "   [1. 1. 1.]\n",
      "   [1. 1. 1.]]\n",
      "\n",
      "  [[1. 1. 1.]\n",
      "   [1. 1. 1.]\n",
      "   [1. 1. 1.]\n",
      "   ...\n",
      "   [1. 1. 1.]\n",
      "   [1. 1. 1.]\n",
      "   [1. 1. 1.]]\n",
      "\n",
      "  [[1. 1. 1.]\n",
      "   [1. 1. 1.]\n",
      "   [1. 1. 1.]\n",
      "   ...\n",
      "   [1. 1. 1.]\n",
      "   [1. 1. 1.]\n",
      "   [1. 1. 1.]]\n",
      "\n",
      "  ...\n",
      "\n",
      "  [[1. 1. 1.]\n",
      "   [1. 1. 1.]\n",
      "   [1. 1. 1.]\n",
      "   ...\n",
      "   [1. 1. 1.]\n",
      "   [1. 1. 1.]\n",
      "   [1. 1. 1.]]\n",
      "\n",
      "  [[1. 1. 1.]\n",
      "   [1. 1. 1.]\n",
      "   [1. 1. 1.]\n",
      "   ...\n",
      "   [1. 1. 1.]\n",
      "   [1. 1. 1.]\n",
      "   [1. 1. 1.]]\n",
      "\n",
      "  [[1. 1. 1.]\n",
      "   [1. 1. 1.]\n",
      "   [1. 1. 1.]\n",
      "   ...\n",
      "   [1. 1. 1.]\n",
      "   [1. 1. 1.]\n",
      "   [1. 1. 1.]]]\n",
      "\n",
      "\n",
      " [[[1. 1. 1.]\n",
      "   [1. 1. 1.]\n",
      "   [1. 1. 1.]\n",
      "   ...\n",
      "   [1. 1. 1.]\n",
      "   [1. 1. 1.]\n",
      "   [1. 1. 1.]]\n",
      "\n",
      "  [[1. 1. 1.]\n",
      "   [1. 1. 1.]\n",
      "   [1. 1. 1.]\n",
      "   ...\n",
      "   [1. 1. 1.]\n",
      "   [1. 1. 1.]\n",
      "   [1. 1. 1.]]\n",
      "\n",
      "  [[1. 1. 1.]\n",
      "   [1. 1. 1.]\n",
      "   [1. 1. 1.]\n",
      "   ...\n",
      "   [1. 1. 1.]\n",
      "   [1. 1. 1.]\n",
      "   [1. 1. 1.]]\n",
      "\n",
      "  ...\n",
      "\n",
      "  [[1. 1. 1.]\n",
      "   [1. 1. 1.]\n",
      "   [1. 1. 1.]\n",
      "   ...\n",
      "   [1. 1. 1.]\n",
      "   [1. 1. 1.]\n",
      "   [1. 1. 1.]]\n",
      "\n",
      "  [[1. 1. 1.]\n",
      "   [1. 1. 1.]\n",
      "   [1. 1. 1.]\n",
      "   ...\n",
      "   [1. 1. 1.]\n",
      "   [1. 1. 1.]\n",
      "   [1. 1. 1.]]\n",
      "\n",
      "  [[1. 1. 1.]\n",
      "   [1. 1. 1.]\n",
      "   [1. 1. 1.]\n",
      "   ...\n",
      "   [1. 1. 1.]\n",
      "   [1. 1. 1.]\n",
      "   [1. 1. 1.]]]\n",
      "\n",
      "\n",
      " [[[1. 1. 1.]\n",
      "   [1. 1. 1.]\n",
      "   [1. 1. 1.]\n",
      "   ...\n",
      "   [1. 1. 1.]\n",
      "   [1. 1. 1.]\n",
      "   [1. 1. 1.]]\n",
      "\n",
      "  [[1. 1. 1.]\n",
      "   [1. 1. 1.]\n",
      "   [1. 1. 1.]\n",
      "   ...\n",
      "   [1. 1. 1.]\n",
      "   [1. 1. 1.]\n",
      "   [1. 1. 1.]]\n",
      "\n",
      "  [[1. 1. 1.]\n",
      "   [1. 1. 1.]\n",
      "   [1. 1. 1.]\n",
      "   ...\n",
      "   [1. 1. 1.]\n",
      "   [1. 1. 1.]\n",
      "   [1. 1. 1.]]\n",
      "\n",
      "  ...\n",
      "\n",
      "  [[1. 1. 1.]\n",
      "   [1. 1. 1.]\n",
      "   [1. 1. 1.]\n",
      "   ...\n",
      "   [1. 1. 1.]\n",
      "   [1. 1. 1.]\n",
      "   [1. 1. 1.]]\n",
      "\n",
      "  [[1. 1. 1.]\n",
      "   [1. 1. 1.]\n",
      "   [1. 1. 1.]\n",
      "   ...\n",
      "   [1. 1. 1.]\n",
      "   [1. 1. 1.]\n",
      "   [1. 1. 1.]]\n",
      "\n",
      "  [[1. 1. 1.]\n",
      "   [1. 1. 1.]\n",
      "   [1. 1. 1.]\n",
      "   ...\n",
      "   [1. 1. 1.]\n",
      "   [1. 1. 1.]\n",
      "   [1. 1. 1.]]]\n",
      "\n",
      "\n",
      " ...\n",
      "\n",
      "\n",
      " [[[1. 1. 1.]\n",
      "   [1. 1. 1.]\n",
      "   [1. 1. 1.]\n",
      "   ...\n",
      "   [1. 1. 1.]\n",
      "   [1. 1. 1.]\n",
      "   [1. 1. 1.]]\n",
      "\n",
      "  [[1. 1. 1.]\n",
      "   [1. 1. 1.]\n",
      "   [1. 1. 1.]\n",
      "   ...\n",
      "   [1. 1. 1.]\n",
      "   [1. 1. 1.]\n",
      "   [1. 1. 1.]]\n",
      "\n",
      "  [[1. 1. 1.]\n",
      "   [1. 1. 1.]\n",
      "   [1. 1. 1.]\n",
      "   ...\n",
      "   [1. 1. 1.]\n",
      "   [1. 1. 1.]\n",
      "   [1. 1. 1.]]\n",
      "\n",
      "  ...\n",
      "\n",
      "  [[1. 1. 1.]\n",
      "   [1. 1. 1.]\n",
      "   [1. 1. 1.]\n",
      "   ...\n",
      "   [1. 1. 1.]\n",
      "   [1. 1. 1.]\n",
      "   [1. 1. 1.]]\n",
      "\n",
      "  [[1. 1. 1.]\n",
      "   [1. 1. 1.]\n",
      "   [1. 1. 1.]\n",
      "   ...\n",
      "   [1. 1. 1.]\n",
      "   [1. 1. 1.]\n",
      "   [1. 1. 1.]]\n",
      "\n",
      "  [[1. 1. 1.]\n",
      "   [1. 1. 1.]\n",
      "   [1. 1. 1.]\n",
      "   ...\n",
      "   [1. 1. 1.]\n",
      "   [1. 1. 1.]\n",
      "   [1. 1. 1.]]]\n",
      "\n",
      "\n",
      " [[[1. 1. 1.]\n",
      "   [1. 1. 1.]\n",
      "   [1. 1. 1.]\n",
      "   ...\n",
      "   [1. 1. 1.]\n",
      "   [1. 1. 1.]\n",
      "   [1. 1. 1.]]\n",
      "\n",
      "  [[1. 1. 1.]\n",
      "   [1. 1. 1.]\n",
      "   [1. 1. 1.]\n",
      "   ...\n",
      "   [1. 1. 1.]\n",
      "   [1. 1. 1.]\n",
      "   [1. 1. 1.]]\n",
      "\n",
      "  [[1. 1. 1.]\n",
      "   [1. 1. 1.]\n",
      "   [1. 1. 1.]\n",
      "   ...\n",
      "   [1. 1. 1.]\n",
      "   [1. 1. 1.]\n",
      "   [1. 1. 1.]]\n",
      "\n",
      "  ...\n",
      "\n",
      "  [[1. 1. 1.]\n",
      "   [1. 1. 1.]\n",
      "   [1. 1. 1.]\n",
      "   ...\n",
      "   [1. 1. 1.]\n",
      "   [1. 1. 1.]\n",
      "   [1. 1. 1.]]\n",
      "\n",
      "  [[1. 1. 1.]\n",
      "   [1. 1. 1.]\n",
      "   [1. 1. 1.]\n",
      "   ...\n",
      "   [1. 1. 1.]\n",
      "   [1. 1. 1.]\n",
      "   [1. 1. 1.]]\n",
      "\n",
      "  [[1. 1. 1.]\n",
      "   [1. 1. 1.]\n",
      "   [1. 1. 1.]\n",
      "   ...\n",
      "   [1. 1. 1.]\n",
      "   [1. 1. 1.]\n",
      "   [1. 1. 1.]]]\n",
      "\n",
      "\n",
      " [[[1. 1. 1.]\n",
      "   [1. 1. 1.]\n",
      "   [1. 1. 1.]\n",
      "   ...\n",
      "   [1. 1. 1.]\n",
      "   [1. 1. 1.]\n",
      "   [1. 1. 1.]]\n",
      "\n",
      "  [[1. 1. 1.]\n",
      "   [1. 1. 1.]\n",
      "   [1. 1. 1.]\n",
      "   ...\n",
      "   [1. 1. 1.]\n",
      "   [1. 1. 1.]\n",
      "   [1. 1. 1.]]\n",
      "\n",
      "  [[1. 1. 1.]\n",
      "   [1. 1. 1.]\n",
      "   [1. 1. 1.]\n",
      "   ...\n",
      "   [1. 1. 1.]\n",
      "   [1. 1. 1.]\n",
      "   [1. 1. 1.]]\n",
      "\n",
      "  ...\n",
      "\n",
      "  [[1. 1. 1.]\n",
      "   [1. 1. 1.]\n",
      "   [1. 1. 1.]\n",
      "   ...\n",
      "   [1. 1. 1.]\n",
      "   [1. 1. 1.]\n",
      "   [1. 1. 1.]]\n",
      "\n",
      "  [[1. 1. 1.]\n",
      "   [1. 1. 1.]\n",
      "   [1. 1. 1.]\n",
      "   ...\n",
      "   [1. 1. 1.]\n",
      "   [1. 1. 1.]\n",
      "   [1. 1. 1.]]\n",
      "\n",
      "  [[1. 1. 1.]\n",
      "   [1. 1. 1.]\n",
      "   [1. 1. 1.]\n",
      "   ...\n",
      "   [1. 1. 1.]\n",
      "   [1. 1. 1.]\n",
      "   [1. 1. 1.]]]]\n",
      "6277\n",
      "6277\n"
     ]
    }
   ],
   "source": [
    "from sklearn.preprocessing import LabelBinarizer\n",
    "\n",
    "print(len(data))\n",
    "print(data)\n",
    "print(len(labels))\n",
    "encoder = LabelBinarizer()\n",
    "transformed_labels = encoder.fit_transform(labels)\n",
    "print(len(labels))\n",
    "validation_labels = encoder.fit_transform(validation_labels)"
   ],
   "metadata": {
    "collapsed": false,
    "pycharm": {
     "name": "#%%\n"
    }
   }
  },
  {
   "cell_type": "code",
   "execution_count": 187,
   "outputs": [
    {
     "name": "stdout",
     "output_type": "stream",
     "text": [
      "Epoch 1/10\n",
      "99/99 [==============================] - 17s 170ms/step - loss: 2.0081 - accuracy: 0.1877 - val_loss: 1.8990 - val_accuracy: 0.2854\n",
      "Epoch 2/10\n",
      "99/99 [==============================] - 14s 138ms/step - loss: 1.9977 - accuracy: 0.1956 - val_loss: 1.8985 - val_accuracy: 0.3032\n",
      "Epoch 3/10\n",
      "99/99 [==============================] - 14s 140ms/step - loss: 1.9899 - accuracy: 0.2004 - val_loss: 1.8709 - val_accuracy: 0.2764\n",
      "Epoch 4/10\n",
      "99/99 [==============================] - 14s 143ms/step - loss: 1.9897 - accuracy: 0.1956 - val_loss: 1.8676 - val_accuracy: 0.2777\n",
      "Epoch 5/10\n",
      "99/99 [==============================] - 14s 137ms/step - loss: 1.9807 - accuracy: 0.1990 - val_loss: 1.8523 - val_accuracy: 0.3083\n",
      "Epoch 6/10\n",
      "99/99 [==============================] - 14s 140ms/step - loss: 1.9798 - accuracy: 0.2023 - val_loss: 1.8640 - val_accuracy: 0.2815\n",
      "Epoch 7/10\n",
      "99/99 [==============================] - 14s 145ms/step - loss: 1.9696 - accuracy: 0.2018 - val_loss: 1.8543 - val_accuracy: 0.3045\n",
      "Epoch 8/10\n",
      "99/99 [==============================] - 14s 139ms/step - loss: 1.9719 - accuracy: 0.1996 - val_loss: 1.8187 - val_accuracy: 0.2892\n",
      "Epoch 9/10\n",
      "99/99 [==============================] - 14s 138ms/step - loss: 1.9644 - accuracy: 0.2090 - val_loss: 1.8305 - val_accuracy: 0.3096\n",
      "Epoch 10/10\n",
      "99/99 [==============================] - 13s 135ms/step - loss: 1.9565 - accuracy: 0.2101 - val_loss: 1.8130 - val_accuracy: 0.3299\n"
     ]
    }
   ],
   "source": [
    "history = model.fit(data, transformed_labels, validation_data=(validation_data, validation_labels), epochs=10, batch_size=64)"
   ],
   "metadata": {
    "collapsed": false,
    "pycharm": {
     "name": "#%%\n"
    }
   }
  },
  {
   "cell_type": "code",
   "execution_count": 207,
   "outputs": [
    {
     "data": {
      "text/plain": "<Figure size 432x288 with 1 Axes>",
      "image/png": "[encoded data removed]"
     },
     "metadata": {
      "needs_background": "light"
     },
     "output_type": "display_data"
    }
   ],
   "source": [
    "plt.plot(history.history['accuracy'])\n",
    "plt.title('model accuracy')\n",
    "plt.ylabel('accuracy')\n",
    "plt.xlabel('epoch')\n",
    "plt.legend(['train', 'val'], loc='upper left')\n",
    "plt.show()"
   ],
   "metadata": {
    "collapsed": false,
    "pycharm": {
     "name": "#%%\n"
    }
   }
  },
  {
   "cell_type": "code",
   "execution_count": 222,
   "outputs": [
    {
     "name": "stdout",
     "output_type": "stream",
     "text": [
      "['Electronic']\n",
      "['Experimental']\n",
      "['Folk']\n",
      "['Hip-Hop']\n",
      "['Instrumental']\n",
      "['International']\n",
      "['Pop']\n",
      "['Rock']\n",
      "1/1 [==============================] - 0s 8ms/step\n"
     ]
    },
    {
     "data": {
      "text/plain": "array([[3.81808e-20, 0.00000e+00, 0.00000e+00, 1.00000e+00, 0.00000e+00,\n        0.00000e+00, 0.00000e+00, 0.00000e+00]], dtype=float32)"
     },
     "execution_count": 222,
     "metadata": {},
     "output_type": "execute_result"
    }
   ],
   "source": [
    "image = tf.keras.preprocessing.image.load_img(\"dataset/Electronic/26652.png\")\n",
    "image = img_to_array(image)\n",
    "grr = [image]\n",
    "grr = np.array(grr, dtype=\"float\") / 255.0\n",
    "\n",
    "print(encoder.inverse_transform(np.array([[1, 0, 0, 0, 0, 0, 0, 0]])))\n",
    "print(encoder.inverse_transform(np.array([[0, 1, 0, 0, 0, 0, 0, 0]])))\n",
    "print(encoder.inverse_transform(np.array([[0, 0, 1, 0, 0, 0, 0, 0]])))\n",
    "print(encoder.inverse_transform(np.array([[0, 0, 0, 1, 0, 0, 0, 0]])))\n",
    "print(encoder.inverse_transform(np.array([[0, 0, 0, 0, 1, 0, 0, 0]])))\n",
    "print(encoder.inverse_transform(np.array([[0, 0, 0, 0, 0, 1, 0, 0]])))\n",
    "print(encoder.inverse_transform(np.array([[0, 0, 0, 0, 0, 0, 1, 0]])))\n",
    "print(encoder.inverse_transform(np.array([[0, 0, 0, 0, 0, 0, 0, 1]])))\n",
    "model.predict(grr)"
   ],
   "metadata": {
    "collapsed": false,
    "pycharm": {
     "name": "#%%\n"
    }
   }
  },
  {
   "cell_type": "markdown",
   "source": [],
   "metadata": {
    "collapsed": false,
    "pycharm": {
     "name": "#%% md\n"
    }
   }
  }
 ],
 "metadata": {
  "kernelspec": {
   "display_name": "Python 3",
   "language": "python",
   "name": "python3"
  },
  "language_info": {
   "codemirror_mode": {
    "name": "ipython",
    "version": 2
   },
   "file_extension": ".py",
   "mimetype": "text/x-python",
   "name": "python",
   "nbconvert_exporter": "python",
   "pygments_lexer": "ipython2",
   "version": "2.7.6"
  }
 },
 "nbformat": 4,
 "nbformat_minor": 0
}