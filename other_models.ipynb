{
 "cells": [
  {
   "cell_type": "code",
   "execution_count": 13,
   "metadata": {
    "collapsed": true,
    "pycharm": {
     "name": "#%%\n"
    }
   },
   "outputs": [],
   "source": [
    "import matplotlib.pyplot as plt\n",
    "import pandas as pd\n",
    "from keras.callbacks import EarlyStopping\n",
    "import seaborn as sns\n",
    "from IPython.core.display_functions import display\n",
    "from IPython.display import Audio\n",
    "from livelossplot import PlotLossesKeras\n",
    "\n",
    "import keras\n",
    "from keras import layers\n",
    "from keras.models import Sequential\n",
    "\n",
    "from keras_preprocessing.image import img_to_array\n",
    "\n",
    "import tensorflow as tf\n",
    "from keras.layers import *\n",
    "\n",
    "import os\n",
    "from tqdm.notebook import tqdm\n",
    "from pathlib import Path\n",
    "import shutil\n",
    "\n",
    "\n",
    "from music_plots import *\n",
    "from sklearn.metrics import roc_auc_score\n",
    "import numpy as np"
   ]
  },
  {
   "cell_type": "markdown",
   "source": [
    "\n",
    "<h1> Data management </h1>"
   ],
   "metadata": {
    "collapsed": false,
    "pycharm": {
     "name": "#%% md\n"
    }
   }
  },
  {
   "cell_type": "code",
   "execution_count": 14,
   "outputs": [],
   "source": [
    "tracks_df = load(\"data/tracks.csv\")\n",
    "genres_df = load(\"data/genres.csv\")\n",
    "features_df = load(\"data/features.csv\")"
   ],
   "metadata": {
    "collapsed": false,
    "pycharm": {
     "name": "#%%\n"
    }
   }
  },
  {
   "cell_type": "code",
   "execution_count": 15,
   "outputs": [
    {
     "data": {
      "text/plain": "          #tracks  parent          title  top_level\ngenre_id                                           \n1            8693      38    Avant-Garde         38\n2            5271       0  International          2\n3            1752       0          Blues          3\n4            4126       0           Jazz          4\n5            4106       0      Classical          5",
      "text/html": "<div>\n<style scoped>\n    .dataframe tbody tr th:only-of-type {\n        vertical-align: middle;\n    }\n\n    .dataframe tbody tr th {\n        vertical-align: top;\n    }\n\n    .dataframe thead th {\n        text-align: right;\n    }\n</style>\n<table border=\"1\" class=\"dataframe\">\n  <thead>\n    <tr style=\"text-align: right;\">\n      <th></th>\n      <th>#tracks</th>\n      <th>parent</th>\n      <th>title</th>\n      <th>top_level</th>\n    </tr>\n    <tr>\n      <th>genre_id</th>\n      <th></th>\n      <th></th>\n      <th></th>\n      <th></th>\n    </tr>\n  </thead>\n  <tbody>\n    <tr>\n      <th>1</th>\n      <td>8693</td>\n      <td>38</td>\n      <td>Avant-Garde</td>\n      <td>38</td>\n    </tr>\n    <tr>\n      <th>2</th>\n      <td>5271</td>\n      <td>0</td>\n      <td>International</td>\n      <td>2</td>\n    </tr>\n    <tr>\n      <th>3</th>\n      <td>1752</td>\n      <td>0</td>\n      <td>Blues</td>\n      <td>3</td>\n    </tr>\n    <tr>\n      <th>4</th>\n      <td>4126</td>\n      <td>0</td>\n      <td>Jazz</td>\n      <td>4</td>\n    </tr>\n    <tr>\n      <th>5</th>\n      <td>4106</td>\n      <td>0</td>\n      <td>Classical</td>\n      <td>5</td>\n    </tr>\n  </tbody>\n</table>\n</div>"
     },
     "execution_count": 15,
     "metadata": {},
     "output_type": "execute_result"
    }
   ],
   "source": [
    "tracks_df.head()\n",
    "genres_df.head()\n",
    "#features_df.head()"
   ],
   "metadata": {
    "collapsed": false,
    "pycharm": {
     "name": "#%%\n"
    }
   }
  },
  {
   "cell_type": "code",
   "execution_count": 16,
   "outputs": [
    {
     "data": {
      "text/plain": "track_id\n2         Hip-Hop\n3         Hip-Hop\n5         Hip-Hop\n10            Pop\n134       Hip-Hop\n           ...   \n155315       Rock\n155316       Rock\n155317       Rock\n155318       Rock\n155319       Rock\nName: genre_top, Length: 49598, dtype: category\nCategories (16, object): ['Blues', 'Classical', 'Country', 'Easy Listening', ..., 'Pop', 'Rock', 'Soul-RnB', 'Spoken']"
     },
     "execution_count": 16,
     "metadata": {},
     "output_type": "execute_result"
    }
   ],
   "source": [
    "track_genres = tracks_df.xs('track', level=0, axis=1)['genre_top'].loc[features_df.dropna().index]\n",
    "track_genres = track_genres.dropna()\n",
    "features_df = features_df.loc[track_genres.index]\n",
    "\n",
    "track_genres"
   ],
   "metadata": {
    "collapsed": false,
    "pycharm": {
     "name": "#%%\n"
    }
   }
  },
  {
   "cell_type": "code",
   "execution_count": 17,
   "outputs": [
    {
     "name": "stdout",
     "output_type": "stream",
     "text": [
      "{'Hip-Hop': 0, 'Pop': 1, 'Rock': 2, 'Experimental': 3, 'Folk': 4, 'Jazz': 5, 'Electronic': 6, 'Spoken': 7, 'International': 8, 'Soul-RnB': 9, 'Blues': 10, 'Country': 11, 'Classical': 12, 'Old-Time / Historic': 13, 'Instrumental': 14, 'Easy Listening': 15}\n"
     ]
    }
   ],
   "source": [
    "# genres dictionary\n",
    "genres = {}\n",
    "index = 0\n",
    "for i in track_genres.unique():\n",
    "    genres[i] = index\n",
    "    index += 1\n",
    "print(genres)"
   ],
   "metadata": {
    "collapsed": false,
    "pycharm": {
     "name": "#%%\n"
    }
   }
  },
  {
   "cell_type": "code",
   "execution_count": 18,
   "outputs": [
    {
     "name": "stdout",
     "output_type": "stream",
     "text": [
      "49598\n",
      "49598\n"
     ]
    },
    {
     "data": {
      "text/plain": "feature    chroma_cens                                                    \\\nstatistics    kurtosis                                                     \nnumber              01        02        03        04        05        06   \ntrack_id                                                                   \n2             7.180653  5.230309  0.249321  1.347620  1.482478  0.531371   \n3             1.888963  0.760539  0.345297  2.295201  1.654031  0.067592   \n5             0.527563 -0.077654 -0.279610  0.685883  1.937570  0.880839   \n10            3.702245 -0.291193  2.196742 -0.234449  1.367364  0.998411   \n134           0.918445  0.674147  0.577818  1.281117  0.933746  0.078177   \n...                ...       ...       ...       ...       ...       ...   \n155315       -0.319850  0.653044  1.300360 -0.606061 -1.109302 -1.006683   \n155316       -0.490129  0.463834  2.321970 -0.084352  1.662914  2.115189   \n155317       -0.461559 -0.229601 -0.496632 -0.422033  0.130612 -0.263825   \n155318        0.552473 -0.110498 -0.532014  0.263131 -0.224011 -0.530972   \n155319       -0.176901  0.187208 -0.050664  0.368843  0.066005 -0.857354   \n\nfeature                                             ...   tonnetz            \\\nstatistics                                          ...       std             \nnumber            07        08        09        10  ...        04        05   \ntrack_id                                            ...                       \n2           1.481593  2.691455  0.866868  1.341231  ...  0.054125  0.012226   \n3           1.366848  1.054094  0.108103  0.619185  ...  0.063831  0.014212   \n5          -0.923192 -0.927232  0.666617  1.038546  ...  0.040730  0.012691   \n10          1.770694  1.604566  0.521217  1.982386  ...  0.074358  0.017952   \n134         1.199204 -0.175223  0.925482  1.438509  ...  0.058766  0.016322   \n...              ...       ...       ...       ...  ...       ...       ...   \n155315      0.059643  0.472580 -0.856436 -0.524676  ...  0.108577  0.016631   \n155316     -0.237794  5.695442  0.830353  1.951819  ...  0.128410  0.022547   \n155317     -0.628103 -0.082687 -0.229483 -0.492753  ...  0.132964  0.023548   \n155318      1.713526  1.418444  1.325197  0.120333  ...  0.108324  0.017540   \n155319     -0.780860  0.626281 -0.630938 -0.787229  ...  0.088311  0.018328   \n\nfeature                     zcr                                          \\\nstatistics             kurtosis       max      mean    median       min   \nnumber            06         01        01        01        01        01   \ntrack_id                                                                  \n2           0.012111   5.758890  0.459473  0.085629  0.071289  0.000000   \n3           0.017740   2.824694  0.466309  0.084578  0.063965  0.000000   \n5           0.014759   6.808415  0.375000  0.053114  0.041504  0.000000   \n10          0.013921  21.434212  0.452148  0.077515  0.071777  0.000000   \n134         0.015819   4.731087  0.419434  0.064370  0.050781  0.000000   \n...              ...        ...       ...       ...       ...       ...   \n155315      0.014705   6.947788  0.188477  0.037708  0.035156  0.002930   \n155316      0.019816   4.448255  0.172852  0.028773  0.028320  0.003906   \n155317      0.026527   3.270612  0.196289  0.031116  0.027832  0.002441   \n155318      0.020471   2.356727  0.212891  0.038450  0.037109  0.003418   \n155319      0.017936   6.188604  0.167480  0.041480  0.038086  0.004883   \n\nfeature                         \nstatistics      skew       std  \nnumber            01        01  \ntrack_id                        \n2           2.089872  0.061448  \n3           1.716724  0.069330  \n5           2.193303  0.044861  \n10          3.542325  0.040800  \n134         1.806106  0.054623  \n...              ...       ...  \n155315      1.764233  0.018679  \n155316      0.955388  0.012385  \n155317      1.283060  0.019059  \n155318      0.828569  0.017904  \n155319      1.818740  0.020133  \n\n[49598 rows x 518 columns]",
      "text/html": "<div>\n<style scoped>\n    .dataframe tbody tr th:only-of-type {\n        vertical-align: middle;\n    }\n\n    .dataframe tbody tr th {\n        vertical-align: top;\n    }\n\n    .dataframe thead tr th {\n        text-align: left;\n    }\n\n    .dataframe thead tr:last-of-type th {\n        text-align: right;\n    }\n</style>\n<table border=\"1\" class=\"dataframe\">\n  <thead>\n    <tr>\n      <th>feature</th>\n      <th colspan=\"10\" halign=\"left\">chroma_cens</th>\n      <th>...</th>\n      <th colspan=\"3\" halign=\"left\">tonnetz</th>\n      <th colspan=\"7\" halign=\"left\">zcr</th>\n    </tr>\n    <tr>\n      <th>statistics</th>\n      <th colspan=\"10\" halign=\"left\">kurtosis</th>\n      <th>...</th>\n      <th colspan=\"3\" halign=\"left\">std</th>\n      <th>kurtosis</th>\n      <th>max</th>\n      <th>mean</th>\n      <th>median</th>\n      <th>min</th>\n      <th>skew</th>\n      <th>std</th>\n    </tr>\n    <tr>\n      <th>number</th>\n      <th>01</th>\n      <th>02</th>\n      <th>03</th>\n      <th>04</th>\n      <th>05</th>\n      <th>06</th>\n      <th>07</th>\n      <th>08</th>\n      <th>09</th>\n      <th>10</th>\n      <th>...</th>\n      <th>04</th>\n      <th>05</th>\n      <th>06</th>\n      <th>01</th>\n      <th>01</th>\n      <th>01</th>\n      <th>01</th>\n      <th>01</th>\n      <th>01</th>\n      <th>01</th>\n    </tr>\n    <tr>\n      <th>track_id</th>\n      <th></th>\n      <th></th>\n      <th></th>\n      <th></th>\n      <th></th>\n      <th></th>\n      <th></th>\n      <th></th>\n      <th></th>\n      <th></th>\n      <th></th>\n      <th></th>\n      <th></th>\n      <th></th>\n      <th></th>\n      <th></th>\n      <th></th>\n      <th></th>\n      <th></th>\n      <th></th>\n      <th></th>\n    </tr>\n  </thead>\n  <tbody>\n    <tr>\n      <th>2</th>\n      <td>7.180653</td>\n      <td>5.230309</td>\n      <td>0.249321</td>\n      <td>1.347620</td>\n      <td>1.482478</td>\n      <td>0.531371</td>\n      <td>1.481593</td>\n      <td>2.691455</td>\n      <td>0.866868</td>\n      <td>1.341231</td>\n      <td>...</td>\n      <td>0.054125</td>\n      <td>0.012226</td>\n      <td>0.012111</td>\n      <td>5.758890</td>\n      <td>0.459473</td>\n      <td>0.085629</td>\n      <td>0.071289</td>\n      <td>0.000000</td>\n      <td>2.089872</td>\n      <td>0.061448</td>\n    </tr>\n    <tr>\n      <th>3</th>\n      <td>1.888963</td>\n      <td>0.760539</td>\n      <td>0.345297</td>\n      <td>2.295201</td>\n      <td>1.654031</td>\n      <td>0.067592</td>\n      <td>1.366848</td>\n      <td>1.054094</td>\n      <td>0.108103</td>\n      <td>0.619185</td>\n      <td>...</td>\n      <td>0.063831</td>\n      <td>0.014212</td>\n      <td>0.017740</td>\n      <td>2.824694</td>\n      <td>0.466309</td>\n      <td>0.084578</td>\n      <td>0.063965</td>\n      <td>0.000000</td>\n      <td>1.716724</td>\n      <td>0.069330</td>\n    </tr>\n    <tr>\n      <th>5</th>\n      <td>0.527563</td>\n      <td>-0.077654</td>\n      <td>-0.279610</td>\n      <td>0.685883</td>\n      <td>1.937570</td>\n      <td>0.880839</td>\n      <td>-0.923192</td>\n      <td>-0.927232</td>\n      <td>0.666617</td>\n      <td>1.038546</td>\n      <td>...</td>\n      <td>0.040730</td>\n      <td>0.012691</td>\n      <td>0.014759</td>\n      <td>6.808415</td>\n      <td>0.375000</td>\n      <td>0.053114</td>\n      <td>0.041504</td>\n      <td>0.000000</td>\n      <td>2.193303</td>\n      <td>0.044861</td>\n    </tr>\n    <tr>\n      <th>10</th>\n      <td>3.702245</td>\n      <td>-0.291193</td>\n      <td>2.196742</td>\n      <td>-0.234449</td>\n      <td>1.367364</td>\n      <td>0.998411</td>\n      <td>1.770694</td>\n      <td>1.604566</td>\n      <td>0.521217</td>\n      <td>1.982386</td>\n      <td>...</td>\n      <td>0.074358</td>\n      <td>0.017952</td>\n      <td>0.013921</td>\n      <td>21.434212</td>\n      <td>0.452148</td>\n      <td>0.077515</td>\n      <td>0.071777</td>\n      <td>0.000000</td>\n      <td>3.542325</td>\n      <td>0.040800</td>\n    </tr>\n    <tr>\n      <th>134</th>\n      <td>0.918445</td>\n      <td>0.674147</td>\n      <td>0.577818</td>\n      <td>1.281117</td>\n      <td>0.933746</td>\n      <td>0.078177</td>\n      <td>1.199204</td>\n      <td>-0.175223</td>\n      <td>0.925482</td>\n      <td>1.438509</td>\n      <td>...</td>\n      <td>0.058766</td>\n      <td>0.016322</td>\n      <td>0.015819</td>\n      <td>4.731087</td>\n      <td>0.419434</td>\n      <td>0.064370</td>\n      <td>0.050781</td>\n      <td>0.000000</td>\n      <td>1.806106</td>\n      <td>0.054623</td>\n    </tr>\n    <tr>\n      <th>...</th>\n      <td>...</td>\n      <td>...</td>\n      <td>...</td>\n      <td>...</td>\n      <td>...</td>\n      <td>...</td>\n      <td>...</td>\n      <td>...</td>\n      <td>...</td>\n      <td>...</td>\n      <td>...</td>\n      <td>...</td>\n      <td>...</td>\n      <td>...</td>\n      <td>...</td>\n      <td>...</td>\n      <td>...</td>\n      <td>...</td>\n      <td>...</td>\n      <td>...</td>\n      <td>...</td>\n    </tr>\n    <tr>\n      <th>155315</th>\n      <td>-0.319850</td>\n      <td>0.653044</td>\n      <td>1.300360</td>\n      <td>-0.606061</td>\n      <td>-1.109302</td>\n      <td>-1.006683</td>\n      <td>0.059643</td>\n      <td>0.472580</td>\n      <td>-0.856436</td>\n      <td>-0.524676</td>\n      <td>...</td>\n      <td>0.108577</td>\n      <td>0.016631</td>\n      <td>0.014705</td>\n      <td>6.947788</td>\n      <td>0.188477</td>\n      <td>0.037708</td>\n      <td>0.035156</td>\n      <td>0.002930</td>\n      <td>1.764233</td>\n      <td>0.018679</td>\n    </tr>\n    <tr>\n      <th>155316</th>\n      <td>-0.490129</td>\n      <td>0.463834</td>\n      <td>2.321970</td>\n      <td>-0.084352</td>\n      <td>1.662914</td>\n      <td>2.115189</td>\n      <td>-0.237794</td>\n      <td>5.695442</td>\n      <td>0.830353</td>\n      <td>1.951819</td>\n      <td>...</td>\n      <td>0.128410</td>\n      <td>0.022547</td>\n      <td>0.019816</td>\n      <td>4.448255</td>\n      <td>0.172852</td>\n      <td>0.028773</td>\n      <td>0.028320</td>\n      <td>0.003906</td>\n      <td>0.955388</td>\n      <td>0.012385</td>\n    </tr>\n    <tr>\n      <th>155317</th>\n      <td>-0.461559</td>\n      <td>-0.229601</td>\n      <td>-0.496632</td>\n      <td>-0.422033</td>\n      <td>0.130612</td>\n      <td>-0.263825</td>\n      <td>-0.628103</td>\n      <td>-0.082687</td>\n      <td>-0.229483</td>\n      <td>-0.492753</td>\n      <td>...</td>\n      <td>0.132964</td>\n      <td>0.023548</td>\n      <td>0.026527</td>\n      <td>3.270612</td>\n      <td>0.196289</td>\n      <td>0.031116</td>\n      <td>0.027832</td>\n      <td>0.002441</td>\n      <td>1.283060</td>\n      <td>0.019059</td>\n    </tr>\n    <tr>\n      <th>155318</th>\n      <td>0.552473</td>\n      <td>-0.110498</td>\n      <td>-0.532014</td>\n      <td>0.263131</td>\n      <td>-0.224011</td>\n      <td>-0.530972</td>\n      <td>1.713526</td>\n      <td>1.418444</td>\n      <td>1.325197</td>\n      <td>0.120333</td>\n      <td>...</td>\n      <td>0.108324</td>\n      <td>0.017540</td>\n      <td>0.020471</td>\n      <td>2.356727</td>\n      <td>0.212891</td>\n      <td>0.038450</td>\n      <td>0.037109</td>\n      <td>0.003418</td>\n      <td>0.828569</td>\n      <td>0.017904</td>\n    </tr>\n    <tr>\n      <th>155319</th>\n      <td>-0.176901</td>\n      <td>0.187208</td>\n      <td>-0.050664</td>\n      <td>0.368843</td>\n      <td>0.066005</td>\n      <td>-0.857354</td>\n      <td>-0.780860</td>\n      <td>0.626281</td>\n      <td>-0.630938</td>\n      <td>-0.787229</td>\n      <td>...</td>\n      <td>0.088311</td>\n      <td>0.018328</td>\n      <td>0.017936</td>\n      <td>6.188604</td>\n      <td>0.167480</td>\n      <td>0.041480</td>\n      <td>0.038086</td>\n      <td>0.004883</td>\n      <td>1.818740</td>\n      <td>0.020133</td>\n    </tr>\n  </tbody>\n</table>\n<p>49598 rows × 518 columns</p>\n</div>"
     },
     "execution_count": 18,
     "metadata": {},
     "output_type": "execute_result"
    }
   ],
   "source": [
    "print(len(track_genres))\n",
    "print(len(features_df))\n",
    "features_df.isna().any()\n",
    "features_df"
   ],
   "metadata": {
    "collapsed": false,
    "pycharm": {
     "name": "#%%\n"
    }
   }
  },
  {
   "cell_type": "code",
   "execution_count": 19,
   "outputs": [],
   "source": [
    "# generate train and test set\n",
    "from sklearn.model_selection import train_test_split\n",
    "from sklearn.preprocessing import StandardScaler, LabelEncoder\n",
    "\n",
    "# X_train, X_test, y_train, y_test = train_test_split(features_df.iloc[:8000], track_genres.iloc[:8000], test_size=0.4, random_state=42, stratify=track_genres.iloc[:8000])\n",
    "X_train, X_test, y_train, y_test = train_test_split(features_df, track_genres, test_size=0.4, random_state=42, stratify=track_genres)\n",
    "\n",
    "scaler = StandardScaler()\n",
    "scaler.fit(X_train)\n",
    "\n",
    "X_train = scaler.transform(X_train)\n",
    "X_test = scaler.transform(X_test)\n",
    "\n",
    "lab_encoder = LabelEncoder()\n",
    "lab_encoder.fit(y_train)\n",
    "\n",
    "y_train = lab_encoder.transform(y_train)\n",
    "y_test = lab_encoder.transform(y_test)"
   ],
   "metadata": {
    "collapsed": false,
    "pycharm": {
     "name": "#%%\n"
    }
   }
  },
  {
   "cell_type": "code",
   "execution_count": 20,
   "outputs": [],
   "source": [
    "from sklearn.metrics import classification_report\n",
    "\n",
    "def evaluate_classifier(x_tr, x_te, y_tr, y_te, model):\n",
    "    model.fit(x_tr, y_tr)\n",
    "    prediction = model.predict(x_te)\n",
    "    print(prediction[:10])\n",
    "    print(y_te[:10])\n",
    "    proba_train = model.predict_proba(x_te)\n",
    "    # pd.DataFrame(proba_train, columns=list(np.unique(lab_encoder.inverse_transform(y_train))))\n",
    "    print(pd.DataFrame(proba_train))\n",
    "    print(classification_report(y_te, prediction))"
   ],
   "metadata": {
    "collapsed": false,
    "pycharm": {
     "name": "#%%\n"
    }
   }
  },
  {
   "cell_type": "markdown",
   "source": [
    "<h1>SVM</h1>"
   ],
   "metadata": {
    "collapsed": false,
    "pycharm": {
     "name": "#%% md\n"
    }
   }
  },
  {
   "cell_type": "code",
   "execution_count": 21,
   "outputs": [
    {
     "name": "stdout",
     "output_type": "stream",
     "text": [
      "[ 5  4  4  6 10  6  4  8  4  5]\n",
      "[ 5  4  4  6 13  6  8  5  4  5]\n",
      "             0         1         2         3         4         5         6   \\\n",
      "0      0.000432  0.013030  0.000337  0.000429  0.274691  0.442263  0.061311   \n",
      "1      0.000239  0.000886  0.000148  0.000509  0.865653  0.014122  0.002083   \n",
      "2      0.000046  0.000525  0.000063  0.000101  0.896231  0.040369  0.000118   \n",
      "3      0.001619  0.011390  0.009749  0.000457  0.027445  0.105038  0.617135   \n",
      "4      0.003051  0.040595  0.002443  0.003884  0.059468  0.415369  0.070893   \n",
      "...         ...       ...       ...       ...       ...       ...       ...   \n",
      "19835  0.000038  0.000027  0.001531  0.000006  0.001993  0.005025  0.009321   \n",
      "19836  0.001157  0.000326  0.000938  0.002344  0.460122  0.010532  0.017377   \n",
      "19837  0.001245  0.002974  0.109910  0.000892  0.043867  0.096605  0.055557   \n",
      "19838  0.000146  0.000031  0.000075  0.000032  0.006442  0.016580  0.000112   \n",
      "19839  0.007263  0.004992  0.000521  0.000307  0.026122  0.554551  0.003248   \n",
      "\n",
      "             7         8         9         10        11        12        13  \\\n",
      "0      0.005413  0.096367  0.007914  0.000831  0.000274  0.061649  0.032236   \n",
      "1      0.050030  0.010201  0.001220  0.000414  0.000098  0.014213  0.039604   \n",
      "2      0.020719  0.001955  0.021583  0.000578  0.000014  0.011122  0.003282   \n",
      "3      0.003117  0.040760  0.027509  0.004263  0.005606  0.037735  0.106477   \n",
      "4      0.003786  0.143817  0.006795  0.105322  0.000439  0.072530  0.068661   \n",
      "...         ...       ...       ...       ...       ...       ...       ...   \n",
      "19835  0.000370  0.001665  0.000677  0.000201  0.000019  0.010482  0.968502   \n",
      "19836  0.078670  0.041541  0.025067  0.002916  0.000179  0.135191  0.219631   \n",
      "19837  0.011336  0.010039  0.051786  0.015326  0.001081  0.321613  0.267627   \n",
      "19838  0.000371  0.000842  0.000273  0.001159  0.000002  0.004107  0.968345   \n",
      "19839  0.001797  0.013112  0.003542  0.318505  0.000100  0.008595  0.053818   \n",
      "\n",
      "             14        15  \n",
      "0      0.000387  0.002436  \n",
      "1      0.000339  0.000241  \n",
      "2      0.002944  0.000352  \n",
      "3      0.000734  0.000965  \n",
      "4      0.001178  0.001770  \n",
      "...         ...       ...  \n",
      "19835  0.000063  0.000080  \n",
      "19836  0.003792  0.000215  \n",
      "19837  0.006464  0.003676  \n",
      "19838  0.001404  0.000079  \n",
      "19839  0.001634  0.001894  \n",
      "\n",
      "[19840 rows x 16 columns]\n",
      "              precision    recall  f1-score   support\n",
      "\n",
      "           0       0.69      0.25      0.37        44\n",
      "           1       0.73      0.86      0.79       492\n",
      "           2       0.35      0.49      0.41        78\n",
      "           3       0.25      0.11      0.15         9\n",
      "           4       0.71      0.60      0.65      3749\n",
      "           5       0.65      0.61      0.63      4243\n",
      "           6       0.51      0.66      0.57      1121\n",
      "           7       0.59      0.73      0.65      1421\n",
      "           8       0.30      0.45      0.36       832\n",
      "           9       0.51      0.64      0.57       556\n",
      "          10       0.29      0.55      0.38       228\n",
      "          11       0.91      0.94      0.93       222\n",
      "          12       0.22      0.28      0.25       933\n",
      "          13       0.86      0.70      0.77      5673\n",
      "          14       0.39      0.40      0.39        70\n",
      "          15       0.40      0.75      0.52       169\n",
      "\n",
      "    accuracy                           0.63     19840\n",
      "   macro avg       0.52      0.56      0.52     19840\n",
      "weighted avg       0.67      0.63      0.64     19840\n",
      "\n"
     ]
    }
   ],
   "source": [
    "from sklearn.svm import SVC\n",
    "\n",
    "svm_model = SVC(kernel='rbf', class_weight='balanced', probability=True)\n",
    "evaluate_classifier(X_train, X_test, y_train, y_test, svm_model)"
   ],
   "metadata": {
    "collapsed": false,
    "pycharm": {
     "name": "#%%\n"
    }
   }
  },
  {
   "cell_type": "markdown",
   "source": [
    "<h1>K-nearest neighbors</h1>"
   ],
   "metadata": {
    "collapsed": false,
    "pycharm": {
     "name": "#%% md\n"
    }
   }
  },
  {
   "cell_type": "code",
   "execution_count": 22,
   "outputs": [
    {
     "name": "stdout",
     "output_type": "stream",
     "text": [
      "[ 5  4  7  6  5  5  4  5  4 13]\n",
      "[ 5  4  4  6 13  6  8  5  4  5]\n",
      "        0    1    2    3    4    5    6    7    8    9    10   11   12   13  \\\n",
      "0      0.0  0.0  0.0  0.0  0.2  0.4  0.4  0.0  0.0  0.0  0.0  0.0  0.0  0.0   \n",
      "1      0.0  0.0  0.0  0.0  0.6  0.0  0.0  0.0  0.0  0.0  0.0  0.0  0.0  0.4   \n",
      "2      0.0  0.0  0.0  0.0  0.2  0.0  0.0  0.8  0.0  0.0  0.0  0.0  0.0  0.0   \n",
      "3      0.0  0.0  0.0  0.0  0.0  0.0  1.0  0.0  0.0  0.0  0.0  0.0  0.0  0.0   \n",
      "4      0.0  0.2  0.0  0.0  0.0  0.4  0.0  0.0  0.2  0.0  0.2  0.0  0.0  0.0   \n",
      "...    ...  ...  ...  ...  ...  ...  ...  ...  ...  ...  ...  ...  ...  ...   \n",
      "19835  0.0  0.0  0.0  0.0  0.0  0.0  0.0  0.0  0.0  0.0  0.0  0.0  0.0  1.0   \n",
      "19836  0.0  0.0  0.0  0.0  0.2  0.0  0.2  0.0  0.2  0.0  0.0  0.0  0.0  0.4   \n",
      "19837  0.0  0.0  0.2  0.0  0.0  0.0  0.0  0.0  0.0  0.0  0.4  0.0  0.4  0.0   \n",
      "19838  0.0  0.0  0.0  0.0  0.0  0.0  0.0  0.0  0.0  0.0  0.0  0.0  0.0  1.0   \n",
      "19839  0.0  0.0  0.0  0.0  0.0  1.0  0.0  0.0  0.0  0.0  0.0  0.0  0.0  0.0   \n",
      "\n",
      "        14   15  \n",
      "0      0.0  0.0  \n",
      "1      0.0  0.0  \n",
      "2      0.0  0.0  \n",
      "3      0.0  0.0  \n",
      "4      0.0  0.0  \n",
      "...    ...  ...  \n",
      "19835  0.0  0.0  \n",
      "19836  0.0  0.0  \n",
      "19837  0.0  0.0  \n",
      "19838  0.0  0.0  \n",
      "19839  0.0  0.0  \n",
      "\n",
      "[19840 rows x 16 columns]\n",
      "              precision    recall  f1-score   support\n",
      "\n",
      "           0       0.22      0.18      0.20        44\n",
      "           1       0.55      0.85      0.67       492\n",
      "           2       0.15      0.29      0.20        78\n",
      "           3       0.03      0.11      0.05         9\n",
      "           4       0.61      0.50      0.55      3749\n",
      "           5       0.59      0.56      0.57      4243\n",
      "           6       0.47      0.50      0.48      1121\n",
      "           7       0.50      0.57      0.53      1421\n",
      "           8       0.48      0.13      0.20       832\n",
      "           9       0.49      0.54      0.51       556\n",
      "          10       0.39      0.24      0.30       228\n",
      "          11       0.91      0.92      0.91       222\n",
      "          12       0.30      0.10      0.15       933\n",
      "          13       0.64      0.83      0.73      5673\n",
      "          14       0.50      0.10      0.17        70\n",
      "          15       0.60      0.40      0.48       169\n",
      "\n",
      "    accuracy                           0.59     19840\n",
      "   macro avg       0.46      0.43      0.42     19840\n",
      "weighted avg       0.57      0.59      0.57     19840\n",
      "\n"
     ]
    }
   ],
   "source": [
    "from sklearn.neighbors import KNeighborsClassifier\n",
    "\n",
    "knn_model = KNeighborsClassifier()\n",
    "evaluate_classifier(X_train, X_test, y_train, y_test, knn_model)"
   ],
   "metadata": {
    "collapsed": false,
    "pycharm": {
     "name": "#%%\n"
    }
   }
  },
  {
   "cell_type": "markdown",
   "source": [
    "<h1>Random forest</h1>"
   ],
   "metadata": {
    "collapsed": false,
    "pycharm": {
     "name": "#%% md\n"
    }
   },
   "outputs": [
    {
     "ename": "SyntaxError",
     "evalue": "invalid syntax (3960551033.py, line 1)",
     "output_type": "error",
     "traceback": [
      "\u001B[0;36m  Input \u001B[0;32mIn [12]\u001B[0;36m\u001B[0m\n\u001B[0;31m    <h1>Random forest</h1>\u001B[0m\n\u001B[0m    ^\u001B[0m\n\u001B[0;31mSyntaxError\u001B[0m\u001B[0;31m:\u001B[0m invalid syntax\n"
     ]
    }
   ],
   "execution_count": 12
  },
  {
   "cell_type": "code",
   "execution_count": 23,
   "outputs": [
    {
     "name": "stdout",
     "output_type": "stream",
     "text": [
      "[ 5  4  4  6  5  6  4  5  4 13]\n",
      "[ 5  4  4  6 13  6  8  5  4  5]\n",
      "         0     1     2    3     4     5     6     7     8     9     10    11  \\\n",
      "0      0.00  0.10  0.00  0.0  0.19  0.41  0.04  0.04  0.02  0.06  0.02  0.01   \n",
      "1      0.00  0.01  0.01  0.0  0.66  0.09  0.00  0.06  0.01  0.03  0.00  0.00   \n",
      "2      0.00  0.00  0.00  0.0  0.64  0.14  0.01  0.12  0.01  0.01  0.00  0.00   \n",
      "3      0.00  0.02  0.01  0.0  0.07  0.15  0.50  0.01  0.02  0.10  0.00  0.03   \n",
      "4      0.01  0.15  0.00  0.0  0.15  0.30  0.05  0.04  0.07  0.03  0.02  0.00   \n",
      "...     ...   ...   ...  ...   ...   ...   ...   ...   ...   ...   ...   ...   \n",
      "19835  0.00  0.00  0.00  0.0  0.01  0.02  0.00  0.00  0.01  0.00  0.00  0.00   \n",
      "19836  0.00  0.00  0.01  0.0  0.29  0.09  0.03  0.09  0.05  0.05  0.01  0.00   \n",
      "19837  0.00  0.00  0.00  0.0  0.08  0.26  0.06  0.05  0.05  0.07  0.00  0.00   \n",
      "19838  0.00  0.00  0.01  0.0  0.05  0.03  0.01  0.04  0.00  0.00  0.00  0.00   \n",
      "19839  0.00  0.00  0.00  0.0  0.07  0.70  0.00  0.03  0.04  0.00  0.00  0.01   \n",
      "\n",
      "         12    13    14    15  \n",
      "0      0.06  0.05  0.00  0.00  \n",
      "1      0.01  0.09  0.03  0.00  \n",
      "2      0.01  0.03  0.02  0.01  \n",
      "3      0.01  0.07  0.01  0.00  \n",
      "4      0.04  0.13  0.00  0.01  \n",
      "...     ...   ...   ...   ...  \n",
      "19835  0.00  0.96  0.00  0.00  \n",
      "19836  0.11  0.25  0.01  0.01  \n",
      "19837  0.05  0.37  0.01  0.00  \n",
      "19838  0.02  0.84  0.00  0.00  \n",
      "19839  0.04  0.09  0.01  0.01  \n",
      "\n",
      "[19840 rows x 16 columns]\n",
      "              precision    recall  f1-score   support\n",
      "\n",
      "           0       0.00      0.00      0.00        44\n",
      "           1       0.79      0.73      0.75       492\n",
      "           2       0.00      0.00      0.00        78\n",
      "           3       0.00      0.00      0.00         9\n",
      "           4       0.59      0.69      0.63      3749\n",
      "           5       0.52      0.72      0.61      4243\n",
      "           6       0.63      0.50      0.56      1121\n",
      "           7       0.78      0.45      0.57      1421\n",
      "           8       0.56      0.12      0.20       832\n",
      "           9       0.93      0.22      0.36       556\n",
      "          10       1.00      0.02      0.04       228\n",
      "          11       0.95      0.83      0.89       222\n",
      "          12       0.64      0.02      0.03       933\n",
      "          13       0.69      0.83      0.75      5673\n",
      "          14       0.00      0.00      0.00        70\n",
      "          15       0.74      0.19      0.30       169\n",
      "\n",
      "    accuracy                           0.62     19840\n",
      "   macro avg       0.55      0.33      0.36     19840\n",
      "weighted avg       0.64      0.62      0.59     19840\n",
      "\n"
     ]
    },
    {
     "name": "stderr",
     "output_type": "stream",
     "text": [
      "/home/lorenzo/Desktop/ML/venv/lib/python3.10/site-packages/sklearn/metrics/_classification.py:1327: UndefinedMetricWarning: Precision and F-score are ill-defined and being set to 0.0 in labels with no predicted samples. Use `zero_division` parameter to control this behavior.\n",
      "  _warn_prf(average, modifier, msg_start, len(result))\n",
      "/home/lorenzo/Desktop/ML/venv/lib/python3.10/site-packages/sklearn/metrics/_classification.py:1327: UndefinedMetricWarning: Precision and F-score are ill-defined and being set to 0.0 in labels with no predicted samples. Use `zero_division` parameter to control this behavior.\n",
      "  _warn_prf(average, modifier, msg_start, len(result))\n",
      "/home/lorenzo/Desktop/ML/venv/lib/python3.10/site-packages/sklearn/metrics/_classification.py:1327: UndefinedMetricWarning: Precision and F-score are ill-defined and being set to 0.0 in labels with no predicted samples. Use `zero_division` parameter to control this behavior.\n",
      "  _warn_prf(average, modifier, msg_start, len(result))\n"
     ]
    }
   ],
   "source": [
    "from sklearn.ensemble import RandomForestClassifier\n",
    "\n",
    "rf_model = RandomForestClassifier()\n",
    "evaluate_classifier(X_train, X_test, y_train, y_test, rf_model)"
   ],
   "metadata": {
    "collapsed": false,
    "pycharm": {
     "name": "#%%\n"
    }
   }
  },
  {
   "cell_type": "markdown",
   "source": [
    "<h1>Naive bayes</h1>"
   ],
   "metadata": {
    "collapsed": false,
    "pycharm": {
     "name": "#%% md\n"
    }
   }
  },
  {
   "cell_type": "code",
   "execution_count": 24,
   "outputs": [
    {
     "name": "stdout",
     "output_type": "stream",
     "text": [
      "[ 9  7 14  8  0  0  9  0 14 15]\n",
      "[ 5  4  4  6 13  6  8  5  4  5]\n",
      "                  0              1              2              3   \\\n",
      "0      1.127962e-103   1.172761e-89  7.477034e-115  3.952615e-285   \n",
      "1       0.000000e+00   0.000000e+00   2.305856e-28   0.000000e+00   \n",
      "2      6.121847e-139  3.976450e-249   6.677090e-93   0.000000e+00   \n",
      "3       0.000000e+00  7.459192e-132   0.000000e+00   0.000000e+00   \n",
      "4       1.000000e+00   1.498967e-78   1.286719e-51  8.605260e-134   \n",
      "...              ...            ...            ...            ...   \n",
      "19835   0.000000e+00   0.000000e+00   1.000000e+00   0.000000e+00   \n",
      "19836   9.855986e-01  1.048532e-174   1.430670e-02   9.689771e-72   \n",
      "19837   0.000000e+00  2.978627e-186   1.000000e+00   0.000000e+00   \n",
      "19838   5.747807e-64  2.047683e-268   1.089491e-20  7.039238e-147   \n",
      "19839   9.796013e-11  3.963807e-163   8.598054e-38  3.379273e-128   \n",
      "\n",
      "                  4              5              6              7   \\\n",
      "0      6.578748e-122  3.891496e-117   9.231407e-71  4.143146e-311   \n",
      "1       9.865103e-26   2.586665e-53   1.623700e-63   9.999975e-01   \n",
      "2      8.903156e-171  2.411210e-206  1.053590e-169   3.073438e-86   \n",
      "3       9.133282e-42   3.352123e-28   4.964894e-63  1.479751e-299   \n",
      "4      7.649485e-160  1.113792e-161   1.908065e-69  3.252064e-137   \n",
      "...              ...            ...            ...            ...   \n",
      "19835  5.721101e-109  4.823581e-119   5.264641e-65  6.709858e-118   \n",
      "19836  3.421408e-171  2.387460e-197   3.699662e-89   2.087826e-81   \n",
      "19837  6.865560e-184  7.208602e-190   1.044356e-91  1.295458e-127   \n",
      "19838  3.783457e-157  1.407274e-179  2.460051e-122   1.963543e-72   \n",
      "19839  4.465901e-167  3.425053e-186  3.959810e-112   3.874899e-89   \n",
      "\n",
      "                  8              9             10             11  \\\n",
      "0      5.815903e-111   1.000000e+00  4.666439e-75   3.166505e-61   \n",
      "1       1.450153e-85  4.612833e-141  6.550636e-19   0.000000e+00   \n",
      "2      1.856927e-229   1.681252e-59  8.207240e-78  7.444017e-313   \n",
      "3       9.987976e-01   0.000000e+00  8.648017e-70   0.000000e+00   \n",
      "4      3.848851e-146   5.231419e-21  2.173645e-09  5.032823e-103   \n",
      "...              ...            ...           ...            ...   \n",
      "19835  1.084518e-138   2.977669e-42  2.672989e-42   0.000000e+00   \n",
      "19836  1.953750e-187   2.267558e-31  4.621957e-35  3.583863e-169   \n",
      "19837  4.701374e-190   1.045914e-16  3.039695e-52   5.373073e-93   \n",
      "19838  9.948222e-199   3.093472e-50  3.957587e-59   0.000000e+00   \n",
      "19839  4.557215e-193   7.024679e-49  9.721686e-30  7.100842e-164   \n",
      "\n",
      "                  12             13             14             15  \n",
      "0      1.528666e-131  1.899840e-179  7.954457e-322   1.327031e-51  \n",
      "1       1.045769e-47   2.464310e-06  1.600903e-104  4.452185e-134  \n",
      "2      4.498530e-198  3.321832e-181   1.000000e+00   3.191589e-54  \n",
      "3       1.202446e-03   2.881198e-45   0.000000e+00   0.000000e+00  \n",
      "4      7.187984e-151  1.627383e-172   6.509414e-69   2.487699e-67  \n",
      "...              ...            ...            ...            ...  \n",
      "19835  1.179605e-100   1.582358e-20   2.530201e-63   7.062088e-61  \n",
      "19836  8.949138e-157  2.079241e-120   9.467600e-05   3.758420e-65  \n",
      "19837  4.477336e-154  3.294882e-119   2.264610e-51   4.533416e-60  \n",
      "19838  7.654680e-154   3.021157e-83   1.000000e+00   4.447011e-72  \n",
      "19839  4.464001e-168  7.045502e-123   1.000000e+00   2.490627e-44  \n",
      "\n",
      "[19840 rows x 16 columns]\n",
      "              precision    recall  f1-score   support\n",
      "\n",
      "           0       0.01      0.55      0.01        44\n",
      "           1       0.75      0.15      0.25       492\n",
      "           2       0.02      0.59      0.04        78\n",
      "           3       0.00      0.00      0.00         9\n",
      "           4       0.51      0.02      0.04      3749\n",
      "           5       0.55      0.07      0.13      4243\n",
      "           6       0.21      0.07      0.11      1121\n",
      "           7       0.22      0.05      0.08      1421\n",
      "           8       0.18      0.06      0.09       832\n",
      "           9       0.07      0.37      0.12       556\n",
      "          10       0.04      0.14      0.07       228\n",
      "          11       0.38      0.92      0.54       222\n",
      "          12       0.24      0.03      0.05       933\n",
      "          13       0.62      0.10      0.18      5673\n",
      "          14       0.01      0.74      0.02        70\n",
      "          15       0.08      0.38      0.13       169\n",
      "\n",
      "    accuracy                           0.10     19840\n",
      "   macro avg       0.24      0.27      0.12     19840\n",
      "weighted avg       0.46      0.10      0.12     19840\n",
      "\n"
     ]
    }
   ],
   "source": [
    "from sklearn.naive_bayes import GaussianNB\n",
    "\n",
    "nb_model = GaussianNB()\n",
    "evaluate_classifier(X_train, X_test, y_train, y_test, nb_model)"
   ],
   "metadata": {
    "collapsed": false,
    "pycharm": {
     "name": "#%%\n"
    }
   }
  },
  {
   "cell_type": "code",
   "execution_count": null,
   "outputs": [],
   "source": [],
   "metadata": {
    "collapsed": false,
    "pycharm": {
     "name": "#%%\n"
    }
   }
  }
 ],
 "metadata": {
  "kernelspec": {
   "display_name": "Python 3",
   "language": "python",
   "name": "python3"
  },
  "language_info": {
   "codemirror_mode": {
    "name": "ipython",
    "version": 2
   },
   "file_extension": ".py",
   "mimetype": "text/x-python",
   "name": "python",
   "nbconvert_exporter": "python",
   "pygments_lexer": "ipython2",
   "version": "2.7.6"
  }
 },
 "nbformat": 4,
 "nbformat_minor": 0
}